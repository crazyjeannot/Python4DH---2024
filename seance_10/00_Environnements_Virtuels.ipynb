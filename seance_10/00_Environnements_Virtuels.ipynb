{
 "cells": [
  {
   "cell_type": "markdown",
   "id": "16231c65-ae8a-4eaa-9b39-bc46631c08e6",
   "metadata": {},
   "source": [
    "# Environnements Virtuels\n",
    "\n",
    "Il est crucial de travailler avec des environnements virtuels (`venv`) pour des projets particuliers afin de garantir l'isolation des dépendances, assurant ainsi la cohérence de l'environnement d'exécution. Cela permet de prévenir les conflits entre différentes versions de bibliothèques, favorisant ainsi la reproductibilité des résultats et facilitant le partage et le déploiement du projet dans des contextes variés.\n",
    "\n",
    "En Python, deux des outils les plus couramment utilisés pour la gestion d'environnements virtuels sont `venv` (Virtual Environment) et `conda env` (Conda Environment). `venv` est inclus dans la bibliothèque standard de Python, offrant une solution légère et simple pour créer des environnements virtuels. Avec `venv`, les développeurs peuvent isoler les dépendances de leurs projets, garantissant une compatibilité et une reproductibilité optimales. Cependant, il est important de noter que `venv` n'est pas toujours aussi puissant que d'autres gestionnaires d'environnements dans la gestion de dépendances non Python.\n",
    "\n",
    "D'un autre côté, Conda, un gestionnaire de paquets et un gestionnaire d'environnements, propose `conda env` pour créer des environnements virtuels. Conda excelle dans la gestion de dépendances non Python, ce qui le rend particulièrement utile pour des projets complexes avec des bibliothèques provenant de différentes sources. De plus, Conda offre une installation plus rapide des bibliothèques compilées, ce qui peut être avantageux dans certaines situations.\n",
    "\n",
    "Voici les étapes pour créer un environnement virtuel, l'activer, installer `ipykernel`, lier l'environnement à un kernel Jupyter, lancer un notebook Jupyter, et désactiver l'environnement, le tout pour Mac, Linux et Windows.\n",
    "\n",
    "### Pour Mac et Linux :\n",
    "\n",
    "```bash\n",
    "# Créer un environnement virtuel\n",
    "python3 -m venv basic_env\n",
    "\n",
    "# Activer l'environnement virtuel\n",
    "source basic_env/bin/activate\n",
    "\n",
    "# Installer ipykernel\n",
    "pip install ipykernel\n",
    "\n",
    "# Lier l'environnement à un kernel Jupyter\n",
    "python -m ipykernel install --user --name=basic_env\n",
    "\n",
    "# Lancer un notebook Jupyter\n",
    "jupyter-notebook\n",
    "\n",
    "# Désactiver l'environnement virtuel\n",
    "deactivate\n",
    "```\n",
    "\n",
    "### Pour Windows :\n",
    "\n",
    "```bash\n",
    "# Créer un environnement virtuel\n",
    "python -m venv basic_env\n",
    "\n",
    "# Activer l'environnement virtuel\n",
    ".\\basic_env\\Scripts\\activate\n",
    "\n",
    "# Installer ipykernel\n",
    "pip install ipykernel\n",
    "\n",
    "# Lier l'environnement à un kernel Jupyter\n",
    "python -m ipykernel install --user --name=basic_env\n",
    "\n",
    "# Lancer un notebook Jupyter\n",
    "jupyter-notebook\n",
    "\n",
    "# Désactiver l'environnement virtuel\n",
    "deactivate\n",
    "```\n",
    "\n",
    "Note : Assurez-vous d'avoir Python et `pip` installés sur votre système avant d'exécuter ces commandes. De plus, la commande d'activation pour Windows peut varier en fonction de votre shell (Command Prompt ou PowerShell). Ajustez en conséquence selon votre shell."
   ]
  },
  {
   "cell_type": "code",
   "execution_count": null,
   "id": "e7b83180-7806-4dc9-81bc-8855c9ae0eb7",
   "metadata": {},
   "outputs": [],
   "source": []
  }
 ],
 "metadata": {
  "kernelspec": {
   "display_name": "Python 3 (ipykernel)",
   "language": "python",
   "name": "python3"
  },
  "language_info": {
   "codemirror_mode": {
    "name": "ipython",
    "version": 3
   },
   "file_extension": ".py",
   "mimetype": "text/x-python",
   "name": "python",
   "nbconvert_exporter": "python",
   "pygments_lexer": "ipython3",
   "version": "3.10.12"
  }
 },
 "nbformat": 4,
 "nbformat_minor": 5
}
