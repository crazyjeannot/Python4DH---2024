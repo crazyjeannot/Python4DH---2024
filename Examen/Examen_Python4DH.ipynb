{
 "cells": [
  {
   "cell_type": "markdown",
   "id": "1fbf16ab-4c68-4e40-85ef-66af14ee718b",
   "metadata": {},
   "source": [
    "# Python pour les Humanités - Consignes Examen\n",
    "\n",
    "*Jean Barré - Janvier 2024*\n",
    "\n",
    "---\n",
    "\n",
    "## Exercice 1: Manipulations de base\n",
    "**Librairies utilisables (exclusif) : random**\n",
    "\n",
    "1. **Travaux préliminaires:**\n",
    "    - Sans utiliser `max()`, créer une fonction `maxval` qui prend en entrée deux entiers et retourne le plus grand des deux.\n",
    "    - Sans utiliser `min()`, créer une fonction `minval` qui prend en entrée deux entiers et retourne le plus petit des deux.\n",
    "    - Générer une liste `ListAlea` composée de 20 nombres aléatoires compris entre 0 et 30 (en cas de non réussite, définir une liste de 20 entiers compris entre 0 et 30, non triée et avec répétitions).\n",
    "    - Créer une fonction `Existence` qui prend en entrée deux listes et retourne le dictionnaire des fréquences d’apparition des entiers de la liste {clef = nombre: valeur = nombre d'apparition}.\n",
    "    - Enregistrer ces fonctions et cette liste dans un fichier `maths_exam.py` et l’importer dans votre notebook.\n",
    "\n",
    "Soit la liste suivante:\n",
    "```python\n",
    "ListExam1=[1, \"chameau\", 0.9, 16, 7, 2, 0, 12, 32, \"elephant\", (0,0), 3, 25, 5, 4, 18, 27, 22, 1, 32]\n",
    "```\n",
    "\n",
    "2. Trouver le maximum et le minimum de cette liste en utilisant les fonctions précédentes. Toutes les exceptions devront être traitées dans le fichier `maths_exam.py`.\n",
    "3. En utilisant les fonctions précédentes, pour chaque élément de `ListExam1`, dire s’il se trouve ou non dans `ListAlea`.\n"
   ]
  },
  {
   "cell_type": "code",
   "execution_count": null,
   "id": "f848a990-1eb7-44f9-81a5-76236cce2f01",
   "metadata": {},
   "outputs": [],
   "source": []
  },
  {
   "cell_type": "markdown",
   "id": "feb659bb-c8bc-4035-8854-2f0153c45f5e",
   "metadata": {},
   "source": [
    "## Exercice 2: Matrice et crible d'Ératosthène\n",
    "\n",
    "### 1-A Échiquier\n",
    "\n",
    "- Créer une matrice échiquier (des 1 et des 0 alternés) de taille $8 \\times 8$, de deux façons différentes:\n",
    "    1. En vous servant de slices.\n",
    "    2. En vous servant de la fonction [tile](http://docs.scipy.org/doc/numpy/reference/generated/numpy.tile.html#numpy.tile).\n",
    "\n",
    "### 1-B Piège lors d'une extraction 2D\n",
    "\n",
    "- Définir la matrice $M = \\left(\\begin{array}{ccccc} 1 & 5 & 9 & 13 & 17 \\\\ 2 & 6 & 10 & 14 & 18 \\\\ 3 & 7 & 11 & 15 & 19 \\\\ 4 & 8 & 12 & 16 & 20 \\end{array}\\right)$.\n",
    "- En **extraire** la matrice $\\left(\\begin{array}{ccc} 6 & 18 & 10 \\\\ 7 & 19 & 11 \\\\ 5 & 17 & 9 \\end{array}\\right)$.\n",
    "\n",
    "### 1-C Crible d'Erathosthène\n",
    "\n",
    "On souhaite implémenter un [crible d'Ératosthène](http://fr.wikipedia.org/wiki/Crible_d'%C3%89ratosth%C3%A8ne) pour trouver les nombres premiers inférieurs à $N=1000$.\n",
    "\n",
    "- Partir d'un array de booléens de taille $N+1$, tous égaux à True.\n",
    "- Mettre 0 et 1 à False car ils ne sont pas premiers.\n",
    "- Pour chaque entier $k$ entre 2 et $\\sqrt{N}$:\n",
    "    - Si $k$ est premier, on passe ses multiples (entre $k^2$ et $N$) à False.\n",
    "- On retourne la liste des entiers premiers.\n"
   ]
  },
  {
   "cell_type": "code",
   "execution_count": null,
   "id": "fcf7152c-0e55-47e4-9f56-604911126e7b",
   "metadata": {},
   "outputs": [],
   "source": []
  },
  {
   "cell_type": "markdown",
   "id": "1972546f-9ce3-4d98-8d8c-977782b8d1b3",
   "metadata": {},
   "source": [
    "## Exercice 3: Balzac et Sand\n",
    "**Restriction: Les fonctions lambda ne sont pas autorisées**\n",
    "\n",
    "L'objectif de cet exercice est d'évaluer la différence des styles entre Balzac et George Sand.\n",
    "\n",
    "**Version courte:** Créer un module capable de calculer la fréquence relative des $N=100$ mots les plus fréquents, puis de calculer la distance euclidienne entre chaque texte. \n",
    "\n",
    "La ligne de commande suivante doit réaliser le travail:\n",
    "```bash\n",
    "python examen_ex3.py -i chemin_dossier_txt -a output_frequences.csv -b output_distances.csv -n 100 -sw mots_outils.json\n",
    "```\n",
    "\n",
    "**Version longue:**\n",
    "\n",
    "- Créer une fonction qui ouvre les fichiers txt du dossier 'data'.\n",
    "- Une autre qui calcule la fréquence relative des $N=100$ mots les plus fréquents (relative à la longueur du roman), retourne et sauve le résultat sous la forme d'un dataframe (10 lignes = 10 romans, 100 colonnes = 100 mots).\n",
    "- Faire la même chose, mais prendre en compte le fichier `mots_outils_fr.json` qui est une liste des mots outils pour le français. Cette fonction compte la fréquence des mots si et seulement s'ils ne sont pas dans la liste de mots-outils.\n",
    "- Écrire une fonction qui calcule la distance euclidienne entre chaque texte, retourne et sauve le résultat sous la forme d'un dataframe. \n",
    "- Interpréter les résultats avec et sans mots-outils. \n",
    "- Implémenter un module Python `examen_ex3.py` qui utilise les fonctions précédemment définies et sauvegarde les fichiers résultants. La ligne de commande suivante doit s'exécuter correctement:\n",
    "```bash\n",
    "python examen_ex3.py -i chemin_dossier_txt -a output_frequences.csv -b output_distances.csv -n 100 -sw mots_outils.json\n",
    "```\n",
    "- **Bonus**: Visualiser les résultats des distances sous la forme de plusieurs graphes (une carte de chaleur des distance et une autre), expliquer votre choix de visualisation."
   ]
  },
  {
   "cell_type": "code",
   "execution_count": null,
   "id": "0b3b757a-e985-48d2-afd2-c5c5b76989f9",
   "metadata": {},
   "outputs": [],
   "source": []
  },
  {
   "cell_type": "markdown",
   "id": "aa993039-7213-4daf-ae6c-9cab6a9ad22c",
   "metadata": {},
   "source": []
  }
 ],
 "metadata": {
  "kernelspec": {
   "display_name": "Python 3 (ipykernel)",
   "language": "python",
   "name": "python3"
  },
  "language_info": {
   "codemirror_mode": {
    "name": "ipython",
    "version": 3
   },
   "file_extension": ".py",
   "mimetype": "text/x-python",
   "name": "python",
   "nbconvert_exporter": "python",
   "pygments_lexer": "ipython3",
   "version": "3.10.12"
  }
 },
 "nbformat": 4,
 "nbformat_minor": 5
}
