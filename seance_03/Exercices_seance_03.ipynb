{
 "cells": [
  {
   "cell_type": "markdown",
   "id": "f9ec1450-cf80-4cfa-8d3e-e46593552719",
   "metadata": {},
   "source": [
    "### Exercices Séance 3.\n",
    "\n",
    "*Vous ne pouvez pas utiliser la fonction `Counter` de la librairie `collections`*\n",
    "\n",
    "**1/** Créer une fonction `compte_mots` qui prend en paramètre une liste de mot et retourne les fréquences d'apparition dans un dictionnaire des mots.\n",
    "\n",
    "**2/** Créer une fonction `sauvegarde` qui prend en paramètre deux listes, écrit dans deux fichiers distincts, `mots_peu_frequents.txt` et `mots_très_frequents.txt` et ne retourne rien.\n",
    "\n",
    "**3/** Créer une fonction `main` qui prend en paramètre un chemin de fichier (au choix dans ../data/txt/roman_choisi.txt), deux nombres N, et M (valeur par défaut=10), créé une liste de tous les mots du fichier txt, appelle la fonction `compte_mots` avec cette liste créée en argument, puis récupère le dictionnaire de sortie et crée deux listes, une première avec les N mots les plus fréquents, une seconde avec les M les moins fréquents. Enfin elle appelle la fonction `sauvegarde` et retourne les deux listes\n",
    "\n"
   ]
  },
  {
   "cell_type": "code",
   "execution_count": 1,
   "id": "12787000-ea20-4992-b609-49b5663af27d",
   "metadata": {},
   "outputs": [],
   "source": [
    "mes_mots = ['liste', 'de', 'de', 'mots']"
   ]
  },
  {
   "cell_type": "code",
   "execution_count": null,
   "id": "480a0d79-6d9a-4128-a79d-af1321a45170",
   "metadata": {},
   "outputs": [],
   "source": [
    "def compte_mots(liste_mots):\n",
    "    ###"
   ]
  },
  {
   "cell_type": "code",
   "execution_count": 6,
   "id": "eb1b7b4e-83d1-44c1-b917-6a9fa46ae1aa",
   "metadata": {},
   "outputs": [],
   "source": [
    "mon_dico = compte_mots(mes_mots)"
   ]
  },
  {
   "cell_type": "code",
   "execution_count": 7,
   "id": "537ecbf1-95e6-4e23-aded-94be7939fb45",
   "metadata": {},
   "outputs": [
    {
     "data": {
      "text/plain": [
       "{'liste': 1, 'de': 2, 'mots': 1}"
      ]
     },
     "execution_count": 7,
     "metadata": {},
     "output_type": "execute_result"
    }
   ],
   "source": [
    "mon_dico"
   ]
  },
  {
   "cell_type": "code",
   "execution_count": 30,
   "id": "04b2328a-1b19-4ce4-9f1e-d71bb5b5f94c",
   "metadata": {},
   "outputs": [],
   "source": [
    "def sauvegarde(list_1, list_2):\n",
    "    ###"
   ]
  },
  {
   "cell_type": "markdown",
   "id": "c793304f-b20a-42f8-a3b4-9af3bb189bcf",
   "metadata": {},
   "source": [
    "**Créer une fonction main qui prend en paramètre un chemin de fichier (au choix dans ../data/txt/roman_choisi.txt), deux nombres N, et M (valeur par défaut=10), créé une liste de tous les mots du fichier txt, appelle la fonction compte_mots avec cette liste créée en argument, puis récupère le dictionnaire de sortie et crée deux listes, une première avec les N mots les plus fréquents, une seconde avec les M les moins fréquents. Enfin elle appelle la fonction sauvegarde et retourne les deux listes**"
   ]
  },
  {
   "cell_type": "code",
   "execution_count": null,
   "id": "c1df0f12-d916-4fed-9a8f-0d747cc40b94",
   "metadata": {},
   "outputs": [],
   "source": []
  },
  {
   "cell_type": "code",
   "execution_count": null,
   "id": "19afb506-5f65-435f-bba5-a61c7562670f",
   "metadata": {},
   "outputs": [],
   "source": []
  },
  {
   "cell_type": "code",
   "execution_count": 19,
   "id": "02b14f6f-92d9-4079-b003-b35cbbe7c705",
   "metadata": {},
   "outputs": [],
   "source": [
    "chemin_fichier = \"../data/txt/1930_Colette_Sido.txt\""
   ]
  },
  {
   "cell_type": "code",
   "execution_count": 34,
   "id": "606ee8e8-5337-4353-a9fa-630a33854f6a",
   "metadata": {},
   "outputs": [],
   "source": [
    "def main(chemin_fichier, N=10, M=10):\n",
    "    ###"
   ]
  },
  {
   "cell_type": "code",
   "execution_count": null,
   "id": "3f71aed3-e910-4947-901e-dcc47aba0efc",
   "metadata": {},
   "outputs": [],
   "source": [
    "."
   ]
  }
 ],
 "metadata": {
  "kernelspec": {
   "display_name": "Python 3 (ipykernel)",
   "language": "python",
   "name": "python3"
  },
  "language_info": {
   "codemirror_mode": {
    "name": "ipython",
    "version": 3
   },
   "file_extension": ".py",
   "mimetype": "text/x-python",
   "name": "python",
   "nbconvert_exporter": "python",
   "pygments_lexer": "ipython3",
   "version": "3.12.3"
  }
 },
 "nbformat": 4,
 "nbformat_minor": 5
}
