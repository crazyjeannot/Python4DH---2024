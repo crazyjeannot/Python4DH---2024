{
 "cells": [
  {
   "cell_type": "markdown",
   "id": "f9ec1450-cf80-4cfa-8d3e-e46593552719",
   "metadata": {},
   "source": [
    "# Exercices Séance 3.\n",
    "\n",
    "Vous ne pouvez pas utiliser la fonction Counter de la librairie collections\n",
    "\n",
    "### Version courte:\n",
    "\n",
    "Créer une fonction qui lit un fichier txt, compte les mots du fichier, en récupère les listes des mots les plus et les moins fréquents, retourne ces listes et sauvegarde le résultat dans des nouveaux fichiers txt.\n",
    "\n",
    "### Version détaillée:\n",
    "\n",
    "**1/** Créer une fonction `compte_mots` qui prend en paramètre une liste de mots et retourne les fréquences d'apparition dans un dictionnaire des mots.\n"
   ]
  },
  {
   "cell_type": "code",
   "execution_count": 2,
   "id": "994ffabc-04e7-41ad-b4f7-a733db82514b",
   "metadata": {},
   "outputs": [],
   "source": [
    "def compte_mots(liste_mots):\n",
    "    mots_comptes = {}\n",
    "    for mot in liste_mots:\n",
    "        if mot in mots_comptes:\n",
    "            mots_comptes[mot] += 1\n",
    "        else:\n",
    "            mots_comptes[mot] = 1\n",
    "    return mots_comptes"
   ]
  },
  {
   "cell_type": "markdown",
   "id": "00efb851-bc40-4522-b98c-1e68568163ad",
   "metadata": {},
   "source": [
    "\n",
    "**2/** Créer une fonction `sauvegarde` qui prend en paramètre deux listes, écrit dans deux fichiers distincts, `mots_peu_frequents.txt` et `mots_très_frequents.txt` et ne retourne rien.\n"
   ]
  },
  {
   "cell_type": "code",
   "execution_count": 5,
   "id": "54b087ae-1c8f-4d4d-9023-e7db015fc073",
   "metadata": {},
   "outputs": [],
   "source": [
    "def sauvegarde(mots_peu_frequents, mots_tres_frequents):\n",
    "    with open(\"mots_peu_frequents.txt\", \"w\") as fichier_peu_freq:\n",
    "        for mot in mots_peu_frequents:\n",
    "            fichier_peu_freq.write(f\"{mot}\\n\")\n",
    "\n",
    "    with open(\"mots_tres_frequents.txt\", \"w\") as fichier_tres_freq:\n",
    "        for mot in mots_tres_frequents:\n",
    "            fichier_tres_freq.write(f\"{mot}\\n\")"
   ]
  },
  {
   "cell_type": "markdown",
   "id": "be2eeeef-effd-487f-be21-512ec54c5494",
   "metadata": {},
   "source": [
    "\n",
    "**3/** Créer une fonction `main` qui prend en paramètre un chemin de fichier (au choix dans ../data/txt/roman_choisi.txt), deux nombres N, et M (valeur par défaut=10), créé une liste de tous les mots du fichier txt, appelle la fonction `compte_mots` avec cette liste créée en argument, puis récupère le dictionnaire de sortie et crée deux listes, une première avec les N mots les plus fréquents, une seconde avec les M les moins fréquents. Enfin elle appelle la fonction `sauvegarde` et retourne les deux listes\n"
   ]
  },
  {
   "cell_type": "code",
   "execution_count": 11,
   "id": "116e80cd-3b72-474d-bb44-5b0361d95eb8",
   "metadata": {},
   "outputs": [],
   "source": [
    "def main(chemin_fichier, N=10, M=10):\n",
    "    with open(chemin_fichier, 'r') as file:\n",
    "        contenu = file.read().lower().split()\n",
    "\n",
    "    mots_comptes = compte_mots(contenu)\n",
    "    mots_tries = sorted(mots_comptes.keys(), key=mots_comptes.get)\n",
    "\n",
    "    mots_plus_freq = mots_tries[-N:]\n",
    "    mots_moins_freq = mots_tries[:M]\n",
    "\n",
    "    sauvegarde(mots_moins_freq, mots_plus_freq)\n",
    "    return mots_plus_freq, mots_moins_freq"
   ]
  },
  {
   "cell_type": "code",
   "execution_count": 12,
   "id": "7015bad8-0a5f-47b8-b076-e3ab263f7f35",
   "metadata": {},
   "outputs": [],
   "source": [
    "chemin_fichier = \"/home/crazyjeannot/Documents/cours/Python4DH/data/txt/1841_Sand-George_Un-hiver-a-Majorque.txt\""
   ]
  },
  {
   "cell_type": "code",
   "execution_count": 13,
   "id": "cb5306dc-d9d6-4947-906a-a20a47e0fc8b",
   "metadata": {},
   "outputs": [],
   "source": [
    "mots_plus_freq, mots_moins_freq = main(chemin_fichier, 16, 2)"
   ]
  },
  {
   "cell_type": "code",
   "execution_count": null,
   "id": "d104f07c-4fcd-4116-8810-c6dac6bf8f43",
   "metadata": {},
   "outputs": [],
   "source": []
  }
 ],
 "metadata": {
  "kernelspec": {
   "display_name": "Python 3 (ipykernel)",
   "language": "python",
   "name": "python3"
  },
  "language_info": {
   "codemirror_mode": {
    "name": "ipython",
    "version": 3
   },
   "file_extension": ".py",
   "mimetype": "text/x-python",
   "name": "python",
   "nbconvert_exporter": "python",
   "pygments_lexer": "ipython3",
   "version": "3.12.3"
  }
 },
 "nbformat": 4,
 "nbformat_minor": 5
}
