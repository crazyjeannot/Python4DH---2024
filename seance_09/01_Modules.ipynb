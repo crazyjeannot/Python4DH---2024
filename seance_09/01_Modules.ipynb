{
 "cells": [
  {
   "cell_type": "markdown",
   "id": "a55c2dbe-84a0-451c-9ce1-f3d738198b20",
   "metadata": {},
   "source": [
    "# Les Modules en Python\n",
    "\n",
    "## Introduction\n",
    "\n",
    "En programmation, les modules sont des fichiers contenant des définitions et des déclarations Python. Ils peuvent être utilisés pour organiser du code, réutiliser des fonctionnalités existantes et faciliter la maintenance du code. Dans ce notebook, nous explorerons l'importance des modules et comment les utiliser.\n",
    "\n",
    "## Pourquoi utiliser des modules ?\n",
    "\n",
    "1. **Organisation du Code :** Les modules aident à organiser le code en le divisant en fichiers logiques et en regroupant des fonctionnalités similaires.\n",
    "\n",
    "2. **Réutilisation du Code :** Vous pouvez réutiliser des fonctions et des classes d'un module dans d'autres parties de votre programme, ce qui permet d'éviter la duplication du code.\n",
    "\n",
    "3. **Maintenance Facile :** Les modules facilitent la maintenance du code. Si une modification est nécessaire, vous n'avez qu'à apporter des changements dans le module correspondant, sans affecter le reste du code.\n",
    "\n",
    "## Comment importer des modules en Python\n",
    "\n",
    "En Python, vous pouvez importer des modules à l'aide du mot-clé `import`. Voici quelques exemples :\n",
    "\n",
    "```python\n",
    "# Importer un module entier\n",
    "import math\n",
    "\n",
    "# Utiliser une fonction spécifique du module\n",
    "resultat = math.sqrt(25)\n",
    "print(resultat)\n",
    "```\n",
    "\n",
    "Vous pouvez également importer un module en lui donnant un alias :\n",
    "\n",
    "```python\n",
    "# Importer un module avec un alias\n",
    "import pandas as pd\n",
    "\n",
    "# Utiliser des fonctions ou des classes du module avec l'alias\n",
    "data_frame = pd.DataFrame()\n",
    "print(data_frame)\n",
    "```\n",
    "\n",
    "## Exemple Pratique : Fonctions des exercices de la semaine 06-07"
   ]
  },
  {
   "cell_type": "code",
   "execution_count": null,
   "id": "f45f53a3-932d-4950-9e5f-9121411aab77",
   "metadata": {},
   "outputs": [],
   "source": []
  }
 ],
 "metadata": {
  "kernelspec": {
   "display_name": "Python 3 (ipykernel)",
   "language": "python",
   "name": "python3"
  },
  "language_info": {
   "codemirror_mode": {
    "name": "ipython",
    "version": 3
   },
   "file_extension": ".py",
   "mimetype": "text/x-python",
   "name": "python",
   "nbconvert_exporter": "python",
   "pygments_lexer": "ipython3",
   "version": "3.12.3"
  }
 },
 "nbformat": 4,
 "nbformat_minor": 5
}
