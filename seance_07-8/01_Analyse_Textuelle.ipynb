{
 "cells": [
  {
   "cell_type": "markdown",
   "id": "0cb47ba6",
   "metadata": {},
   "source": [
    "# Analyse Textuelle\n",
    "\n",
    "## Introduction\n",
    "\n",
    "### Explorer les textes à l'aide du modèle d'espace vectoriel\n",
    "\n",
    "Cours basé sur -> [Humanities Data Analysis: Case Studies with Python](https://press.princeton.edu/books/ebook/9780691200330/humanities-data-analysis)\n",
    "\n",
    "\n",
    "Ce notebook explore la possibilité d'appliquer un raisonnement spatial aux données textuelles, en se demandant si l'on peut considérer les textes comme de simples points dans un espace, ayant des coordonnées exactes permettant de calculer la distance qui les sépare. L'idée est d'utiliser un modèle de vecteurs pour représenter les caractéristiques individuelles des textes, les transformant ainsi en nombres concrets nécessaires au traitement ultérieur. La métaphore du texte en tant que carte aide à comprendre pourquoi la géométrie, l'étude mathématique de l'espace, est essentielle à l'analyse textuelle informatique. \n",
    "\n",
    "La première partie de ce notebook se concentre sur les étapes de prétraitement des données et la conversion d'un corpus en une représentation sac de mots. La deuxième partie présente une étude de cas sur les textes romanesques, utilisant le modèle de vecteurs et explorant les différences entre les sous-genres.\n",
    "\n",
    "```\n",
    "Exemple de représentation dans un espace vectoriel avec quatre documents (lignes) et un vocabulaire de quatre mots (colonnes). Pour chaque document, le tableau répertorie la fréquence de chaque élément du vocabulaire.\n",
    "\n",
    "|          | _roi_ | _ange_ | _sang_ | _perdu_ |\n",
    "|----------|-------|--------|--------|---------|\n",
    "| $text_1$ |     1 |      2 |     16 |      21 |\n",
    "| $text_2$ |     2 |      2 |     18 |      19 |\n",
    "| $text_3$ |    35 |     41 |      0 |       2 |\n",
    "| $text_4$ |    39 |     55 |      1 |       0 |\n",
    "```\n",
    "\n",
    "Dans ce tableau, chaque document $text_i$ est représenté sous forme de vecteur, qui est essentiellement une liste de nombres - les fréquences des mots dans notre cas présent. Un <span class=\"index\">espace vectoriel</span> n'est rien de plus qu'une collection de vecteurs numériques, pouvant par exemple être additionnés et multipliés par un nombre. Les documents représentés de cette manière peuvent être comparés en termes de leurs *coordonnées* (ou *composantes*). Par exemple, en comparant les quatre documents sur la base de la deuxième coordonnée, nous observons que les deux premiers documents ($text_1$ et $text_2$) ont des comptes similaires, ce qui pourrait indiquer une certaine similarité entre ces deux documents. Pour obtenir une image plus précise et complète de la similarité des documents, nous aimerions pouvoir les comparer de manière plus holistique, en utilisant *toutes* leurs composantes. Dans notre exemple, chaque document représente un point dans un espace vectoriel à quatre dimensions. Nous pourrions hypothétiser que des documents similaires utilisent des mots similaires et résident donc à proximité les uns des autres dans cet espace. Pour illustrer cela, nous montrons comment visualiser les documents dans l'espace en utilisant les première et troisième composantes.```"
   ]
  },
  {
   "cell_type": "code",
   "execution_count": 5,
   "id": "8b153241-28a2-4ebc-93b1-6bd3d9fb6446",
   "metadata": {},
   "outputs": [
    {
     "data": {
      "image/png": "[encoded data removed]",
      "text/plain": [
       "<Figure size 640x480 with 1 Axes>"
      ]
     },
     "metadata": {},
     "output_type": "display_data"
    }
   ],
   "source": [
    "import numpy as np\n",
    "import matplotlib.pyplot as plt\n",
    "\n",
    "document_term_matrix = np.array([[1, 16], [2, 18], [35, 0], [39, 1]])\n",
    "labels = '$text_1$', '$text_2$', '$text_3$', '$text_4$'\n",
    "fig, ax = plt.subplots()\n",
    "plt.quiver([0, 0, 0, 0], [0, 0, 0, 0],\n",
    "           document_term_matrix[:, 0], document_term_matrix[:, 1],\n",
    "           color=[\"C0\", \"C1\", \"C2\", \"C3\"], angles='xy', scale_units='xy', scale=1)\n",
    "for i, label in enumerate(labels):\n",
    "    plt.annotate(label, xy=document_term_matrix[i], fontsize=15)\n",
    "plt.ylim(-1, 20); plt.xlim(-1, 44)\n",
    "plt.xlabel(\"Dimension 1\")\n",
    "plt.ylabel(\"Dimension 3\");"
   ]
  },
  {
   "cell_type": "markdown",
   "id": "5647851e-aa32-42d8-ac3c-af7f031150c2",
   "metadata": {},
   "source": [
    "Démonstration de quatre documents (représentés sous forme de vecteurs) résidant dans un espace bidimensionnel."
   ]
  },
  {
   "cell_type": "markdown",
   "id": "aa1eb7c3",
   "metadata": {},
   "source": [
    "Ayant une compréhension théorique de base du modèle d'espace vectoriel, passons à la partie pratique de la mise en œuvre d'une procédure pour construire une <span class=\"index\">matrice terme-document</span> à partir de texte brut. En essence, cela implique trois étapes: Déterminer le vocabulaire de ducorpus, en filtrant éventuellement les mots outils et la pionctuation. La deuxième étape consiste à compter combien de fois chaque élément du vocabulaire apparaît dans chaque document individuel. La troisième et dernière étape prend les sacs de mots de la deuxième étape et construit une matrice terme-document.\n",
    "\n",
    "![steps bow](./bow.png)"
   ]
  },
  {
   "cell_type": "markdown",
   "id": "9597f1dd-8dbf-4995-b87d-c25b33c55601",
   "metadata": {},
   "source": [
    "### Prétraitement du texte\n",
    "\n",
    "Une façon courante de représenter des documents textuels est d'utiliser des chaînes de caractères (associées au type `str` de Python). Considérons le bloc de code suivant, qui représente les dix mini-documents de la figure ci-dessus sous forme d'une liste de chaînes de caractères."
   ]
  },
  {
   "cell_type": "code",
   "execution_count": 109,
   "id": "c1356ee7",
   "metadata": {},
   "outputs": [],
   "source": [
    "corpus = [\"Cette histoire n’est pas fantastique, elle n’est que romanesque.\",\n",
    "          \"L’étrange voyage ! Il avait si bien commencé cependant ! Pour ma part, je n’en fis jamais qui s’annonçât sous de plus heureux auspices.\",\n",
    "          \"Le vieux baron des Ravots avait été pendant quarante ans le roi des chasseurs de sa province.\",\n",
    "          \"La petite ville de Verrières peut passer pour l’une des plus jolies de la Franche-Comté.\",\n",
    "          \"Sédentaire par devoir, tu crois, mon cher François, qu’emporté par le fier et capricieux dada de l’indépendance, je n’ai pas connu de plus ardent plaisir en ce monde que celui de traverser mers et montagnes, lacs et vallées.\",\n",
    "          \"Que votre nom, vous dont le portrait est le plus bel ornement de cet ouvrage, soit ici comme une branche de buis bénit, prise on ne sait à quel arbre, mais certainement sanctifiée par la religion et renouvelée, toujours verte, par des mains pieuses, pour protéger la maison.\",\n",
    "          '– Et pourquoi cesserais-je d’être de mon village ? Il n’y faut pas compter. Te voilà bien fière, mon pauvre Minet-Chéri, parce que tu habites Paris depuis ton mariage.']"
   ]
  },
  {
   "cell_type": "code",
   "execution_count": 111,
   "id": "5f939dbf-4ec8-4c49-b08a-f09d0bf9f321",
   "metadata": {},
   "outputs": [
    {
     "data": {
      "text/plain": [
       "['Cette',\n",
       " 'histoire',\n",
       " 'n’est',\n",
       " 'pas',\n",
       " 'fantastique,',\n",
       " 'elle',\n",
       " 'n’est',\n",
       " 'que',\n",
       " 'romanesque.']"
      ]
     },
     "execution_count": 111,
     "metadata": {},
     "output_type": "execute_result"
    }
   ],
   "source": [
    "corpus[0].split()"
   ]
  },
  {
   "cell_type": "code",
   "execution_count": null,
   "id": "7a8941c0-a514-4575-95a8-7a61d93ffdef",
   "metadata": {},
   "outputs": [],
   "source": []
  },
  {
   "cell_type": "markdown",
   "id": "539c2de9",
   "metadata": {},
   "source": [
    "Afin de construire une représentation *sac de mots* de chaque \"texte\" dans ce corpus, nous devons d'abord traiter les chaînes de caractères en mots distincts. Ce processus est appelé *tokenization* ou *segmentation de mots*. Un tokenizer naïf pourrait diviser les documents le long des espaces (contigus). En Python, un tel tokenizer peut être implémenté de manière simple en utilisant la méthode de chaîne `split()`. Comme le montre le bloc de code suivant, cette méthode utilise une stratégie de tokenization dans laquelle les tokens sont séparés par une ou plusieurs occurrences d'espaces (par exemple, des espaces, des tabulations, des sauts de ligne) :"
   ]
  },
  {
   "cell_type": "code",
   "execution_count": 10,
   "id": "498f0d10",
   "metadata": {},
   "outputs": [
    {
     "name": "stdout",
     "output_type": "stream",
     "text": [
      "['–', 'Et', 'pourquoi', 'cesserais-je', 'd’être', 'de', 'mon', 'village', '?', 'Il', 'n’y', 'faut', 'pas', 'compter.', 'Te', 'voilà', 'bien', 'fière,', 'mon', 'pauvre', 'Minet-Chéri,', 'parce', 'que', 'tu', 'habites', 'Paris', 'depuis', 'ton', 'mariage.']\n"
     ]
    }
   ],
   "source": [
    "document = corpus[6]\n",
    "print(document.split())"
   ]
  },
  {
   "cell_type": "markdown",
   "id": "52f0cdf5",
   "metadata": {},
   "source": [
    "Preprocessing: Choix qui peuvent dépendre de nos questions de recherche - minuscules, ponctuation, mots-outils \n",
    "\n",
    "+ Lemmatisation - entrée de dictionnaire\n",
    "\n",
    "La meilleure recommandation ici est de suivre des stratégies établies et de documenter de manière exhaustive les étapes de prétraitement effectuées. La distribution du code utilisé dans le prétraitement est une excellente idée. De nombreuses applications utilisent des tokenizers prêts à l'emploi pour prétraiter les textes. Dans l'exemple ci-dessous, nous appliquons un tokenizer optimisé pour le français fourni par le *Natural Language ToolKit* (NLTK), et nous segmentons chaque document dans le `corpus` en une liste de jetons (tokens) de mots.\n"
   ]
  },
  {
   "cell_type": "code",
   "execution_count": 114,
   "id": "b6a4a781",
   "metadata": {},
   "outputs": [
    {
     "name": "stdout",
     "output_type": "stream",
     "text": [
      "['–', 'Et', 'pourquoi', 'cesserais-je', 'd', '’', 'être', 'de', 'mon', 'village', '?', 'Il', 'n', '’', 'y', 'faut', 'pas', 'compter', '.', 'Te', 'voilà', 'bien', 'fière', ',', 'mon', 'pauvre', 'Minet-Chéri', ',', 'parce', 'que', 'tu', 'habites', 'Paris', 'depuis', 'ton', 'mariage', '.']\n"
     ]
    }
   ],
   "source": [
    "import nltk\n",
    "import nltk.tokenize\n",
    "\n",
    "# download the most recent punkt package\n",
    "nltk.download('punkt', quiet=True)\n",
    "\n",
    "document = corpus[6]\n",
    "print(nltk.tokenize.word_tokenize(document, language='french'))"
   ]
  },
  {
   "cell_type": "markdown",
   "id": "10794577",
   "metadata": {},
   "source": [
    "On peut observer que ce tokenizer divise correctement la ponctuation finale de la phrase, telle que les points, mais conserve les formes contractées, comme *Minet-Chéri*. \n",
    "\n",
    "Compte tenu de la segmentation actuelle des mots, il est possible de supprimer les marques de ponctuation isolées (ou répétées) en filtrant les jetons qui ne sont pas de la ponctuation. À cette fin, nous mettons en œuvre une simple fonction utilitaire appelée `is_punct()`, qui vérifie si une chaîne d'entrée donnée est soit un seul marqueur de ponctuation, soit une séquence de ceux-ci :\n"
   ]
  },
  {
   "cell_type": "code",
   "execution_count": 124,
   "id": "83612168",
   "metadata": {},
   "outputs": [],
   "source": [
    "import re\n",
    "\n",
    "\n",
    "PUNCT_RE = re.compile(r'[^\\w\\s]+$')\n",
    "\n",
    "\n",
    "def is_punct(string):  \n",
    "    \"\"\"Vérifiez si STRING est un marqueur de ponctuation ou une séquence de\n",
    "       marqueurs de ponctuation.\n",
    "\n",
    "    Arguments:\n",
    "        string (str): une chaîne à vérifier pour les marqueurs de ponctuation.\n",
    "\n",
    "    Renvoie:\n",
    "        bool: True si la chaîne est un (une séquence de) marqueur(s) de ponctuation,\n",
    "            False sinon.\n",
    "\n",
    "\n",
    "    Examples:\n",
    "        >>> is_punct(\"!\")\n",
    "        True\n",
    "        >>> is_punct(\"Bonjour!\")\n",
    "        False\n",
    "        >>> is_punct(\"¿Te gusta el verano?\")\n",
    "        False\n",
    "        >>> is_punct(\"...\")\n",
    "        True\n",
    "        >>> is_punct(\"«»...\")\n",
    "        True\n",
    "\n",
    "    \"\"\"\n",
    "    return PUNCT_RE.match(string) is not None"
   ]
  },
  {
   "cell_type": "code",
   "execution_count": 125,
   "id": "816e8e99-7f73-4fe4-91f7-c8a5b2be6ef4",
   "metadata": {},
   "outputs": [
    {
     "data": {
      "text/plain": [
       "True"
      ]
     },
     "execution_count": 125,
     "metadata": {},
     "output_type": "execute_result"
    }
   ],
   "source": [
    "is_punct(\"!\")"
   ]
  },
  {
   "cell_type": "code",
   "execution_count": null,
   "id": "0d2eeabf-004d-4ac6-baf1-cb0b2e696a83",
   "metadata": {},
   "outputs": [],
   "source": []
  },
  {
   "cell_type": "markdown",
   "id": "a57a5cb2",
   "metadata": {},
   "source": [
    "La fonction utilise l'**expression régulière** `[^\\w\\s]+$`. Pour ceux qui ont une mémoire un peu rouillée des expressions régulières, permettez-nous d'expliquer brièvement ses composants. `\\w` correspond aux caractères alphanumériques Unicode (y compris les chiffres), et `\\s` correspond aux caractères d'espacement Unicode. En utilisant la notation d'ensemble `[]` et le signe de négation `^`, c'est-à-dire `[^\\w\\s]`, l'expression régulière correspond à tout caractère qui n'est *pas* correspondant à `\\w` ou `\\s`, c'est-à-dire n'est pas un caractère alphanumérique ou d'espacement, et donc un caractère de ponctuation. Le `+` indique que l'expression doit correspondre à un ou plusieurs caractères de ponctuation, et le `$` correspond à la fin de la chaîne, ce qui garantit qu'une chaîne est uniquement correspondante si elle est constituée uniquement de caractères de ponctuation.\n",
    "\n",
    "En utilisant la fonction **`is_punct()`**, filtrer tous les jetons qui ne sont pas de la ponctuation peut être accompli en utilisant une boucle `for` ou une **compréhension de liste**. Le bloc de code suivant démontre l'utilisation des deux mécanismes de bouclage, qui sont essentiellement équivalents :\n"
   ]
  },
  {
   "cell_type": "code",
   "execution_count": null,
   "id": "fcd9c087-dd37-4e96-bba7-47c87ddb8500",
   "metadata": {},
   "outputs": [],
   "source": []
  },
  {
   "cell_type": "code",
   "execution_count": 130,
   "id": "d94adfe6-77ac-4251-a989-ab863f7076e6",
   "metadata": {},
   "outputs": [],
   "source": [
    "corpus[6] = corpus[6].replace('\\xa0', ' ')"
   ]
  },
  {
   "cell_type": "code",
   "execution_count": 131,
   "id": "0f8e3ff4-af25-4ae5-ac51-fb6e4f54db49",
   "metadata": {},
   "outputs": [
    {
     "data": {
      "text/plain": [
       "'– Et pourquoi cesserais-je d’être de mon village ? Il n’y faut pas compter. Te voilà bien fière, mon pauvre Minet-Chéri, parce que tu habites Paris depuis ton mariage.'"
      ]
     },
     "execution_count": 131,
     "metadata": {},
     "output_type": "execute_result"
    }
   ],
   "source": [
    "corpus[6]"
   ]
  },
  {
   "cell_type": "code",
   "execution_count": null,
   "id": "c6285e25-190e-472b-ad62-ec20ba5ebcd6",
   "metadata": {},
   "outputs": [],
   "source": []
  },
  {
   "cell_type": "code",
   "execution_count": 150,
   "id": "4ffd445d-edcc-4be5-aa7b-5b74dc5046c0",
   "metadata": {},
   "outputs": [
    {
     "name": "stdout",
     "output_type": "stream",
     "text": [
      "['et', 'pourquoi', 'cesserais-je', 'd', 'être', 'de', 'mon', 'village', 'il', 'n', 'y', 'faut', 'pas', 'compter', 'te', 'voilà', 'bien', 'fière', 'mon', 'pauvre', 'minet-chéri', 'parce', 'que', 'tu', 'habites', 'paris', 'depuis', 'ton', 'mariage']\n"
     ]
    }
   ],
   "source": [
    "tokenized = []\n",
    "for token in tokens:\n",
    "    if not is_punct(token):\n",
    "        tokenized.append(token)\n",
    "print(tokenized)"
   ]
  },
  {
   "cell_type": "code",
   "execution_count": 154,
   "id": "fe00ef2f-fb22-48fc-9d10-34ad7b494da4",
   "metadata": {},
   "outputs": [],
   "source": [
    "liste_resultat = [token for token in tokens if not is_punct(token)]"
   ]
  },
  {
   "cell_type": "code",
   "execution_count": null,
   "id": "858a1086-ba6e-4b2e-866a-931dc6f7d86d",
   "metadata": {},
   "outputs": [],
   "source": []
  },
  {
   "cell_type": "code",
   "execution_count": null,
   "id": "7735bd9f-2a18-4949-970b-176412719aca",
   "metadata": {},
   "outputs": [],
   "source": []
  },
  {
   "cell_type": "code",
   "execution_count": 132,
   "id": "dba5a016",
   "metadata": {},
   "outputs": [
    {
     "name": "stdout",
     "output_type": "stream",
     "text": [
      "['Et', 'pourquoi', 'cesserais-je', 'd', 'être', 'de', 'mon', 'village', 'Il', 'n', 'y', 'faut', 'pas', 'compter', 'Te', 'voilà', 'bien', 'fière', 'mon', 'pauvre', 'Minet-Chéri', 'parce', 'que', 'tu', 'habites', 'Paris', 'depuis', 'ton', 'mariage']\n",
      "['Et', 'pourquoi', 'cesserais-je', 'd', 'être', 'de', 'mon', 'village', 'Il', 'n', 'y', 'faut', 'pas', 'compter', 'Te', 'voilà', 'bien', 'fière', 'mon', 'pauvre', 'Minet-Chéri', 'parce', 'que', 'tu', 'habites', 'Paris', 'depuis', 'ton', 'mariage']\n"
     ]
    }
   ],
   "source": [
    "tokens = nltk.tokenize.word_tokenize(corpus[6], language='french')\n",
    "\n",
    "# Loop with a standard for-loop\n",
    "tokenized = []\n",
    "for token in tokens:\n",
    "    if not is_punct(token):\n",
    "        tokenized.append(token)\n",
    "print(tokenized)\n",
    "\n",
    "# Loop with a list comprehension\n",
    "tokenized = [token for token in tokens if not is_punct(token)]\n",
    "print(tokenized)"
   ]
  },
  {
   "cell_type": "markdown",
   "id": "6e1881a3",
   "metadata": {},
   "source": [
    "Après la tokenisation et la suppression de la ponctuation, il nous reste une séquence de chaînes alphanumériques (\"mots\" ou \"jetons de mots\"). Idéalement, nous envelopperions ces étapes de prétraitement dans une fonction unique, telle que preprocess_text(), qui renvoie une liste de jetons de mots et supprime tous les marqueurs de ponctuation isolés. Considérez l'implémentation suivante :"
   ]
  },
  {
   "cell_type": "code",
   "execution_count": 133,
   "id": "44e46894",
   "metadata": {},
   "outputs": [],
   "source": [
    "def preprocess_text(text, language, lowercase=True):\n",
    "    \"\"\"Prétraiter un texte.\n",
    "\n",
    "    Effectuer une procédure de prétraitement de texte, qui transforme une chaîne\n",
    "    en une liste de jetons de mots sans marqueurs de ponctuation.\n",
    "\n",
    "    Arguments:\n",
    "        text (str): une chaîne représentant un texte.\n",
    "        language (str): une chaîne spécifiant la langue du texte.\n",
    "        lowercase (bool, facultatif): Définir sur True pour mettre en minuscules tous\n",
    "            les jetons de mots. Par défaut, True.\n",
    "\n",
    "    Renvoie:\n",
    "        list: une liste de jetons de mots extraits du texte, excluant la ponctuation.\n",
    "\n",
    "    Exemples:\n",
    "        >>> preprocess_text(\"Ah! Monsieur, c'est donc vous?\", 'french')\n",
    "        [\"ah\", \"monsieur\", \"c'est\", \"donc\", \"vous\"]\n",
    "\n",
    "\n",
    "    \"\"\"\n",
    "    if lowercase:\n",
    "        text = text.lower()\n",
    "    tokens = nltk.tokenize.word_tokenize(text, language=language)\n",
    "    tokens = [token for token in tokens if not is_punct(token)]\n",
    "    return tokens"
   ]
  },
  {
   "cell_type": "markdown",
   "id": "6a675480",
   "metadata": {},
   "source": [
    "Le paramètre `lowercase` peut être utilisé pour transformer tous les jetons de mots en leur forme en minuscules. Pour tester cette nouvelle fonction, nous l'appliquons à certains des documents fictifs dans `corpus` :"
   ]
  },
  {
   "cell_type": "code",
   "execution_count": 17,
   "id": "1b35ef4a",
   "metadata": {},
   "outputs": [
    {
     "name": "stdout",
     "output_type": "stream",
     "text": [
      "Original: Le vieux baron des Ravots avait été pendant quarante ans le roi des chasseurs de sa province.\n",
      "Tokenized: ['le', 'vieux', 'baron', 'des', 'ravots', 'avait', 'été', 'pendant', 'quarante', 'ans', 'le', 'roi', 'des', 'chasseurs', 'de', 'sa', 'province']\n",
      "Original: La petite ville de Verrières peut passer pour l’une des plus jolies de la Franche-Comté.\n",
      "Tokenized: ['la', 'petite', 'ville', 'de', 'verrières', 'peut', 'passer', 'pour', 'l', 'une', 'des', 'plus', 'jolies', 'de', 'la', 'franche-comté']\n"
     ]
    }
   ],
   "source": [
    "for document in corpus[2:4]:\n",
    "    print('Original:', document)\n",
    "    print('Tokenized:', preprocess_text(document, 'french'))"
   ]
  },
  {
   "cell_type": "markdown",
   "id": "8a55157a",
   "metadata": {},
   "source": [
    "### Créer une matrice terme-document:"
   ]
  },
  {
   "cell_type": "code",
   "execution_count": 137,
   "id": "461941cf",
   "metadata": {},
   "outputs": [],
   "source": [
    "import collections\n",
    "\n",
    "vocabulary = collections.Counter()\n",
    "\n",
    "for document in corpus:\n",
    "    vocabulary.update(preprocess_text(document, 'french'))"
   ]
  },
  {
   "cell_type": "code",
   "execution_count": null,
   "id": "d258ef38-4daf-46bf-b3b0-cb877e3aa41c",
   "metadata": {},
   "outputs": [],
   "source": []
  },
  {
   "cell_type": "markdown",
   "id": "5846a276",
   "metadata": {},
   "source": [
    "`Counter` implémente plusieurs méthodes spécialisées pour des comptages pratiques et rapides. Par exemple, la méthode <span class=\"index\">`Counter.most_common`</span> renvoie les *n* éléments les plus fréquents :"
   ]
  },
  {
   "cell_type": "code",
   "execution_count": 139,
   "id": "8ed408a0",
   "metadata": {},
   "outputs": [
    {
     "name": "stdout",
     "output_type": "stream",
     "text": [
      "[('de', 10), ('n', 5), ('le', 5), ('et', 5), ('que', 4)]\n"
     ]
    }
   ],
   "source": [
    "print(vocabulary.most_common(n=5))"
   ]
  },
  {
   "cell_type": "markdown",
   "id": "c490f217",
   "metadata": {},
   "source": [
    "Comme on peut le constater, les mots les plus fréquents dans le vocabulaire sont des mots fonctionnels (ou \"<span class=\"index\">mots vides</span>\" comme on les appelle couramment), tels que *le* (déterminant), *et* (conjonction), et *de* (préposition). Les mots situés dans les rangs inférieurs de la liste de fréquence sont généralement des <span class=\"index\">mots de contenu</span> qui ont un sens plus spécifique que les mots fonctionnels. En utilisant l'objet `Counter` construit ci-dessus, il est facile de composer un vocabulaire qui ignore ces hapax :"
   ]
  },
  {
   "cell_type": "code",
   "execution_count": 140,
   "id": "a91256c0",
   "metadata": {},
   "outputs": [
    {
     "name": "stdout",
     "output_type": "stream",
     "text": [
      "Original vocabulary size: 134\n",
      "{'le', 'je', 'n', 'que', 'la', 'est', 'il', 'en', 'de', 'bien', 'tu', 'une', 'l', 'et', 'mon', 'des', 'avait', 'pas', 'pour', 'plus', 'par'}\n",
      "Pruned vocabulary size: 21\n"
     ]
    }
   ],
   "source": [
    "print('Original vocabulary size:', len(vocabulary))\n",
    "pruned_vocabulary = {token for token, count in vocabulary.items() if count > 1}\n",
    "print(pruned_vocabulary)\n",
    "print('Pruned vocabulary size:', len(pruned_vocabulary))"
   ]
  },
  {
   "cell_type": "markdown",
   "id": "8c913204",
   "metadata": {},
   "source": [
    "Pour rafraîchir votre mémoire, un ensemble Python <span class=\"index\">`set`</span> est une structure de données bien adaptée pour représenter un vocabulaire. Un ensemble Python, à l'instar de son homologue en mathématiques, est une séquence non ordonnée d'éléments distincts. Comme un ensemble enregistre uniquement des éléments distincts, nous sommes assurés que tous les mots qui y apparaissent sont uniques. De manière similaire, nous pourrions construire un vocabulaire qui exclut les *n* jetons les plus fréquents :"
   ]
  },
  {
   "cell_type": "code",
   "execution_count": 143,
   "id": "fd0b55c5",
   "metadata": {},
   "outputs": [
    {
     "name": "stdout",
     "output_type": "stream",
     "text": [
      "Original vocabulary size: 134\n",
      "Pruned vocabulary size: 104\n"
     ]
    }
   ],
   "source": [
    "n = 30\n",
    "print('Original vocabulary size:', len(vocabulary))\n",
    "pruned_vocabulary = {token for token, _ in vocabulary.most_common()[n:]}\n",
    "print('Pruned vocabulary size:', len(pruned_vocabulary))"
   ]
  },
  {
   "cell_type": "markdown",
   "id": "a5cf3d59",
   "metadata": {},
   "source": [
    "Notez comment la taille du vocabulaire élagué peut effectivement être réduite de manière agressive en utilisant de simples seuils de fréquence. En abstrayant ces deux routines concrètes, nous pouvons maintenant implémenter une fonction <span class=\"index\">`extract_vocabulary()`</span>, qui extrait un vocabulaire à partir d'un corpus tokenisé en fonction d'un comptage de fréquence minimum et maximum :"
   ]
  },
  {
   "cell_type": "code",
   "execution_count": 20,
   "id": "9bcd38e6",
   "metadata": {},
   "outputs": [],
   "source": [
    "def extract_vocabulary(tokenized_corpus, min_count=1, max_count=float('inf')):\n",
    "    \"\"\"Extraire un vocabulaire à partir d'un corpus tokenisé.\n",
    "\n",
    "    Arguments:\n",
    "        tokenized_corpus (list): un corpus tokenisé, représenté par une liste\n",
    "            de listes de chaînes.\n",
    "        min_count (int, facultatif): le nombre minimum d'occurrences d'un élément\n",
    "            du vocabulaire dans le corpus.\n",
    "        max_count (int, facultatif): le nombre maximum d'occurrences d'un élément\n",
    "            du vocabulaire dans le corpus. Par défaut, infini.\n",
    "\n",
    "    Renvoie:\n",
    "        list: Une liste ordonnée alphabétiquement de mots uniques dans le\n",
    "            corpus, dont les fréquences respectent le nombre minimum et maximum\n",
    "            spécifié.\n",
    "\n",
    "    Exemples:\n",
    "        >>> corpus = [['the', 'man', 'love', 'man', 'the'],\n",
    "                      ['the', 'love', 'book', 'wise', 'drama'],\n",
    "                      ['a', 'story', 'book', 'drama']]\n",
    "        >>> extract_vocabulary(corpus, min_count=2)\n",
    "        ['book', 'drama', 'love', 'man', 'the']\n",
    "\n",
    "\n",
    "    \"\"\"\n",
    "    vocabulary = collections.Counter()\n",
    "    for document in tokenized_corpus:\n",
    "        vocabulary.update(document)\n",
    "    vocabulary = {word for word, count in vocabulary.items()\n",
    "                  if count >= min_count and count <= max_count}\n",
    "    return sorted(vocabulary)"
   ]
  },
  {
   "cell_type": "markdown",
   "id": "91cb19cb",
   "metadata": {},
   "source": [
    "Notez que le nombre maximum par défaut est défini sur l'infini (`max_count=float('inf')`). Cela garantit que aucun des mots à haute fréquence ne sera filtré sans spécification supplémentaire. La fonction peut être appelée comme suit :"
   ]
  },
  {
   "cell_type": "code",
   "execution_count": 144,
   "id": "49a9227f",
   "metadata": {},
   "outputs": [],
   "source": [
    "tokenized_corpus = [preprocess_text(document, 'french') for document in corpus]\n",
    "vocabulary = extract_vocabulary(tokenized_corpus)"
   ]
  },
  {
   "cell_type": "markdown",
   "id": "5396659b",
   "metadata": {},
   "source": [
    "Une fois que le vocabulaire souhaité a été établi, nous sommes prêts à passer à la deuxième étape de la création d'une matrice terme-document. Rappelons que cette deuxième étape consiste à déterminer combien de fois chaque mot du vocabulaire apparaît dans chaque document. Il existe plusieurs façons de mettre cela en œuvre. Nous en illustrerons deux. Tout d'abord, nous représenterons le modèle d'espace vectoriel sous la forme d'une liste d'objets Counter, un pour chaque document. En utilisant une compréhension de liste, cela peut être facilement mis en œuvre comme suit :"
   ]
  },
  {
   "cell_type": "code",
   "execution_count": 147,
   "id": "66f4476d",
   "metadata": {},
   "outputs": [
    {
     "name": "stdout",
     "output_type": "stream",
     "text": [
      "Counter({'le': 2, 'des': 2, 'vieux': 1, 'baron': 1, 'ravots': 1, 'avait': 1, 'été': 1, 'pendant': 1, 'quarante': 1, 'ans': 1, 'roi': 1, 'chasseurs': 1, 'de': 1, 'sa': 1, 'province': 1})\n"
     ]
    }
   ],
   "source": [
    "bags_of_words = []\n",
    "for document in tokenized_corpus:\n",
    "    tokens = [word for word in document if word in vocabulary]\n",
    "    bags_of_words.append(collections.Counter(tokens))\n",
    "\n",
    "print(bags_of_words[2])"
   ]
  },
  {
   "cell_type": "code",
   "execution_count": null,
   "id": "3fb9b9a4-66a2-4437-9ae8-e5fa525ed8df",
   "metadata": {},
   "outputs": [],
   "source": []
  },
  {
   "cell_type": "code",
   "execution_count": null,
   "id": "36154c4f-f355-4fa6-a937-dd47db138417",
   "metadata": {},
   "outputs": [],
   "source": []
  },
  {
   "cell_type": "code",
   "execution_count": 156,
   "id": "877d3254",
   "metadata": {},
   "outputs": [],
   "source": [
    "def corpus2dtm(tokenized_corpus, vocabulary):\n",
    "    \"\"\"Transformer un corpus tokenisé en une matrice terme-document.\n",
    "\n",
    "    Arguments:\n",
    "        tokenized_corpus (list): un corpus tokenisé sous la forme d'une liste de\n",
    "        listes de chaînes. vocabulary (list): Une liste de mots uniques.\n",
    "\n",
    "    Renvoie:\n",
    "        list: Une liste de listes représentant la fréquence de chaque terme\n",
    "              dans `vocabulary` pour chaque document du corpus.\n",
    "\n",
    "    Exemples:\n",
    "        >>> tokenized_corpus = [['the', 'man', 'man', 'smart'],\n",
    "                                ['a', 'the', 'man' 'love'],\n",
    "                                ['love', 'book', 'journey']]\n",
    "        >>> vocab = ['book', 'journey', 'man', 'love']\n",
    "        >>> corpus2dtm(tokenized_corpus, vocabulary)\n",
    "        [[0, 0, 2, 0], [0, 0, 1, 1], [1, 1, 0, 1]]\n",
    "\n",
    "    \"\"\"\n",
    "    document_term_matrix = []\n",
    "    for document in tokenized_corpus:\n",
    "        document_counts = collections.Counter(document)\n",
    "        row = [document_counts[word] for word in vocabulary]\n",
    "        document_term_matrix.append(row)\n",
    "    return document_term_matrix\n",
    "\n",
    "\n"
   ]
  },
  {
   "cell_type": "code",
   "execution_count": 157,
   "id": "26f5c87e-fd2c-446e-a4bf-2b78dcf43b52",
   "metadata": {},
   "outputs": [],
   "source": [
    "document_term_matrix = corpus2dtm(tokenized_corpus, vocabulary)"
   ]
  },
  {
   "cell_type": "code",
   "execution_count": 158,
   "id": "de7668e7-aea7-46dd-a129-6c9078ebffe8",
   "metadata": {},
   "outputs": [
    {
     "data": {
      "text/plain": [
       "[[0,\n",
       "  0,\n",
       "  0,\n",
       "  0,\n",
       "  0,\n",
       "  0,\n",
       "  0,\n",
       "  0,\n",
       "  0,\n",
       "  0,\n",
       "  0,\n",
       "  0,\n",
       "  0,\n",
       "  0,\n",
       "  0,\n",
       "  0,\n",
       "  0,\n",
       "  0,\n",
       "  0,\n",
       "  0,\n",
       "  1,\n",
       "  0,\n",
       "  0,\n",
       "  0,\n",
       "  0,\n",
       "  0,\n",
       "  0,\n",
       "  0,\n",
       "  0,\n",
       "  0,\n",
       "  0,\n",
       "  0,\n",
       "  0,\n",
       "  0,\n",
       "  0,\n",
       "  1,\n",
       "  0,\n",
       "  0,\n",
       "  2,\n",
       "  0,\n",
       "  1,\n",
       "  0,\n",
       "  0,\n",
       "  0,\n",
       "  0,\n",
       "  0,\n",
       "  0,\n",
       "  0,\n",
       "  0,\n",
       "  1,\n",
       "  0,\n",
       "  0,\n",
       "  0,\n",
       "  0,\n",
       "  0,\n",
       "  0,\n",
       "  0,\n",
       "  0,\n",
       "  0,\n",
       "  0,\n",
       "  0,\n",
       "  0,\n",
       "  0,\n",
       "  0,\n",
       "  0,\n",
       "  0,\n",
       "  0,\n",
       "  0,\n",
       "  0,\n",
       "  0,\n",
       "  2,\n",
       "  0,\n",
       "  0,\n",
       "  0,\n",
       "  0,\n",
       "  0,\n",
       "  0,\n",
       "  0,\n",
       "  0,\n",
       "  0,\n",
       "  1,\n",
       "  0,\n",
       "  0,\n",
       "  0,\n",
       "  0,\n",
       "  0,\n",
       "  0,\n",
       "  0,\n",
       "  0,\n",
       "  0,\n",
       "  0,\n",
       "  0,\n",
       "  0,\n",
       "  0,\n",
       "  0,\n",
       "  0,\n",
       "  0,\n",
       "  1,\n",
       "  0,\n",
       "  0,\n",
       "  0,\n",
       "  0,\n",
       "  0,\n",
       "  0,\n",
       "  1,\n",
       "  0,\n",
       "  0,\n",
       "  0,\n",
       "  0,\n",
       "  0,\n",
       "  0,\n",
       "  0,\n",
       "  0,\n",
       "  0,\n",
       "  0,\n",
       "  0,\n",
       "  0,\n",
       "  0,\n",
       "  0,\n",
       "  0,\n",
       "  0,\n",
       "  0,\n",
       "  0,\n",
       "  0,\n",
       "  0,\n",
       "  0,\n",
       "  0,\n",
       "  0,\n",
       "  0,\n",
       "  0,\n",
       "  0,\n",
       "  0,\n",
       "  0,\n",
       "  0],\n",
       " [0,\n",
       "  1,\n",
       "  0,\n",
       "  0,\n",
       "  0,\n",
       "  1,\n",
       "  1,\n",
       "  0,\n",
       "  0,\n",
       "  1,\n",
       "  0,\n",
       "  0,\n",
       "  0,\n",
       "  0,\n",
       "  0,\n",
       "  0,\n",
       "  1,\n",
       "  0,\n",
       "  0,\n",
       "  0,\n",
       "  0,\n",
       "  0,\n",
       "  0,\n",
       "  0,\n",
       "  1,\n",
       "  0,\n",
       "  0,\n",
       "  0,\n",
       "  0,\n",
       "  0,\n",
       "  1,\n",
       "  0,\n",
       "  0,\n",
       "  0,\n",
       "  0,\n",
       "  0,\n",
       "  0,\n",
       "  1,\n",
       "  0,\n",
       "  0,\n",
       "  0,\n",
       "  0,\n",
       "  0,\n",
       "  1,\n",
       "  0,\n",
       "  0,\n",
       "  0,\n",
       "  0,\n",
       "  1,\n",
       "  0,\n",
       "  0,\n",
       "  1,\n",
       "  0,\n",
       "  1,\n",
       "  1,\n",
       "  0,\n",
       "  1,\n",
       "  0,\n",
       "  0,\n",
       "  0,\n",
       "  1,\n",
       "  0,\n",
       "  0,\n",
       "  0,\n",
       "  0,\n",
       "  0,\n",
       "  0,\n",
       "  0,\n",
       "  0,\n",
       "  0,\n",
       "  1,\n",
       "  0,\n",
       "  0,\n",
       "  0,\n",
       "  0,\n",
       "  0,\n",
       "  0,\n",
       "  0,\n",
       "  0,\n",
       "  1,\n",
       "  0,\n",
       "  0,\n",
       "  0,\n",
       "  0,\n",
       "  0,\n",
       "  0,\n",
       "  0,\n",
       "  0,\n",
       "  1,\n",
       "  0,\n",
       "  1,\n",
       "  0,\n",
       "  0,\n",
       "  0,\n",
       "  0,\n",
       "  0,\n",
       "  0,\n",
       "  0,\n",
       "  0,\n",
       "  1,\n",
       "  0,\n",
       "  0,\n",
       "  0,\n",
       "  0,\n",
       "  0,\n",
       "  1,\n",
       "  0,\n",
       "  0,\n",
       "  0,\n",
       "  1,\n",
       "  0,\n",
       "  1,\n",
       "  0,\n",
       "  0,\n",
       "  0,\n",
       "  0,\n",
       "  0,\n",
       "  0,\n",
       "  0,\n",
       "  0,\n",
       "  0,\n",
       "  0,\n",
       "  0,\n",
       "  0,\n",
       "  0,\n",
       "  0,\n",
       "  0,\n",
       "  0,\n",
       "  1,\n",
       "  0,\n",
       "  0,\n",
       "  1,\n",
       "  0,\n",
       "  0],\n",
       " [0,\n",
       "  0,\n",
       "  1,\n",
       "  0,\n",
       "  0,\n",
       "  0,\n",
       "  1,\n",
       "  1,\n",
       "  0,\n",
       "  0,\n",
       "  0,\n",
       "  0,\n",
       "  0,\n",
       "  0,\n",
       "  0,\n",
       "  0,\n",
       "  0,\n",
       "  0,\n",
       "  0,\n",
       "  0,\n",
       "  0,\n",
       "  1,\n",
       "  0,\n",
       "  0,\n",
       "  0,\n",
       "  0,\n",
       "  0,\n",
       "  0,\n",
       "  0,\n",
       "  0,\n",
       "  1,\n",
       "  0,\n",
       "  2,\n",
       "  0,\n",
       "  0,\n",
       "  0,\n",
       "  0,\n",
       "  0,\n",
       "  0,\n",
       "  0,\n",
       "  0,\n",
       "  0,\n",
       "  0,\n",
       "  0,\n",
       "  0,\n",
       "  0,\n",
       "  0,\n",
       "  0,\n",
       "  0,\n",
       "  0,\n",
       "  0,\n",
       "  0,\n",
       "  0,\n",
       "  0,\n",
       "  0,\n",
       "  0,\n",
       "  0,\n",
       "  0,\n",
       "  0,\n",
       "  2,\n",
       "  0,\n",
       "  0,\n",
       "  0,\n",
       "  0,\n",
       "  0,\n",
       "  0,\n",
       "  0,\n",
       "  0,\n",
       "  0,\n",
       "  0,\n",
       "  0,\n",
       "  0,\n",
       "  0,\n",
       "  0,\n",
       "  0,\n",
       "  0,\n",
       "  0,\n",
       "  0,\n",
       "  0,\n",
       "  0,\n",
       "  0,\n",
       "  0,\n",
       "  0,\n",
       "  1,\n",
       "  0,\n",
       "  0,\n",
       "  0,\n",
       "  0,\n",
       "  0,\n",
       "  0,\n",
       "  0,\n",
       "  0,\n",
       "  0,\n",
       "  0,\n",
       "  1,\n",
       "  0,\n",
       "  1,\n",
       "  0,\n",
       "  0,\n",
       "  0,\n",
       "  1,\n",
       "  0,\n",
       "  0,\n",
       "  1,\n",
       "  0,\n",
       "  0,\n",
       "  1,\n",
       "  0,\n",
       "  0,\n",
       "  0,\n",
       "  0,\n",
       "  0,\n",
       "  0,\n",
       "  0,\n",
       "  0,\n",
       "  0,\n",
       "  0,\n",
       "  0,\n",
       "  0,\n",
       "  0,\n",
       "  0,\n",
       "  0,\n",
       "  1,\n",
       "  0,\n",
       "  0,\n",
       "  0,\n",
       "  0,\n",
       "  0,\n",
       "  0,\n",
       "  0,\n",
       "  0,\n",
       "  0,\n",
       "  1,\n",
       "  0],\n",
       " [0,\n",
       "  0,\n",
       "  0,\n",
       "  0,\n",
       "  0,\n",
       "  0,\n",
       "  0,\n",
       "  0,\n",
       "  0,\n",
       "  0,\n",
       "  0,\n",
       "  0,\n",
       "  0,\n",
       "  0,\n",
       "  0,\n",
       "  0,\n",
       "  0,\n",
       "  0,\n",
       "  0,\n",
       "  0,\n",
       "  0,\n",
       "  0,\n",
       "  0,\n",
       "  0,\n",
       "  0,\n",
       "  0,\n",
       "  0,\n",
       "  0,\n",
       "  0,\n",
       "  0,\n",
       "  2,\n",
       "  0,\n",
       "  1,\n",
       "  0,\n",
       "  0,\n",
       "  0,\n",
       "  0,\n",
       "  0,\n",
       "  0,\n",
       "  0,\n",
       "  0,\n",
       "  0,\n",
       "  0,\n",
       "  0,\n",
       "  0,\n",
       "  1,\n",
       "  0,\n",
       "  0,\n",
       "  0,\n",
       "  0,\n",
       "  0,\n",
       "  0,\n",
       "  0,\n",
       "  0,\n",
       "  0,\n",
       "  1,\n",
       "  1,\n",
       "  2,\n",
       "  0,\n",
       "  0,\n",
       "  0,\n",
       "  0,\n",
       "  0,\n",
       "  0,\n",
       "  0,\n",
       "  0,\n",
       "  0,\n",
       "  0,\n",
       "  0,\n",
       "  0,\n",
       "  0,\n",
       "  0,\n",
       "  0,\n",
       "  0,\n",
       "  0,\n",
       "  0,\n",
       "  0,\n",
       "  0,\n",
       "  0,\n",
       "  0,\n",
       "  0,\n",
       "  1,\n",
       "  0,\n",
       "  0,\n",
       "  1,\n",
       "  1,\n",
       "  0,\n",
       "  0,\n",
       "  1,\n",
       "  0,\n",
       "  1,\n",
       "  0,\n",
       "  0,\n",
       "  0,\n",
       "  0,\n",
       "  0,\n",
       "  0,\n",
       "  0,\n",
       "  0,\n",
       "  0,\n",
       "  0,\n",
       "  0,\n",
       "  0,\n",
       "  0,\n",
       "  0,\n",
       "  0,\n",
       "  0,\n",
       "  0,\n",
       "  0,\n",
       "  0,\n",
       "  0,\n",
       "  0,\n",
       "  0,\n",
       "  0,\n",
       "  0,\n",
       "  0,\n",
       "  0,\n",
       "  0,\n",
       "  1,\n",
       "  0,\n",
       "  1,\n",
       "  0,\n",
       "  0,\n",
       "  0,\n",
       "  1,\n",
       "  0,\n",
       "  0,\n",
       "  0,\n",
       "  0,\n",
       "  0,\n",
       "  0,\n",
       "  0,\n",
       "  0,\n",
       "  0],\n",
       " [1,\n",
       "  0,\n",
       "  0,\n",
       "  0,\n",
       "  1,\n",
       "  0,\n",
       "  0,\n",
       "  0,\n",
       "  0,\n",
       "  0,\n",
       "  0,\n",
       "  0,\n",
       "  0,\n",
       "  1,\n",
       "  1,\n",
       "  1,\n",
       "  0,\n",
       "  0,\n",
       "  0,\n",
       "  0,\n",
       "  0,\n",
       "  0,\n",
       "  1,\n",
       "  0,\n",
       "  0,\n",
       "  0,\n",
       "  1,\n",
       "  1,\n",
       "  0,\n",
       "  1,\n",
       "  3,\n",
       "  0,\n",
       "  0,\n",
       "  1,\n",
       "  0,\n",
       "  0,\n",
       "  1,\n",
       "  1,\n",
       "  0,\n",
       "  3,\n",
       "  0,\n",
       "  0,\n",
       "  1,\n",
       "  0,\n",
       "  0,\n",
       "  0,\n",
       "  1,\n",
       "  0,\n",
       "  0,\n",
       "  0,\n",
       "  0,\n",
       "  0,\n",
       "  1,\n",
       "  0,\n",
       "  1,\n",
       "  0,\n",
       "  1,\n",
       "  0,\n",
       "  1,\n",
       "  1,\n",
       "  0,\n",
       "  0,\n",
       "  0,\n",
       "  0,\n",
       "  0,\n",
       "  1,\n",
       "  0,\n",
       "  1,\n",
       "  1,\n",
       "  1,\n",
       "  1,\n",
       "  0,\n",
       "  0,\n",
       "  0,\n",
       "  0,\n",
       "  0,\n",
       "  2,\n",
       "  0,\n",
       "  0,\n",
       "  0,\n",
       "  1,\n",
       "  0,\n",
       "  0,\n",
       "  0,\n",
       "  0,\n",
       "  0,\n",
       "  0,\n",
       "  1,\n",
       "  1,\n",
       "  0,\n",
       "  0,\n",
       "  0,\n",
       "  0,\n",
       "  0,\n",
       "  0,\n",
       "  1,\n",
       "  0,\n",
       "  1,\n",
       "  0,\n",
       "  0,\n",
       "  0,\n",
       "  0,\n",
       "  0,\n",
       "  0,\n",
       "  0,\n",
       "  0,\n",
       "  0,\n",
       "  0,\n",
       "  0,\n",
       "  0,\n",
       "  0,\n",
       "  0,\n",
       "  1,\n",
       "  0,\n",
       "  0,\n",
       "  0,\n",
       "  1,\n",
       "  1,\n",
       "  0,\n",
       "  1,\n",
       "  0,\n",
       "  0,\n",
       "  0,\n",
       "  0,\n",
       "  0,\n",
       "  0,\n",
       "  0,\n",
       "  0,\n",
       "  0,\n",
       "  0,\n",
       "  0,\n",
       "  0,\n",
       "  0,\n",
       "  0],\n",
       " [0,\n",
       "  0,\n",
       "  0,\n",
       "  1,\n",
       "  0,\n",
       "  0,\n",
       "  0,\n",
       "  0,\n",
       "  1,\n",
       "  0,\n",
       "  1,\n",
       "  1,\n",
       "  1,\n",
       "  0,\n",
       "  0,\n",
       "  0,\n",
       "  0,\n",
       "  1,\n",
       "  0,\n",
       "  1,\n",
       "  0,\n",
       "  0,\n",
       "  0,\n",
       "  1,\n",
       "  0,\n",
       "  0,\n",
       "  0,\n",
       "  0,\n",
       "  0,\n",
       "  0,\n",
       "  2,\n",
       "  0,\n",
       "  1,\n",
       "  0,\n",
       "  1,\n",
       "  0,\n",
       "  0,\n",
       "  0,\n",
       "  1,\n",
       "  1,\n",
       "  0,\n",
       "  0,\n",
       "  0,\n",
       "  0,\n",
       "  0,\n",
       "  0,\n",
       "  0,\n",
       "  0,\n",
       "  0,\n",
       "  0,\n",
       "  1,\n",
       "  0,\n",
       "  0,\n",
       "  0,\n",
       "  0,\n",
       "  0,\n",
       "  0,\n",
       "  2,\n",
       "  0,\n",
       "  2,\n",
       "  0,\n",
       "  1,\n",
       "  1,\n",
       "  1,\n",
       "  0,\n",
       "  0,\n",
       "  0,\n",
       "  0,\n",
       "  0,\n",
       "  0,\n",
       "  0,\n",
       "  1,\n",
       "  1,\n",
       "  1,\n",
       "  1,\n",
       "  1,\n",
       "  2,\n",
       "  0,\n",
       "  0,\n",
       "  0,\n",
       "  0,\n",
       "  0,\n",
       "  0,\n",
       "  0,\n",
       "  0,\n",
       "  0,\n",
       "  1,\n",
       "  0,\n",
       "  1,\n",
       "  1,\n",
       "  1,\n",
       "  0,\n",
       "  1,\n",
       "  1,\n",
       "  0,\n",
       "  0,\n",
       "  0,\n",
       "  1,\n",
       "  1,\n",
       "  0,\n",
       "  0,\n",
       "  1,\n",
       "  1,\n",
       "  0,\n",
       "  0,\n",
       "  0,\n",
       "  0,\n",
       "  1,\n",
       "  1,\n",
       "  0,\n",
       "  1,\n",
       "  0,\n",
       "  0,\n",
       "  0,\n",
       "  0,\n",
       "  1,\n",
       "  0,\n",
       "  0,\n",
       "  1,\n",
       "  0,\n",
       "  0,\n",
       "  1,\n",
       "  0,\n",
       "  0,\n",
       "  0,\n",
       "  0,\n",
       "  1,\n",
       "  1,\n",
       "  0,\n",
       "  0,\n",
       "  1,\n",
       "  0,\n",
       "  0,\n",
       "  0],\n",
       " [0,\n",
       "  0,\n",
       "  0,\n",
       "  0,\n",
       "  0,\n",
       "  0,\n",
       "  0,\n",
       "  0,\n",
       "  0,\n",
       "  1,\n",
       "  0,\n",
       "  0,\n",
       "  0,\n",
       "  0,\n",
       "  0,\n",
       "  0,\n",
       "  0,\n",
       "  0,\n",
       "  1,\n",
       "  0,\n",
       "  0,\n",
       "  0,\n",
       "  0,\n",
       "  0,\n",
       "  0,\n",
       "  1,\n",
       "  0,\n",
       "  0,\n",
       "  1,\n",
       "  0,\n",
       "  1,\n",
       "  1,\n",
       "  0,\n",
       "  0,\n",
       "  0,\n",
       "  0,\n",
       "  0,\n",
       "  0,\n",
       "  0,\n",
       "  1,\n",
       "  0,\n",
       "  1,\n",
       "  0,\n",
       "  0,\n",
       "  1,\n",
       "  0,\n",
       "  0,\n",
       "  1,\n",
       "  0,\n",
       "  0,\n",
       "  0,\n",
       "  1,\n",
       "  0,\n",
       "  0,\n",
       "  0,\n",
       "  0,\n",
       "  0,\n",
       "  0,\n",
       "  0,\n",
       "  0,\n",
       "  0,\n",
       "  0,\n",
       "  0,\n",
       "  0,\n",
       "  1,\n",
       "  0,\n",
       "  1,\n",
       "  2,\n",
       "  0,\n",
       "  0,\n",
       "  1,\n",
       "  0,\n",
       "  0,\n",
       "  0,\n",
       "  0,\n",
       "  0,\n",
       "  0,\n",
       "  1,\n",
       "  1,\n",
       "  0,\n",
       "  1,\n",
       "  0,\n",
       "  1,\n",
       "  0,\n",
       "  0,\n",
       "  0,\n",
       "  0,\n",
       "  0,\n",
       "  0,\n",
       "  0,\n",
       "  0,\n",
       "  1,\n",
       "  0,\n",
       "  0,\n",
       "  0,\n",
       "  0,\n",
       "  0,\n",
       "  1,\n",
       "  0,\n",
       "  0,\n",
       "  0,\n",
       "  0,\n",
       "  0,\n",
       "  0,\n",
       "  0,\n",
       "  0,\n",
       "  0,\n",
       "  0,\n",
       "  0,\n",
       "  0,\n",
       "  0,\n",
       "  0,\n",
       "  0,\n",
       "  1,\n",
       "  1,\n",
       "  0,\n",
       "  0,\n",
       "  1,\n",
       "  0,\n",
       "  0,\n",
       "  0,\n",
       "  0,\n",
       "  0,\n",
       "  1,\n",
       "  0,\n",
       "  1,\n",
       "  0,\n",
       "  0,\n",
       "  0,\n",
       "  1,\n",
       "  0,\n",
       "  0,\n",
       "  0,\n",
       "  1]]"
      ]
     },
     "execution_count": 158,
     "metadata": {},
     "output_type": "execute_result"
    }
   ],
   "source": [
    "document_term_matrix"
   ]
  },
  {
   "cell_type": "markdown",
   "id": "d52b8199",
   "metadata": {},
   "source": [
    "La variable `document_term_matrix` contient maintenant une représentation tabulaire du corpus. Chaque ligne est associée à un document et chaque colonne est associée à un élément du vocabulaire. Le tableau ci-dessous montre les premières lignes et plusieurs colonnes de cette table."
   ]
  },
  {
   "cell_type": "code",
   "execution_count": 159,
   "id": "1c543099",
   "metadata": {
    "tags": [
     "remove-input"
    ]
   },
   "outputs": [
    {
     "data": {
      "text/html": [
       "<div>\n",
       "<style scoped>\n",
       "    .dataframe tbody tr th:only-of-type {\n",
       "        vertical-align: middle;\n",
       "    }\n",
       "\n",
       "    .dataframe tbody tr th {\n",
       "        vertical-align: top;\n",
       "    }\n",
       "\n",
       "    .dataframe thead th {\n",
       "        text-align: right;\n",
       "    }\n",
       "</style>\n",
       "<table border=\"1\" class=\"dataframe\">\n",
       "  <thead>\n",
       "    <tr style=\"text-align: right;\">\n",
       "      <th></th>\n",
       "      <th>ai</th>\n",
       "      <th>annonçât</th>\n",
       "      <th>ans</th>\n",
       "      <th>arbre</th>\n",
       "      <th>ardent</th>\n",
       "      <th>auspices</th>\n",
       "      <th>avait</th>\n",
       "      <th>baron</th>\n",
       "      <th>bel</th>\n",
       "      <th>bien</th>\n",
       "      <th>branche</th>\n",
       "      <th>buis</th>\n",
       "      <th>bénit</th>\n",
       "      <th>capricieux</th>\n",
       "      <th>ce</th>\n",
       "    </tr>\n",
       "  </thead>\n",
       "  <tbody>\n",
       "    <tr>\n",
       "      <th>0</th>\n",
       "      <td>0</td>\n",
       "      <td>0</td>\n",
       "      <td>0</td>\n",
       "      <td>0</td>\n",
       "      <td>0</td>\n",
       "      <td>0</td>\n",
       "      <td>0</td>\n",
       "      <td>0</td>\n",
       "      <td>0</td>\n",
       "      <td>0</td>\n",
       "      <td>0</td>\n",
       "      <td>0</td>\n",
       "      <td>0</td>\n",
       "      <td>0</td>\n",
       "      <td>0</td>\n",
       "    </tr>\n",
       "    <tr>\n",
       "      <th>1</th>\n",
       "      <td>0</td>\n",
       "      <td>1</td>\n",
       "      <td>0</td>\n",
       "      <td>0</td>\n",
       "      <td>0</td>\n",
       "      <td>1</td>\n",
       "      <td>1</td>\n",
       "      <td>0</td>\n",
       "      <td>0</td>\n",
       "      <td>1</td>\n",
       "      <td>0</td>\n",
       "      <td>0</td>\n",
       "      <td>0</td>\n",
       "      <td>0</td>\n",
       "      <td>0</td>\n",
       "    </tr>\n",
       "    <tr>\n",
       "      <th>2</th>\n",
       "      <td>0</td>\n",
       "      <td>0</td>\n",
       "      <td>1</td>\n",
       "      <td>0</td>\n",
       "      <td>0</td>\n",
       "      <td>0</td>\n",
       "      <td>1</td>\n",
       "      <td>1</td>\n",
       "      <td>0</td>\n",
       "      <td>0</td>\n",
       "      <td>0</td>\n",
       "      <td>0</td>\n",
       "      <td>0</td>\n",
       "      <td>0</td>\n",
       "      <td>0</td>\n",
       "    </tr>\n",
       "    <tr>\n",
       "      <th>3</th>\n",
       "      <td>0</td>\n",
       "      <td>0</td>\n",
       "      <td>0</td>\n",
       "      <td>0</td>\n",
       "      <td>0</td>\n",
       "      <td>0</td>\n",
       "      <td>0</td>\n",
       "      <td>0</td>\n",
       "      <td>0</td>\n",
       "      <td>0</td>\n",
       "      <td>0</td>\n",
       "      <td>0</td>\n",
       "      <td>0</td>\n",
       "      <td>0</td>\n",
       "      <td>0</td>\n",
       "    </tr>\n",
       "    <tr>\n",
       "      <th>4</th>\n",
       "      <td>1</td>\n",
       "      <td>0</td>\n",
       "      <td>0</td>\n",
       "      <td>0</td>\n",
       "      <td>1</td>\n",
       "      <td>0</td>\n",
       "      <td>0</td>\n",
       "      <td>0</td>\n",
       "      <td>0</td>\n",
       "      <td>0</td>\n",
       "      <td>0</td>\n",
       "      <td>0</td>\n",
       "      <td>0</td>\n",
       "      <td>1</td>\n",
       "      <td>1</td>\n",
       "    </tr>\n",
       "  </tbody>\n",
       "</table>\n",
       "</div>"
      ],
      "text/plain": [
       "   ai  annonçât  ans  arbre  ardent  auspices  avait  baron  bel  bien  \\\n",
       "0   0         0    0      0       0         0      0      0    0     0   \n",
       "1   0         1    0      0       0         1      1      0    0     1   \n",
       "2   0         0    1      0       0         0      1      1    0     0   \n",
       "3   0         0    0      0       0         0      0      0    0     0   \n",
       "4   1         0    0      0       1         0      0      0    0     0   \n",
       "\n",
       "   branche  buis  bénit  capricieux  ce  \n",
       "0        0     0      0           0   0  \n",
       "1        0     0      0           0   0  \n",
       "2        0     0      0           0   0  \n",
       "3        0     0      0           0   0  \n",
       "4        0     0      0           1   1  "
      ]
     },
     "execution_count": 159,
     "metadata": {},
     "output_type": "execute_result"
    }
   ],
   "source": [
    "import pandas as pd\n",
    "pd.DataFrame(document_term_matrix, columns=vocabulary).iloc[0:5, 0:15]"
   ]
  },
  {
   "cell_type": "markdown",
   "id": "b4a6244c",
   "metadata": {},
   "source": [
    "Bien que la liste Python soit un type de données pratique pour la *construction* d'une matrice terme-document, elle est moins utile lorsque l'on souhaite accéder et manipuler la matrice. Dans ce qui suit, nous utiliserons le package Python standard pour le calcul scientifique, <span class=\"index\">NumPy</span>, qui nous permet de stocker et d'analyser les matrices terme-document avec moins de ressources computationnelles et beaucoup moins d'efforts de notre part. Afin de ne pas perturber le fil narratif du chapitre, nous n'introduirons pas ce package en détail ici : les lecteurs moins expérimentés sont renvoyés à l'aperçu introductif à la fin de ce chapitre, qui discute en détail des principales fonctionnalités du package.\n",
    "\n",
    "## Cartographie des Genres\n",
    "\n",
    "#### Chargement du corpus\n"
   ]
  },
  {
   "cell_type": "markdown",
   "id": "89f54832-c20d-4bdc-bfcc-e3486c70a172",
   "metadata": {},
   "source": [
    "![genre du corpus chapitres](./genres_corpus.png)"
   ]
  },
  {
   "cell_type": "markdown",
   "id": "47d6858f",
   "metadata": {},
   "source": [
    "#### Explorer the corpus\n",
    "\n",
    "Après avoir chargé les romans en mémoire, nous pouvons transformer la collection en une <span class=\"index\">matrice terme-document</span>. Dans le bloc de code suivant, nous prétraitons d'abord chaque pièce en utilisant la fonction `preprocess_text()` définie précédemment, qui renvoie une liste de jetons de mots en minuscules pour chaque pièce. Ensuite, nous construisons le <span class=\"index\">vocabulaire</span> avec `extract_vocabulary()`, et <span class=\"index\">élaguons</span> tous les mots qui apparaissent moins de deux fois dans la collection. La dernière étape consiste alors à assembler la matrice terme-document en calculant les comptes de jetons pour tous les mots restants dans le vocabulaire pour chaque document de la collection."
   ]
  },
  {
   "cell_type": "code",
   "execution_count": 160,
   "id": "4123196e-1df1-4714-b49b-ecaba50c7f0f",
   "metadata": {},
   "outputs": [],
   "source": [
    "# get a list of str of the corpus\n",
    "from glob import glob\n",
    "path_txt = \"/home/crazyjeannot/Documents/cours/Python4DH/corpus/*.txt\""
   ]
  },
  {
   "cell_type": "code",
   "execution_count": 161,
   "id": "8dbc11e8-df9c-4515-a469-67f1da31aa48",
   "metadata": {
    "scrolled": true
   },
   "outputs": [
    {
     "name": "stdout",
     "output_type": "stream",
     "text": [
      "/home/crazyjeannot/Documents/cours/Python4DH/corpus/1902_Loti-Pierre_Les-derniers-jours-de-Pekin.txt\n",
      "/home/crazyjeannot/Documents/cours/Python4DH/corpus/1906_Gide-Andre_Amyntas.txt\n",
      "/home/crazyjeannot/Documents/cours/Python4DH/corpus/1933_Veuzit-Max-du_Vers-l'unique.txt\n",
      "/home/crazyjeannot/Documents/cours/Python4DH/corpus/1938_Larbaud-Valery_Aux-couleurs-de-Rome.txt\n",
      "/home/crazyjeannot/Documents/cours/Python4DH/corpus/1905_Farrere-Claude_Les-civilises.txt\n",
      "/home/crazyjeannot/Documents/cours/Python4DH/corpus/1955_Delly_Ourida.txt\n",
      "/home/crazyjeannot/Documents/cours/Python4DH/corpus/1904_Le-Rouge-Gustave_L-Esclave-amoureuse.txt\n",
      "/home/crazyjeannot/Documents/cours/Python4DH/corpus/1913_Delly_Entre-deux-ames.txt\n",
      "/home/crazyjeannot/Documents/cours/Python4DH/corpus/1912_Loti-Pierre_Un-pelerin-d-Angkor 2.txt\n",
      "/home/crazyjeannot/Documents/cours/Python4DH/corpus/1908_Veuzit-Max-du_Le-mystere-de-Malbackt.txt\n",
      "/home/crazyjeannot/Documents/cours/Python4DH/corpus/2008_Rolin-Olivier_La-Chambre-des-cartes.txt\n",
      "/home/crazyjeannot/Documents/cours/Python4DH/corpus/1913_Delly_Dans-l'ombre-du-mystere.txt\n",
      "/home/crazyjeannot/Documents/cours/Python4DH/corpus/1913_Dombre-Roger_Un-tuteur-embarrasse.txt\n",
      "/home/crazyjeannot/Documents/cours/Python4DH/corpus/1903_Vogue-Eugene-Melchior-de_Le-Maitre-de-la-mer.txt\n",
      "/home/crazyjeannot/Documents/cours/Python4DH/corpus/1902_Le-Rouge-Gustave_La-Princesse-des-airs_Tome-II.txt\n",
      "/home/crazyjeannot/Documents/cours/Python4DH/corpus/1905_Lermina-Jules_To-Ho-Le-Tueur-d-or.txt\n",
      "/home/crazyjeannot/Documents/cours/Python4DH/corpus/1905_Le-Rouge-Gustave_L-Espionne-du-grand-Lama.txt\n",
      "/home/crazyjeannot/Documents/cours/Python4DH/corpus/1912_Loti-Pierre_Un-pelerin-d-Angkor.txt\n",
      "/home/crazyjeannot/Documents/cours/Python4DH/corpus/1932_Veuzit-Max-du_Petite-comtesse.txt\n",
      "/home/crazyjeannot/Documents/cours/Python4DH/corpus/1900_Verne-Jules-_Seconde-patrie.txt\n",
      "/home/crazyjeannot/Documents/cours/Python4DH/corpus/1905_Verne-Jules_Le-Phare-du-Bout-du-Monde.txt\n",
      "/home/crazyjeannot/Documents/cours/Python4DH/corpus/1931_Veuzit-Max-du_John,-chauffeur-russe.txt\n",
      "/home/crazyjeannot/Documents/cours/Python4DH/corpus/1963_Bouvier-Nicolas_L-usage-du-monde.txt\n",
      "/home/crazyjeannot/Documents/cours/Python4DH/corpus/1916_Delly_La-fin-d'une-Walkyrie.txt\n",
      "/home/crazyjeannot/Documents/cours/Python4DH/corpus/1902_Le-Rouge-Gustave_La-Princesse-des-airs_Tome-I.txt\n",
      "/home/crazyjeannot/Documents/cours/Python4DH/corpus/1905_Verne-Jules_L-invasion-de-la-mer.txt\n",
      "/home/crazyjeannot/Documents/cours/Python4DH/corpus/2012_Kerangal-Maylis-de_Tangente-vers-l-est.txt\n",
      "/home/crazyjeannot/Documents/cours/Python4DH/corpus/1901_Thurner-Georges_Mademoiselle-Flammette.txt\n",
      "/home/crazyjeannot/Documents/cours/Python4DH/corpus/1903_Loti-Pierre_L-Inde-(sans-les-Anglais).txt\n",
      "/home/crazyjeannot/Documents/cours/Python4DH/corpus/1904_Loti-Pierre_Vers-Ispahan.txt\n",
      "/home/crazyjeannot/Documents/cours/Python4DH/corpus/1908_Delly_L'exilee.txt\n",
      "/home/crazyjeannot/Documents/cours/Python4DH/corpus/1911_Gautier-Judith_En-chine-Merveilleuses-histoires.txt\n",
      "/home/crazyjeannot/Documents/cours/Python4DH/corpus/1902_Allais-Alphonse_Le-Captain-Cap.txt\n",
      "/home/crazyjeannot/Documents/cours/Python4DH/corpus/2013_Tesson-Sylvain_Dans-les-forets-de-Siberie.txt\n",
      "/home/crazyjeannot/Documents/cours/Python4DH/corpus/1916_Ardel-Henri_Le-chemin-qui-descend.txt\n",
      "/home/crazyjeannot/Documents/cours/Python4DH/corpus/1917_Delly_La-petite-chanoinesse.txt\n",
      "/home/crazyjeannot/Documents/cours/Python4DH/corpus/1922_Alanic-Mathilde_La-route-ardente.txt\n"
     ]
    }
   ],
   "source": [
    "corpus = []\n",
    "for doc in glob(path_txt):\n",
    "    print(doc)\n",
    "    with open(doc, encoding=\"utf8\") as file_in:\n",
    "        text = file_in.read()\n",
    "        corpus.append(text.replace('\\xa0', ' '))"
   ]
  },
  {
   "cell_type": "code",
   "execution_count": 162,
   "id": "04b9ba88-fda3-4d6b-b616-bb18f01976cc",
   "metadata": {},
   "outputs": [
    {
     "data": {
      "text/plain": [
       "37"
      ]
     },
     "execution_count": 162,
     "metadata": {},
     "output_type": "execute_result"
    }
   ],
   "source": [
    "len(corpus)"
   ]
  },
  {
   "cell_type": "code",
   "execution_count": 164,
   "id": "2b859b36",
   "metadata": {
    "scrolled": true
   },
   "outputs": [
    {
     "name": "stdout",
     "output_type": "stream",
     "text": [
      "document-term matrix with |D| = 37 documents and |V| = 42236 words.\n"
     ]
    }
   ],
   "source": [
    "roman_tok = [preprocess_text(roman, 'french') for roman in corpus]\n",
    "vocabulary = extract_vocabulary(roman_tok, min_count=2)\n",
    "document_term_matrix = np.array(corpus2dtm(roman_tok, vocabulary))\n",
    "\n",
    "print(f\"document-term matrix with \"\n",
    "      f\"|D| = {document_term_matrix.shape[0]} documents and \"\n",
    "      f\"|V| = {document_term_matrix.shape[1]} words.\")"
   ]
  },
  {
   "cell_type": "code",
   "execution_count": null,
   "id": "a3f3468d-5570-44e8-8a19-aa07e0baf8bc",
   "metadata": {},
   "outputs": [],
   "source": []
  },
  {
   "cell_type": "code",
   "execution_count": 171,
   "id": "e90a81dc-5564-4bbf-a689-9d10a5342371",
   "metadata": {},
   "outputs": [
    {
     "data": {
      "text/plain": [
       "42236"
      ]
     },
     "execution_count": 171,
     "metadata": {},
     "output_type": "execute_result"
    }
   ],
   "source": [
    "len(document_term_matrix[0])"
   ]
  },
  {
   "cell_type": "markdown",
   "id": "82a1c0f6",
   "metadata": {},
   "source": [
    "Nous sommes maintenant prêts à commencer notre analyse : nous avons une représentation efficace en sac de mots d'un corpus sous la forme d'une matrice NumPy (un tableau bidimensionnel) et une liste d'étiquettes qui code de manière non ambiguë le genre pour chaque vecteur de document dans cette table.\n",
    "\n",
    "Commençons par représenter naïvement les documents disponibles, comme si les comptages de fréquence pour deux mots spécifiques dans notre modèle de sac de mots étaient simplement des coordonnées bidimensionnelles sur une carte. "
   ]
  },
  {
   "cell_type": "code",
   "execution_count": 180,
   "id": "f908ccb1",
   "metadata": {},
   "outputs": [],
   "source": [
    "voyage_idx = vocabulary.index('voyage')\n",
    "amour_idx = vocabulary.index('amour')\n",
    "\n",
    "voyage_compte = document_term_matrix[:, voyage_idx]\n",
    "amour_compte = document_term_matrix[:, amour_idx]"
   ]
  },
  {
   "cell_type": "markdown",
   "id": "32ca4360",
   "metadata": {},
   "source": [
    "Bien que NumPy soit optimisé pour traiter des données numériques, les listes de chaînes peuvent également être converties en tableaux (<span class=\"index\">arrays</span>). C'est précisément ce que nous ferons également avec notre liste d'étiquettes de genre, afin de faciliter le processus de récupération des emplacements d'étiquettes de genre spécifiques dans la liste plus tard :"
   ]
  },
  {
   "cell_type": "code",
   "execution_count": 181,
   "id": "f7fc3916",
   "metadata": {},
   "outputs": [],
   "source": [
    "#genres = np.array(['romance', 'aventure', 'voyage'])\n",
    "genres = np.array(['voyage', 'voyage', 'romance', 'voyage', 'aventure', \"romance\", 'aventure', 'romance', 'voyage', 'romance', 'voyage', 'romance', 'voyage', 'aventure', 'aventure', 'aventure', 'aventure', 'voyage', 'romance', 'aventure', 'aventure', 'romance', 'voyage', 'romance', 'aventure', 'aventure', 'voyage', 'aventure', 'voyage', 'voyage', 'romance', 'voyage', 'aventure', 'voyage', 'romance', 'romance', 'romance'])"
   ]
  },
  {
   "cell_type": "markdown",
   "id": "fd92cc3c",
   "metadata": {},
   "source": [
    "Les vecteurs de colonne, `voyage_compte` et `amour_compte`, ont tous deux la même longueur et comprennent les comptages de fréquence pour chacun de nos deux mots dans chaque document. En utilisant les étiquettes dans la liste correspondante des tags de genre, nous pouvons maintenant représenter chaque document comme un point dans l'espace bidimensionnel défini par les deux vecteurs de comptage. Soyez attentif aux deux premiers arguments passés à la fonction `scatter()` à l'intérieur de la boucle `for` dans laquelle nous itérons sur les trois genres : en utilisant le mécanisme d'« <span class=\"index\">indexation booléenne</span> », nous sélectionnons les comptages de fréquence pour les documents pertinents et nous les représentons comme un groupe à chaque itération. La figure ci-dessous est générée en utilisant le bloc de code suivant :"
   ]
  },
  {
   "cell_type": "code",
   "execution_count": 182,
   "id": "29f7a611-2b60-4c96-803f-daacf8110c4e",
   "metadata": {},
   "outputs": [
    {
     "data": {
      "text/plain": [
       "array([15, 10,  4, 11,  5,  7,  0, 12,  5, 10,  6,  3, 11, 28, 38,  3, 65,\n",
       "        5, 11, 35,  4,  6, 44, 11, 32, 12,  4, 13, 12, 18,  9, 12,  1,  3,\n",
       "        1,  6,  7])"
      ]
     },
     "execution_count": 182,
     "metadata": {},
     "output_type": "execute_result"
    }
   ],
   "source": [
    "voyage_compte"
   ]
  },
  {
   "cell_type": "code",
   "execution_count": 183,
   "id": "115c106f-c014-4e51-9a12-47bad69d7940",
   "metadata": {},
   "outputs": [
    {
     "data": {
      "text/plain": [
       "array([ 1,  5, 36,  4, 16,  4,  8, 14,  4, 13,  0, 18,  0, 61,  0,  5,  1,\n",
       "        4, 20,  1,  0, 45, 16, 55,  2,  0,  3,  0,  8,  0, 13,  0,  5, 19,\n",
       "        7, 33, 16])"
      ]
     },
     "execution_count": 183,
     "metadata": {},
     "output_type": "execute_result"
    }
   ],
   "source": [
    "amour_compte"
   ]
  },
  {
   "cell_type": "code",
   "execution_count": 184,
   "id": "649a74ab-adab-48e0-897f-3dc0ac02e496",
   "metadata": {},
   "outputs": [
    {
     "data": {
      "text/plain": [
       "37"
      ]
     },
     "execution_count": 184,
     "metadata": {},
     "output_type": "execute_result"
    }
   ],
   "source": [
    "len(genres)"
   ]
  },
  {
   "cell_type": "code",
   "execution_count": 185,
   "id": "b2d8b57c",
   "metadata": {},
   "outputs": [
    {
     "data": {
      "image/png": "[encoded data removed]",
      "text/plain": [
       "<Figure size 640x480 with 1 Axes>"
      ]
     },
     "metadata": {},
     "output_type": "display_data"
    }
   ],
   "source": [
    "fig, ax = plt.subplots()\n",
    "\n",
    "for genre in ('romance', 'aventure', 'voyage'):\n",
    "    ax.scatter(voyage_compte[genres == genre],\n",
    "               amour_compte[genres == genre],\n",
    "               label=genre, alpha=0.7)\n",
    "\n",
    "ax.set(xlabel='voyage', ylabel='amour')\n",
    "plt.legend();"
   ]
  },
  {
   "cell_type": "markdown",
   "id": "388dc356",
   "metadata": {},
   "source": [
    "\n",
    "\n",
    "#### Sous-genre et Vecteurs\n",
    "\n",
    "Comment pourrait-on vérifier ces impressions ?"
   ]
  },
  {
   "cell_type": "code",
   "execution_count": null,
   "id": "e8fed71f-f2f1-4acd-8014-9eddaf64c95d",
   "metadata": {},
   "outputs": [],
   "source": []
  },
  {
   "cell_type": "code",
   "execution_count": 186,
   "id": "380d771e",
   "metadata": {},
   "outputs": [],
   "source": [
    "romance_means = document_term_matrix[genres == 'romance'].mean(axis=0)\n",
    "aventures_means = document_term_matrix[genres == 'aventure'].mean(axis=0)\n",
    "voyage_means = document_term_matrix[genres == 'voyage'].mean(axis=0)"
   ]
  },
  {
   "cell_type": "markdown",
   "id": "f7953a38",
   "metadata": {},
   "source": [
    "Les vecteurs moyens résultants contiendront une liste ou un vecteur unidimensionnel pour chaque terme de notre vocabulaire :"
   ]
  },
  {
   "cell_type": "code",
   "execution_count": 187,
   "id": "cfd3916d",
   "metadata": {},
   "outputs": [
    {
     "name": "stdout",
     "output_type": "stream",
     "text": [
      "(42236,)\n"
     ]
    }
   ],
   "source": [
    "print(aventures_means.shape)"
   ]
  },
  {
   "cell_type": "markdown",
   "id": "32783903",
   "metadata": {},
   "source": [
    "We still can use the precomputed indices to retrieve the mean frequency of individual words from these summary vectors:"
   ]
  },
  {
   "cell_type": "code",
   "execution_count": 190,
   "id": "b626d42a",
   "metadata": {},
   "outputs": [
    {
     "name": "stdout",
     "output_type": "stream",
     "text": [
      "Mean absolute frequency of \"voyage\"\n",
      "   in romance: 7.25\n",
      "   in aventures: 19.67\n",
      "   in voyage: 12.00\n"
     ]
    }
   ],
   "source": [
    "print('Mean absolute frequency of \"voyage\"')\n",
    "print(f'   in romance: {romance_means[voyage_idx]:.2f}')\n",
    "print(f'   in aventures: {aventures_means[voyage_idx]:.2f}')\n",
    "print(f'   in voyage: {voyage_means[voyage_idx]:.2f}')"
   ]
  },
  {
   "cell_type": "markdown",
   "id": "a848604e",
   "metadata": {},
   "source": [
    "The mean frequencies for these words are again revealing telling differences across our\n",
    "three genres. This also becomes evident by plotting the mean values in a scatter plot:"
   ]
  },
  {
   "cell_type": "code",
   "execution_count": 191,
   "id": "c8d18424",
   "metadata": {},
   "outputs": [
    {
     "data": {
      "image/png": "[encoded data removed]",
      "text/plain": [
       "<Figure size 640x480 with 1 Axes>"
      ]
     },
     "metadata": {},
     "output_type": "display_data"
    }
   ],
   "source": [
    "fig, ax = plt.subplots()\n",
    "\n",
    "ax.scatter(\n",
    "    romance_means[voyage_idx], romance_means[amour_idx], label='Romance')\n",
    "ax.scatter(\n",
    "    aventures_means[voyage_idx], aventures_means[amour_idx], label='Aventures')\n",
    "ax.scatter(\n",
    "    voyage_means[voyage_idx], voyage_means[amour_idx], label='Voyage')\n",
    "\n",
    "ax.set(xlabel='voyage', ylabel='amour')\n",
    "plt.legend();"
   ]
  },
  {
   "cell_type": "markdown",
   "id": "22ed2189",
   "metadata": {},
   "source": [
    "### Calcul des distances entre les documents\n",
    "\n",
    "Pauseons-nous un instant et examinons de plus près la représentation simplifiée de notre corpus sous la forme des trois centroïdes. Le chapitre a entrepris d'explorer comment nous pourrions appliquer un raisonnement spatial aux textes en utilisant un modèle sac-de-mots. Dans l'espace défini par ce modèle, nous devrions maintenant comprendre pourquoi les documents avec des représentations vectorielles similaires sont plus proches les uns des autres. Le pari pour le reste de ce chapitre sera que la <span class=\"index\">distance géométrique</span> entre les vecteurs peut en effet servir de substitut aux jugements humains sur la dissimilarité de deux documents. Pour mettre cela en pratique, une définition précise de la distance dans un espace vectoriel doit être choisie. Examinons et illustrons un certain nombre de méthodes établies pour calculer la distance entre les vecteurs de documents et illustrons-les sur la base de nos trois vecteurs de genre. Pour simplifier, nous définissons trois vecteurs, un pour chaque genre. Nous utiliserons les points dans cet espace vectoriel \"miniature\" pour introduire plusieurs métriques de distance établies."
   ]
  },
  {
   "cell_type": "code",
   "execution_count": 192,
   "id": "c7daa768",
   "metadata": {},
   "outputs": [],
   "source": [
    "romance = np.array([romance_means[voyage_idx], romance_means[amour_idx]])\n",
    "aventure = np.array([aventures_means[voyage_idx], aventures_means[amour_idx]])\n",
    "voyage = np.array([voyage_means[voyage_idx], voyage_means[amour_idx]])"
   ]
  },
  {
   "cell_type": "markdown",
   "id": "73367c02",
   "metadata": {},
   "source": [
    "(sec-vector-space-model-euclidean-distance)=\n",
    "#### Euclidean distance"
   ]
  },
  {
   "cell_type": "code",
   "execution_count": 195,
   "id": "fed817d0-7389-4199-8456-96fecd445e5c",
   "metadata": {},
   "outputs": [
    {
     "data": {
      "image/png": "[encoded data removed]",
      "text/plain": [
       "<Figure size 640x480 with 1 Axes>"
      ]
     },
     "metadata": {},
     "output_type": "display_data"
    }
   ],
   "source": [
    "fig, ax = plt.subplots()\n",
    "\n",
    "ax.plot([romance_means[voyage_idx], voyage_means[voyage_idx]],\n",
    "        [romance_means[amour_idx], voyage_means[amour_idx]],\n",
    "        'darkgrey', lw=2, ls='--')\n",
    "ax.plot([romance_means[voyage_idx], aventures_means[voyage_idx]],\n",
    "        [romance_means[amour_idx], aventures_means[amour_idx]],\n",
    "        'darkgrey', lw=2, ls='--')\n",
    "ax.plot([voyage_means[voyage_idx], aventures_means[voyage_idx]],\n",
    "        [voyage_means[amour_idx], aventures_means[amour_idx]],\n",
    "        'darkgrey', lw=2, ls='--')\n",
    "\n",
    "ax.scatter(aventures_means[voyage_idx], aventures_means[amour_idx],\n",
    "           label='aventures', zorder=3)\n",
    "ax.scatter(romance_means[voyage_idx], romance_means[amour_idx],\n",
    "           label='romance', zorder=3)\n",
    "ax.scatter(voyage_means[voyage_idx], voyage_means[amour_idx],\n",
    "           label='voyage', zorder=3)\n",
    "\n",
    "ax.set(xlabel='voyage', ylabel='amour')\n",
    "plt.legend(loc='upper center', bbox_to_anchor=(0.5, 1.1), ncol=3);"
   ]
  },
  {
   "cell_type": "markdown",
   "id": "715caab5",
   "metadata": {},
   "source": [
    "Illustration de la métrique de distance euclidienne pour les vecteurs de genre.\n",
    "\n",
    "Commençons peut-être par la distance la plus directe imaginable entre deux points dans l'espace, à savoir celle du \"vol d'oiseau\". La <span class=\"index\">distance euclidienne</span> mesure intuitivement la longueur de la ligne droite qui relie deux points. Ces lignes droites sont indiquées en gris dans la Figure {numref}`fig-vector-space-model-euclidean`. Le calcul exact de la longueur de ces lignes se fait grâce à l'application de la distance euclidienne. En utilisant la notation mathématique, nous représentons un vecteur comme $\\vec{x}$. Ainsi, étant donné deux vecteurs $\\vec{a}$ et $\\vec{b}$ avec $n$ coordonnées, la longueur de la ligne reliant deux points est calculée comme suit :\n",
    "\n",
    "\\begin{equation}\n",
    "d_2(\\vec{a}, \\vec{b}) = \\sqrt{\\sum^n_{i=1} (a_i - b_i)^2}\n",
    "\\end{equation}\n",
    "\n",
    "\n",
    "Tout le monde n'est pas familier avec ces notations mathématiques, expliquons donc brièvement comment lire la formule. Tout d'abord, $d_2$ est une fonction qui prend deux vecteurs, $\\vec{a}$ et $\\vec{b}$. Ensuite, $\\sum^n_{i=1}$ est une notation de sommation ou de sigma, qui est une notation pratique pour exprimer la somme des valeurs d'une variable. Ici, les valeurs sont les différences au carré entre la $i$-ème valeur du vecteur $\\vec{a}$ et la $i$-ème valeur du vecteur $\\vec{b}$, c'est-à-dire $(a_i - b_i)^2$. Nous calculons ces différences pour toutes les $n$ coordonnées (d'où le petit $n$ au-dessus du signe sigma ; l'expression $i=1$ en dessous exprime que nous commençons à partir du tout premier élément de la série). Enfin, nous prenons la racine carrée ($\\sqrt{}$) de cette somme. Parfois, les détails des formules deviennent plus clairs sous la forme de code. La formule de la distance euclidienne est relativement facile à traduire en la fonction Python suivante (qui se résume essentiellement à une seule ligne, grâce à la concision de NumPy) :"
   ]
  },
  {
   "cell_type": "code",
   "execution_count": 196,
   "id": "95647fa0",
   "metadata": {},
   "outputs": [],
   "source": [
    "def euclidean_distance(a, b):\n",
    "    \"\"\"Calcule la distance euclidienne entre deux vecteurs.\n",
    "\n",
    "    Remarque : ``numpy.linalg.norm(a - b)`` effectue le\n",
    "    même calcul en utilisant une méthode légèrement plus rapide.\n",
    "\n",
    "    Arguments :\n",
    "        a (numpy.ndarray) : un vecteur de flottants ou d'entiers.\n",
    "        b (numpy.ndarray) : un vecteur de flottants ou d'entiers.\n",
    "\n",
    "    Returns :\n",
    "        float : La distance euclidienne entre les vecteurs a et b.\n",
    "\n",
    "    Examples :\n",
    "        >>> import numpy as np\n",
    "        >>> a = np.array([1, 4, 2, 8])\n",
    "        >>> b = np.array([2, 1, 4, 7])\n",
    "        >>> round(distance_euclidienne(a, b), 2)\n",
    "        3.87\n",
    "    \"\"\"\n",
    "    return np.sqrt(np.sum((a - b) ** 2))"
   ]
  },
  {
   "cell_type": "markdown",
   "id": "0a50f159",
   "metadata": {},
   "source": [
    "In the code block below, we apply this <span class=\"index\">distance metric</span> to the three pairwise combinations of our three vectors:"
   ]
  },
  {
   "cell_type": "code",
   "execution_count": 197,
   "id": "7af71b6c",
   "metadata": {},
   "outputs": [
    {
     "name": "stdout",
     "output_type": "stream",
     "text": [
      "romance - aventure:       19.15\n",
      "romance - voyage: 18.53\n",
      " aventure - voyage: 8.36\n"
     ]
    }
   ],
   "source": [
    "tc = euclidean_distance(romance, aventure)\n",
    "print(f'romance - aventure:       {tc:.2f}')\n",
    "\n",
    "ttc = euclidean_distance(romance, voyage)\n",
    "print(f'romance - voyage: {ttc:.2f}')\n",
    "\n",
    "ctc = euclidean_distance(aventure, voyage)\n",
    "print(f' aventure - voyage: {ctc:.2f}')"
   ]
  },
  {
   "cell_type": "markdown",
   "id": "ebf6d9f1",
   "metadata": {},
   "source": [
    "The resulting distances clearly confirm our visual impression from the plot: the les romans d'aventures et de voyage se ressemblent, et tout deux sont assez loin du roman sentimental\n",
    "\n",
    "#### La distance Cosine"
   ]
  },
  {
   "cell_type": "markdown",
   "id": "36af4618-a89c-41d7-b7f7-461657f70675",
   "metadata": {},
   "source": [
    "![cosine](./cosine.png)"
   ]
  },
  {
   "cell_type": "code",
   "execution_count": null,
   "id": "31f79e9b-8759-46c9-b8fd-30fdb6213d46",
   "metadata": {},
   "outputs": [],
   "source": []
  },
  {
   "cell_type": "markdown",
   "id": "6d253728",
   "metadata": {},
   "source": [
    "Illustration de la métrique de distance cosinus pour les vecteurs de genre.\n",
    "\n",
    "Une alternative intéressante à la distance euclidienne est la célèbre <span class=\"index\">distance cosinus</span> de la géométrie, qui est peut-être la métrique la plus largement utilisée pour calculer les dissimilarités entre les vecteurs de documents. Lors du calcul de la distance entre deux documents dans un espace, la distance euclidienne regarde simplement les coordonnées exactes des deux documents : elle les relie avec une ligne droite, pour ainsi dire, et renvoie la longueur de cette ligne. La distance cosinus, cependant, adopte une perspective assez différente : elle n'est pas principalement intéressée par ces deux *points* en tant que tels, mais elle les interprétera comme des flèches ou des *vecteurs* qui trouvent leur décalage par rapport à l'origine de l'espace. Ces vecteurs sont représentés par des lignes pointillées en gris dans la figure ci-dessous.\n",
    "\n",
    "Pour estimer la similarité entre deux documents, la métrique mesurera la taille de l'angle entre les deux vecteurs qui sont définis par eux. La similarité entre deux vecteurs est mesurée par le cosinus de l'angle entre les deux vecteurs, car le cosinus d'un angle augmente à mesure que l'angle diminue. Les vecteurs pointant dans la même direction (c'est-à-dire ayant un petit angle entre eux) seront, selon cette mesure, évalués comme proches l'un de l'autre, même si la magnitude des vecteurs est radicalement différente et que la longueur de la ligne les reliant est grande.\n",
    "\n",
    "La formule mathématique pour calculer la distance cosinus entre deux vecteurs $\\vec{a}$ et $\\vec{b}$ est légèrement plus complexe :\n",
    "\n",
    "\\begin{equation}\n",
    "d_{\\cos}(\\vec a, \\vec b) = 1 - \\frac{\\vec{a} \\cdot \\vec{b}}{|\\vec{a}||\\vec{b}|}\n",
    "\\end{equation}\n",
    "\n",
    "Décomposons un peu cette formule. Le numérateur dans la fraction à droite implique un <span class=\"index\">*produit scalaire*</span>. Il s'agit de la somme de la multiplication de chaque élément de $\\vec{a}$ par son élément correspondant de $\\vec{b}$, c'est-à-dire :\n",
    "\n",
    "\\begin{equation}\n",
    "\\vec{a} \\cdot \\vec{b} = \\sum^n_{i=1} a_i b_i = a_1 b_1 + a_2 b_2 + \\ldots + a_n b_n\n",
    "\\end{equation}\n",
    "\n",
    "Avec NumPy, le produit scalaire peut être calculé avec <span class=\"index\">`numpy.dot()`</span> (voir ci-dessous). Dans le dénominateur de la fraction, nous voyons comment la <span class=\"index\">norme du vecteur</span> (appelée également sa longueur ou sa magnitude) est calculée pour $\\vec{a}$ et $\\vec{b}$, c'est-à-dire $|\\vec{a}|$ et $|\\vec{b}|$, et ces nombres sont ensuite multipliés. La norme d'un vecteur peut être calculée à l'aide de la fonction suivante :"
   ]
  },
  {
   "cell_type": "code",
   "execution_count": 198,
   "id": "eebb8cdc",
   "metadata": {},
   "outputs": [],
   "source": [
    "def vector_len(v):\n",
    "    \"\"\"Compute the length (or norm) of a vector.\"\"\"\n",
    "    return np.sqrt(np.sum(v ** 2))"
   ]
  },
  {
   "cell_type": "markdown",
   "id": "f8e81aa5",
   "metadata": {},
   "source": [
    "Un aspect reste à expliquer : pourquoi soustraire la fraction de la formule de 1 ? En réalité, la fraction dans la formule correspond à la *similarité cosinus* (qui sera toujours comprise entre 0 et 1 pour des vecteurs positifs). Pour transformer ce nombre en distance, nous prenons son complément en le soustrayant de 1.\n",
    "\n",
    "Avec ces informations, nous sommes maintenant prêts à implémenter une fonction qui calcule la distance cosinus entre des vecteurs :"
   ]
  },
  {
   "cell_type": "code",
   "execution_count": 199,
   "id": "3c489346",
   "metadata": {},
   "outputs": [],
   "source": [
    "def cosine_distance(a, b):\n",
    "    \"\"\"Calcule la distance cosinus entre deux vecteurs.\n",
    "\n",
    "    Arguments:\n",
    "        a (numpy.ndarray): un vecteur de nombres flottants ou entiers.\n",
    "        b (numpy.ndarray): un autre vecteur de nombres flottants ou entiers.\n",
    "\n",
    "    Returns:\n",
    "        float: distance cosinus entre les vecteurs a et b.\n",
    "\n",
    "    Note:\n",
    "        Voir aussi scipy.spatial.distance.cdist\n",
    "\n",
    "    Examples:\n",
    "        >>> import numpy as np\n",
    "        >>> a = np.array([1, 4, 2, 8])\n",
    "        >>> b = np.array([2, 1, 4, 7])\n",
    "        >>> round(cosine_distance(a, b), 2)\n",
    "        0.09\n",
    "\n",
    "    \"\"\"\n",
    "    return 1 - np.dot(a, b) / (vector_len(a) * vector_len(b))"
   ]
  },
  {
   "cell_type": "markdown",
   "id": "b23ad2c8",
   "metadata": {},
   "source": [
    "On peut encore une fois mesurer la distance entre les vecteurs"
   ]
  },
  {
   "cell_type": "code",
   "execution_count": 200,
   "id": "b01873cd",
   "metadata": {},
   "outputs": [
    {
     "name": "stdout",
     "output_type": "stream",
     "text": [
      "romance - aventure:       0.35\n",
      "romance - voyage: 0.36\n",
      " aventure - voyage: 0.00\n"
     ]
    }
   ],
   "source": [
    "tc = cosine_distance(romance, aventure)\n",
    "print(f'romance - aventure:       {tc:.2f}')\n",
    "\n",
    "ttc = cosine_distance(romance, voyage)\n",
    "print(f'romance - voyage: {ttc:.2f}')\n",
    "\n",
    "ctc = cosine_distance(aventure, voyage)\n",
    "print(f' aventure - voyage: {ctc:.2f}')"
   ]
  },
  {
   "cell_type": "code",
   "execution_count": null,
   "id": "842f1c32-2bbd-4cd8-85fb-04594275d410",
   "metadata": {},
   "outputs": [],
   "source": []
  },
  {
   "cell_type": "code",
   "execution_count": null,
   "id": "de4effc7-1c2a-4e1e-b6f5-8e7214e13be8",
   "metadata": {},
   "outputs": [],
   "source": []
  },
  {
   "cell_type": "markdown",
   "id": "bc0647a4-5798-4bdf-9480-fef6585c49f1",
   "metadata": {},
   "source": [
    "## Autres Modèles vectoriels - en TAL -> tf-idf, embeddings (DBOW)..\n",
    "le tal c'est aussi du NER, du sentiment analysis, ..."
   ]
  },
  {
   "cell_type": "code",
   "execution_count": null,
   "id": "bf1f486c-2def-45a4-97fd-c53e4d9a47db",
   "metadata": {},
   "outputs": [],
   "source": []
  }
 ],
 "metadata": {
  "jupytext": {
   "cell_metadata_filter": "-all",
   "formats": "md:myst",
   "text_representation": {
    "extension": ".md",
    "format_name": "myst",
    "format_version": 0.13,
    "jupytext_version": "1.10.3"
   }
  },
  "kernelspec": {
   "display_name": "Python 3 (ipykernel)",
   "language": "python",
   "name": "python3"
  },
  "language_info": {
   "codemirror_mode": {
    "name": "ipython",
    "version": 3
   },
   "file_extension": ".py",
   "mimetype": "text/x-python",
   "name": "python",
   "nbconvert_exporter": "python",
   "pygments_lexer": "ipython3",
   "version": "3.12.3"
  },
  "source_map": [
   16,
   20,
   81,
   100,
   127,
   138,
   142,
   145,
   153,
   162,
   168,
   200,
   206,
   219,
   223,
   250,
   254,
   258,
   262,
   268,
   272,
   274,
   278,
   283,
   287,
   292,
   296,
   327,
   331,
   334,
   338,
   345,
   349,
   379,
   385,
   389,
   400,
   405,
   441,
   467,
   472,
   480,
   493,
   501,
   507,
   513,
   519,
   521,
   532,
   542,
   565,
   569,
   573,
   575,
   579,
   584,
   589,
   601,
   610,
   614,
   619,
   644,
   667,
   690,
   694,
   703,
   710,
   779,
   812,
   816,
   822,
   845,
   849,
   858,
   887,
   907,
   911,
   953,
   963,
   972,
   985,
   998,
   1015,
   1040,
   1042,
   1048,
   1051,
   1055,
   1058,
   1064,
   1068,
   1072,
   1080,
   1084,
   1088,
   1101,
   1104,
   1108,
   1111,
   1138,
   1147,
   1208,
   1210,
   1215,
   1217,
   1221,
   1223,
   1227,
   1230,
   1234,
   1237,
   1241,
   1244,
   1248,
   1251,
   1255,
   1258,
   1262,
   1265,
   1271,
   1273,
   1277,
   1279,
   1283,
   1287,
   1289,
   1297,
   1301,
   1303,
   1307,
   1310,
   1317,
   1320,
   1324,
   1326,
   1336,
   1340,
   1346,
   1348,
   1352,
   1354,
   1358,
   1360,
   1364,
   1366,
   1370,
   1372,
   1381,
   1383,
   1387,
   1391,
   1395,
   1397,
   1401,
   1403,
   1407,
   1410,
   1418,
   1421,
   1425,
   1428,
   1432,
   1435,
   1439,
   1442,
   1446,
   1448,
   1452,
   1454,
   1462,
   1465,
   1469,
   1471,
   1475,
   1478,
   1493,
   1495,
   1499,
   1501,
   1505,
   1507,
   1516,
   1520,
   1524,
   1527
  ]
 },
 "nbformat": 4,
 "nbformat_minor": 5
}
