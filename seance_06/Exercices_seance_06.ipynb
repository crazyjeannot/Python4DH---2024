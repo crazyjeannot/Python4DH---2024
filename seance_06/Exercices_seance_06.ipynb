{
 "cells": [
  {
   "cell_type": "markdown",
   "id": "1752f493-0963-47d8-b566-55da9b218705",
   "metadata": {},
   "source": [
    "# Exercices Seance 06\n",
    "\n",
    "## 1/ XML to CSV\n",
    "\n",
    "Écrire une fonction qui lit les 5 fichiers XML de Balzac, créé et sauvegarde un dataframe avec 8 colonnes : titre, auteur, gender, genre, canon, date_publication, date_naissance, date_mort\n"
   ]
  },
  {
   "cell_type": "code",
   "execution_count": 10,
   "id": "464186fc-3477-4a16-9406-289748481f6b",
   "metadata": {},
   "outputs": [],
   "source": [
    "import pandas as pd\n",
    "from lxml import etree\n",
    "from glob import glob\n",
    "from tqdm.notebook import tqdm"
   ]
  },
  {
   "cell_type": "code",
   "execution_count": 7,
   "id": "8d956fcb-871a-4283-b325-70974e4c00cd",
   "metadata": {},
   "outputs": [],
   "source": [
    "path_to_folder_xml = \"/home/crazyjeannot/Documents/cours/2024/Python4DH/data/xml/*.xml\""
   ]
  },
  {
   "cell_type": "code",
   "execution_count": 3,
   "id": "52307fec-c00c-45c7-a430-93061d0cdf81",
   "metadata": {},
   "outputs": [],
   "source": [
    "def info_xml(fichier_xml):\n",
    "    arbre = etree.parse(fichier_xml)\n",
    "    dico_res = {'titre':None, 'auteur':None, 'gender':None, 'genre':None, 'canon':None, 'date_publication':None, 'date_naissance':None, 'date_mort':None}\n",
    "    dico_res[\"titre\"] = arbre.find(\".//title\").text\n",
    "    dico_res[\"auteur\"] = arbre.find(\".//author\").get('name')\n",
    "    dico_res[\"gender\"] = arbre.find(\".//author\").get('sex')\n",
    "    dico_res[\"date_naissance\"] = arbre.find(\".//author\").get('from')\n",
    "    dico_res[\"date_mort\"] = arbre.find(\".//author\").get('to')\n",
    "    dico_res[\"date_publication\"] = arbre.findall(\".//date\")[1].get('when')\n",
    "    dico_res[\"canon\"] = arbre.find('.//profileDesc').get('tag')\n",
    "    dico_res[\"genre\"] = arbre.find('.//term').text\n",
    "    return dico_res\n"
   ]
  },
  {
   "cell_type": "code",
   "execution_count": 4,
   "id": "8285400d-fb63-4345-87a3-7fd170bf9981",
   "metadata": {},
   "outputs": [],
   "source": [
    "def trouve_info(path_to_xml):\n",
    "    tree = etree.parse(path_to_xml)\n",
    "\n",
    "    titre = tree.find(\".//title\").text\n",
    "    auteur = tree.find(\".//author\").get('name')\n",
    "    gender = tree.find(\".//author\").get('sex')\n",
    "    date_naissance = tree.find(\".//author\").get('from')\n",
    "    date_mort = tree.find(\".//author\").get('to')\n",
    "    date_publication = tree.findall(\".//date\")[1].get('when')\n",
    "    canon = tree.find('.//profileDesc').get('tag')\n",
    "    genre = ' '.join([element.text for element in tree.findall('.//term')]) \n",
    "\n",
    "    return titre, auteur, gender, genre, canon, date_publication, date_naissance, date_mort\n"
   ]
  },
  {
   "cell_type": "code",
   "execution_count": 8,
   "id": "bb13152b-93e5-41ce-a122-e4359afc545f",
   "metadata": {},
   "outputs": [],
   "source": [
    "def moulinette(path_to_folder_xml):\n",
    "    df_corpus = pd.DataFrame([], columns=['titre', \"auteur\", \"gender\", \"genre\", \"canon\", \"date_publication\", \"date_naissance\", \"date_mort\"])\n",
    "    for doc in tqdm(glob(path_to_folder_xml)):\n",
    "        titre, auteur, gender, genre, canon, date_publication, date_naissance, date_mort = trouve_info(doc) \n",
    "    \n",
    "        df_roman = pd.DataFrame([(titre, auteur, gender, genre, canon, date_publication, date_naissance, date_mort)], columns=['titre', \"auteur\", \"gender\", \"genre\", \"canon\", \"date_publication\", \"date_naissance\", \"date_mort\"])\n",
    "        df_corpus = pd.concat([df_corpus, df_roman])\n",
    "    return df_corpus"
   ]
  },
  {
   "cell_type": "code",
   "execution_count": null,
   "id": "9a3d32ef-731a-470a-b3b1-b80815ad6598",
   "metadata": {},
   "outputs": [],
   "source": []
  },
  {
   "cell_type": "code",
   "execution_count": 11,
   "id": "8d8c6240-37e2-41c8-a187-4b3fb32b88bc",
   "metadata": {},
   "outputs": [
    {
     "data": {
      "application/vnd.jupyter.widget-view+json": {
       "model_id": "0e2a72b284bc4a3ea2e9f42181bae65c",
       "version_major": 2,
       "version_minor": 0
      },
      "text/plain": [
       "  0%|          | 0/5 [00:00<?, ?it/s]"
      ]
     },
     "metadata": {},
     "output_type": "display_data"
    }
   ],
   "source": [
    "df = moulinette(path_to_folder_xml)"
   ]
  },
  {
   "cell_type": "code",
   "execution_count": 12,
   "id": "120b986a-ce88-4541-9ea5-68618c7ec5db",
   "metadata": {},
   "outputs": [
    {
     "data": {
      "text/html": [
       "<div>\n",
       "<style scoped>\n",
       "    .dataframe tbody tr th:only-of-type {\n",
       "        vertical-align: middle;\n",
       "    }\n",
       "\n",
       "    .dataframe tbody tr th {\n",
       "        vertical-align: top;\n",
       "    }\n",
       "\n",
       "    .dataframe thead th {\n",
       "        text-align: right;\n",
       "    }\n",
       "</style>\n",
       "<table border=\"1\" class=\"dataframe\">\n",
       "  <thead>\n",
       "    <tr style=\"text-align: right;\">\n",
       "      <th></th>\n",
       "      <th>titre</th>\n",
       "      <th>auteur</th>\n",
       "      <th>gender</th>\n",
       "      <th>genre</th>\n",
       "      <th>canon</th>\n",
       "      <th>date_publication</th>\n",
       "      <th>date_naissance</th>\n",
       "      <th>date_mort</th>\n",
       "    </tr>\n",
       "  </thead>\n",
       "  <tbody>\n",
       "    <tr>\n",
       "      <th>0</th>\n",
       "      <td>Le Chef-d'œuvre inconnu</td>\n",
       "      <td>Balzac, Honoré de</td>\n",
       "      <td>male</td>\n",
       "      <td>cycles et séries nouvelles</td>\n",
       "      <td>canon</td>\n",
       "      <td>1845</td>\n",
       "      <td>1799</td>\n",
       "      <td>1850</td>\n",
       "    </tr>\n",
       "    <tr>\n",
       "      <th>0</th>\n",
       "      <td>Eugénie Grandet</td>\n",
       "      <td>Balzac, Honoré de</td>\n",
       "      <td>male</td>\n",
       "      <td>cycles et séries</td>\n",
       "      <td>canon</td>\n",
       "      <td>1843</td>\n",
       "      <td>1799</td>\n",
       "      <td>1850</td>\n",
       "    </tr>\n",
       "    <tr>\n",
       "      <th>0</th>\n",
       "      <td>Le Père Goriot</td>\n",
       "      <td>Balzac, Honoré de</td>\n",
       "      <td>male</td>\n",
       "      <td>cycles et séries</td>\n",
       "      <td>canon</td>\n",
       "      <td>1843</td>\n",
       "      <td>1799</td>\n",
       "      <td>1850</td>\n",
       "    </tr>\n",
       "    <tr>\n",
       "      <th>0</th>\n",
       "      <td>Sarrasine</td>\n",
       "      <td>Balzac, Honoré de</td>\n",
       "      <td>male</td>\n",
       "      <td>cycles et séries nouvelles</td>\n",
       "      <td>canon</td>\n",
       "      <td>1844</td>\n",
       "      <td>1799</td>\n",
       "      <td>1850</td>\n",
       "    </tr>\n",
       "    <tr>\n",
       "      <th>0</th>\n",
       "      <td>Illusions perdues</td>\n",
       "      <td>Balzac, Honoré de</td>\n",
       "      <td>male</td>\n",
       "      <td>cycles et séries</td>\n",
       "      <td>canon</td>\n",
       "      <td>1843</td>\n",
       "      <td>1799</td>\n",
       "      <td>1850</td>\n",
       "    </tr>\n",
       "  </tbody>\n",
       "</table>\n",
       "</div>"
      ],
      "text/plain": [
       "                     titre             auteur gender  \\\n",
       "0  Le Chef-d'œuvre inconnu  Balzac, Honoré de   male   \n",
       "0          Eugénie Grandet  Balzac, Honoré de   male   \n",
       "0           Le Père Goriot  Balzac, Honoré de   male   \n",
       "0                Sarrasine  Balzac, Honoré de   male   \n",
       "0        Illusions perdues  Balzac, Honoré de   male   \n",
       "\n",
       "                        genre  canon date_publication date_naissance date_mort  \n",
       "0  cycles et séries nouvelles  canon             1845           1799      1850  \n",
       "0            cycles et séries  canon             1843           1799      1850  \n",
       "0            cycles et séries  canon             1843           1799      1850  \n",
       "0  cycles et séries nouvelles  canon             1844           1799      1850  \n",
       "0            cycles et séries  canon             1843           1799      1850  "
      ]
     },
     "execution_count": 12,
     "metadata": {},
     "output_type": "execute_result"
    }
   ],
   "source": [
    "df"
   ]
  },
  {
   "cell_type": "code",
   "execution_count": 9,
   "id": "8718ce67-55f0-440f-87bc-a97158ad48bc",
   "metadata": {},
   "outputs": [
    {
     "data": {
      "text/plain": [
       "<function __main__.get_dataframe(dossier_xml)>"
      ]
     },
     "execution_count": 9,
     "metadata": {},
     "output_type": "execute_result"
    }
   ],
   "source": [
    "get_dataframe"
   ]
  },
  {
   "cell_type": "markdown",
   "id": "3692c346-a70b-4f09-a7ba-6a4e4712597b",
   "metadata": {},
   "source": [
    "## 2/ XML to txt \n",
    "\n",
    "Écrire une fonction qui convertie les 5 fichiers XML en fichiers txt."
   ]
  },
  {
   "cell_type": "code",
   "execution_count": 14,
   "id": "beb21499-36f7-40dc-bf00-9a2722d4f6b0",
   "metadata": {},
   "outputs": [],
   "source": [
    "import os"
   ]
  },
  {
   "cell_type": "code",
   "execution_count": 17,
   "id": "3f372ec6-b96b-476b-8439-3c3d3ed22572",
   "metadata": {},
   "outputs": [],
   "source": [
    "path_to_folder_txt = \"/home/crazyjeannot/Documents/cours/2024/Python4DH/data/txt/\""
   ]
  },
  {
   "cell_type": "code",
   "execution_count": 18,
   "id": "a7c63431-77ef-4a9b-8d51-45c696aa04a0",
   "metadata": {},
   "outputs": [],
   "source": [
    "def xml_to_txt(path_xml, path_name_res):\n",
    "    \n",
    "    chaine = \"\"\n",
    "    doc_name = os.path.splitext(os.path.basename(path_xml))[0]\n",
    "        \n",
    "    tree = etree.parse(path_xml)\n",
    "\n",
    "    if tree.findall(\".//p\"):\n",
    "        for line in tree.findall(\".//p\"):\n",
    "            if line.text:\n",
    "                chaine += line.text\n",
    "    else:\n",
    "        print(doc_name)\n",
    "                    \n",
    "    with open(path_name_res+doc_name+\".txt\", \"w\", encoding=\"utf8\") as file_out:\n",
    "        file_out.write(chaine)"
   ]
  },
  {
   "cell_type": "code",
   "execution_count": 22,
   "id": "1303fd21-f0dc-4459-b01a-9fb97eb8b562",
   "metadata": {},
   "outputs": [],
   "source": [
    "def moulinette_xmltotxt(path_name, path_name_res):\n",
    "    for doc in tqdm(glob(path_name)):\n",
    "        xml_to_txt(doc, path_name_res)"
   ]
  },
  {
   "cell_type": "code",
   "execution_count": 23,
   "id": "fc2b245a-3acc-406d-965c-8c72f03d927a",
   "metadata": {},
   "outputs": [
    {
     "data": {
      "application/vnd.jupyter.widget-view+json": {
       "model_id": "44729d364e484d6c8b871eb62d0ea997",
       "version_major": 2,
       "version_minor": 0
      },
      "text/plain": [
       "  0%|          | 0/5 [00:00<?, ?it/s]"
      ]
     },
     "metadata": {},
     "output_type": "display_data"
    }
   ],
   "source": [
    "moulinette_xmltotxt(path_to_folder_xml, path_to_folder_txt)"
   ]
  },
  {
   "cell_type": "code",
   "execution_count": null,
   "id": "16280e08-9a61-4158-91bd-4332026ab490",
   "metadata": {},
   "outputs": [],
   "source": []
  },
  {
   "cell_type": "markdown",
   "id": "7cc56dcd-c0c3-4acc-8e34-51e0a79ad9f7",
   "metadata": {},
   "source": [
    "## 3/ Exploiter des JSON\n",
    "\n",
    "À partir des .book (json customisés) envoyés avec ce notebook, écrire une fonction qui ouvre les documents, une autre qui récupère la liste des verbes ('agent', 'patient') et des adjectifs ('mod') associés à ces personnages (les 10 premiers), une autre qui calcule leur fréquence d'apparition relative au nombre total de verbes / adjectifs et retourne le résultat sour la forme d'un dataframe (colonnes = mots, ligne = txt_j_personnage_i, valeurs = fréquence relative).\n",
    "\n",
    "Enfin définir une fonction main qui appelle ces différentes fonctions, fusionne les dataframes au fur et à mesure puis retourne le résultat sous la forme d'un dataframe (colonnes = mots, ligne = txt_j_personnage_i, valeurs = fréquence relative). \n",
    "\n",
    "Sauver ce dataframe final. Me l'envoyer avec votre notebook. \n",
    "\n",
    "Vous pouvez utiliser la fonction get_characterization vue dans le cours précédent.\n",
    "\n",
    "Vous pouvez également utiliser les fonctions déjà définies dans les différents exercices corrigés des semaines précédentes"
   ]
  },
  {
   "cell_type": "code",
   "execution_count": 46,
   "id": "eca36d27-b9ec-421a-9f80-4154d3305e03",
   "metadata": {},
   "outputs": [],
   "source": [
    "import json"
   ]
  },
  {
   "cell_type": "code",
   "execution_count": 47,
   "id": "212e9659-4fe1-49fd-ab3c-84146a11d8d5",
   "metadata": {},
   "outputs": [],
   "source": [
    "def get_characterization(booknlp_data):\n",
    "    list_verb_suj, list_verb_obj, list_adj = [], [], []\n",
    "    for i in range(10):\n",
    "        list_verb_suj.append([item['w'] for item in booknlp_data[\"characters\"][i]['agent']])\n",
    "        list_verb_obj.append([item['w'] for item in booknlp_data[\"characters\"][i]['patient']])\n",
    "        list_adj.append([item['w'] for item in booknlp_data[\"characters\"][i]['mod']])\n",
    "    return list_verb_suj, list_verb_obj, list_adj"
   ]
  },
  {
   "cell_type": "code",
   "execution_count": 61,
   "id": "6f2709e2-d412-4bb9-82e9-4a2de9b5f151",
   "metadata": {},
   "outputs": [],
   "source": [
    "def load_json(path_files):\n",
    "    list_res = []\n",
    "    for file in glob(path_files):\n",
    "        fichier_courant = open(file, mode='r', encoding='utf-8')\n",
    "        list_res.append(json.load(fichier_courant))\n",
    "    return list_res"
   ]
  },
  {
   "cell_type": "code",
   "execution_count": 49,
   "id": "c6f91aff-775b-4d42-b1e9-8096edf5a3fb",
   "metadata": {},
   "outputs": [],
   "source": [
    "path_to_folder_json = \"/home/crazyjeannot/Documents/cours/2024/Python4DH/data/json/*.book\""
   ]
  },
  {
   "cell_type": "code",
   "execution_count": 58,
   "id": "a4ed88ac-48b5-4e6a-8972-a5496fd3f1ba",
   "metadata": {},
   "outputs": [],
   "source": [
    "import numpy as np"
   ]
  },
  {
   "cell_type": "code",
   "execution_count": 92,
   "id": "3250770d-797b-4187-b47f-1cb9b1a7a28f",
   "metadata": {},
   "outputs": [],
   "source": [
    "def ratio(book_fichier):\n",
    "    agent, patient, mod = get_characterization(book_fichier)\n",
    "    dico = {}\n",
    "    for prenom in range(10):\n",
    "        if len(book_fichier['characters'][prenom]['mentions']['proper'])==0:\n",
    "            nom = prenom\n",
    "        else:\n",
    "            nom = book_fichier['characters'][prenom]['mentions']['proper'][0][\"n\"]\n",
    "\n",
    "        dico[nom]={\"agent\":0, \"patient\":0, \"mod\":0}\n",
    "        total_agent = np.sum(len(agent_perso_i) for agent_perso_i in agent)\n",
    "        total_patient = np.sum(len(patient_perso_i) for patient_perso_i in patient)\n",
    "        total_mod = np.sum(len(mod_perso_i) for mod_perso_i in mod)\n",
    "\n",
    "        if total_agent==0:\n",
    "            total_agent = 1\n",
    "        if total_patient==0:\n",
    "            total_patient = 1\n",
    "        if total_mod==0:\n",
    "            total_mod = 1\n",
    "        \n",
    "        dico[nom]['patient'] = len(patient[prenom])/total_patient\n",
    "        dico[nom]['mod'] = len(mod[prenom])/total_mod\n",
    "        dico[nom]['agent'] = len(agent[prenom])/total_agent\n",
    "    return pd.DataFrame(dico)"
   ]
  },
  {
   "cell_type": "code",
   "execution_count": null,
   "id": "b533086d-299d-453b-9fdf-29383fb07e02",
   "metadata": {},
   "outputs": [],
   "source": []
  },
  {
   "cell_type": "code",
   "execution_count": 93,
   "id": "7e8a121b-ad60-4d1e-8843-eacedb5bfc4b",
   "metadata": {},
   "outputs": [],
   "source": [
    "def main(path_books):\n",
    "    valeur_finale = []\n",
    "    for file in load_json(path_books):\n",
    "        valeur_finale.append(ratio(file))\n",
    "    return valeur_finale"
   ]
  },
  {
   "cell_type": "code",
   "execution_count": 95,
   "id": "08baa828-b8cf-4d04-8691-79316ea06def",
   "metadata": {},
   "outputs": [
    {
     "name": "stderr",
     "output_type": "stream",
     "text": [
      "/tmp/ipykernel_104668/3155176275.py:11: DeprecationWarning: Calling np.sum(generator) is deprecated, and in the future will give a different result. Use np.sum(np.fromiter(generator)) or the python sum builtin instead.\n",
      "  total_agent = np.sum(len(agent_perso_i) for agent_perso_i in agent)\n",
      "/tmp/ipykernel_104668/3155176275.py:12: DeprecationWarning: Calling np.sum(generator) is deprecated, and in the future will give a different result. Use np.sum(np.fromiter(generator)) or the python sum builtin instead.\n",
      "  total_patient = np.sum(len(patient_perso_i) for patient_perso_i in patient)\n",
      "/tmp/ipykernel_104668/3155176275.py:13: DeprecationWarning: Calling np.sum(generator) is deprecated, and in the future will give a different result. Use np.sum(np.fromiter(generator)) or the python sum builtin instead.\n",
      "  total_mod = np.sum(len(mod_perso_i) for mod_perso_i in mod)\n",
      "/tmp/ipykernel_104668/3155176275.py:11: DeprecationWarning: Calling np.sum(generator) is deprecated, and in the future will give a different result. Use np.sum(np.fromiter(generator)) or the python sum builtin instead.\n",
      "  total_agent = np.sum(len(agent_perso_i) for agent_perso_i in agent)\n",
      "/tmp/ipykernel_104668/3155176275.py:12: DeprecationWarning: Calling np.sum(generator) is deprecated, and in the future will give a different result. Use np.sum(np.fromiter(generator)) or the python sum builtin instead.\n",
      "  total_patient = np.sum(len(patient_perso_i) for patient_perso_i in patient)\n",
      "/tmp/ipykernel_104668/3155176275.py:13: DeprecationWarning: Calling np.sum(generator) is deprecated, and in the future will give a different result. Use np.sum(np.fromiter(generator)) or the python sum builtin instead.\n",
      "  total_mod = np.sum(len(mod_perso_i) for mod_perso_i in mod)\n",
      "/tmp/ipykernel_104668/3155176275.py:11: DeprecationWarning: Calling np.sum(generator) is deprecated, and in the future will give a different result. Use np.sum(np.fromiter(generator)) or the python sum builtin instead.\n",
      "  total_agent = np.sum(len(agent_perso_i) for agent_perso_i in agent)\n",
      "/tmp/ipykernel_104668/3155176275.py:12: DeprecationWarning: Calling np.sum(generator) is deprecated, and in the future will give a different result. Use np.sum(np.fromiter(generator)) or the python sum builtin instead.\n",
      "  total_patient = np.sum(len(patient_perso_i) for patient_perso_i in patient)\n",
      "/tmp/ipykernel_104668/3155176275.py:13: DeprecationWarning: Calling np.sum(generator) is deprecated, and in the future will give a different result. Use np.sum(np.fromiter(generator)) or the python sum builtin instead.\n",
      "  total_mod = np.sum(len(mod_perso_i) for mod_perso_i in mod)\n",
      "/tmp/ipykernel_104668/3155176275.py:11: DeprecationWarning: Calling np.sum(generator) is deprecated, and in the future will give a different result. Use np.sum(np.fromiter(generator)) or the python sum builtin instead.\n",
      "  total_agent = np.sum(len(agent_perso_i) for agent_perso_i in agent)\n",
      "/tmp/ipykernel_104668/3155176275.py:12: DeprecationWarning: Calling np.sum(generator) is deprecated, and in the future will give a different result. Use np.sum(np.fromiter(generator)) or the python sum builtin instead.\n",
      "  total_patient = np.sum(len(patient_perso_i) for patient_perso_i in patient)\n",
      "/tmp/ipykernel_104668/3155176275.py:13: DeprecationWarning: Calling np.sum(generator) is deprecated, and in the future will give a different result. Use np.sum(np.fromiter(generator)) or the python sum builtin instead.\n",
      "  total_mod = np.sum(len(mod_perso_i) for mod_perso_i in mod)\n",
      "/tmp/ipykernel_104668/3155176275.py:11: DeprecationWarning: Calling np.sum(generator) is deprecated, and in the future will give a different result. Use np.sum(np.fromiter(generator)) or the python sum builtin instead.\n",
      "  total_agent = np.sum(len(agent_perso_i) for agent_perso_i in agent)\n",
      "/tmp/ipykernel_104668/3155176275.py:12: DeprecationWarning: Calling np.sum(generator) is deprecated, and in the future will give a different result. Use np.sum(np.fromiter(generator)) or the python sum builtin instead.\n",
      "  total_patient = np.sum(len(patient_perso_i) for patient_perso_i in patient)\n",
      "/tmp/ipykernel_104668/3155176275.py:13: DeprecationWarning: Calling np.sum(generator) is deprecated, and in the future will give a different result. Use np.sum(np.fromiter(generator)) or the python sum builtin instead.\n",
      "  total_mod = np.sum(len(mod_perso_i) for mod_perso_i in mod)\n",
      "/tmp/ipykernel_104668/3155176275.py:11: DeprecationWarning: Calling np.sum(generator) is deprecated, and in the future will give a different result. Use np.sum(np.fromiter(generator)) or the python sum builtin instead.\n",
      "  total_agent = np.sum(len(agent_perso_i) for agent_perso_i in agent)\n",
      "/tmp/ipykernel_104668/3155176275.py:12: DeprecationWarning: Calling np.sum(generator) is deprecated, and in the future will give a different result. Use np.sum(np.fromiter(generator)) or the python sum builtin instead.\n",
      "  total_patient = np.sum(len(patient_perso_i) for patient_perso_i in patient)\n",
      "/tmp/ipykernel_104668/3155176275.py:13: DeprecationWarning: Calling np.sum(generator) is deprecated, and in the future will give a different result. Use np.sum(np.fromiter(generator)) or the python sum builtin instead.\n",
      "  total_mod = np.sum(len(mod_perso_i) for mod_perso_i in mod)\n",
      "/tmp/ipykernel_104668/3155176275.py:11: DeprecationWarning: Calling np.sum(generator) is deprecated, and in the future will give a different result. Use np.sum(np.fromiter(generator)) or the python sum builtin instead.\n",
      "  total_agent = np.sum(len(agent_perso_i) for agent_perso_i in agent)\n",
      "/tmp/ipykernel_104668/3155176275.py:12: DeprecationWarning: Calling np.sum(generator) is deprecated, and in the future will give a different result. Use np.sum(np.fromiter(generator)) or the python sum builtin instead.\n",
      "  total_patient = np.sum(len(patient_perso_i) for patient_perso_i in patient)\n",
      "/tmp/ipykernel_104668/3155176275.py:13: DeprecationWarning: Calling np.sum(generator) is deprecated, and in the future will give a different result. Use np.sum(np.fromiter(generator)) or the python sum builtin instead.\n",
      "  total_mod = np.sum(len(mod_perso_i) for mod_perso_i in mod)\n"
     ]
    },
    {
     "data": {
      "text/plain": [
       "[                0         1         2         3         4         5         6  \\\n",
       " agent    0.246528  0.100694  0.085069  0.149306  0.126736  0.093750  0.055556   \n",
       " patient  0.100000  0.088889  0.400000  0.133333  0.044444  0.077778  0.033333   \n",
       " mod      0.272727  0.090909  0.272727  0.000000  0.045455  0.045455  0.045455   \n",
       " \n",
       "            « Sido     Mme B   Colette  \n",
       " agent    0.062500  0.039931  0.039931  \n",
       " patient  0.044444  0.033333  0.044444  \n",
       " mod      0.136364  0.045455  0.045455  ,\n",
       "          Arsène Lupin         1  Ganimard         3         4    Daspry  \\\n",
       " agent        0.279343  0.118936  0.124413  0.067293  0.097027  0.083725   \n",
       " patient      0.283276  0.337884  0.068259  0.071672  0.058020  0.037543   \n",
       " mod          0.237288  0.084746  0.135593  0.084746  0.050847  0.101695   \n",
       " \n",
       "          miss Nelly   Danègre         8         9  \n",
       " agent      0.072770  0.058685  0.049296  0.048513  \n",
       " patient    0.061433  0.044369  0.020478  0.017065  \n",
       " mod        0.050847  0.118644  0.050847  0.084746  ,\n",
       "                 0         1         2         3         4         5  \\\n",
       " agent    0.141975  0.101852  0.058642  0.117284  0.148148  0.092593   \n",
       " patient  0.184615  0.046154  0.430769  0.061538  0.107692  0.000000   \n",
       " mod      0.250000  0.000000  0.250000  0.000000  0.125000  0.000000   \n",
       " \n",
       "          M. Laurens         7         8         9  \n",
       " agent      0.114198  0.095679  0.061728  0.067901  \n",
       " patient    0.030769  0.046154  0.061538  0.030769  \n",
       " mod        0.125000  0.000000  0.125000  0.125000  ,\n",
       "             Franz      Frik  Nic Deck  la Stilla    Rotzko         5  \\\n",
       " agent    0.355519  0.111201  0.113636   0.064123  0.067370  0.069805   \n",
       " patient  0.261603  0.088608  0.147679   0.168776  0.084388  0.050633   \n",
       " mod      0.125000  0.107143  0.125000   0.250000  0.071429  0.017857   \n",
       " \n",
       "                 6         7   Orfanik   Miriota  \n",
       " agent    0.066558  0.064935  0.043831  0.043019  \n",
       " patient  0.059072  0.037975  0.033755  0.067511  \n",
       " mod      0.089286  0.035714  0.107143  0.071429  ,\n",
       "            Julien  Mathilde         3  M. de Rênal         5  Mlle de La Mole  \\\n",
       " agent    0.199932  0.101491  0.029482     0.035751  0.045069         0.026601   \n",
       " patient  0.151210  0.075269  0.212366     0.031586  0.017473         0.030914   \n",
       " mod      0.215054  0.060215  0.032258     0.047312  0.043011         0.051613   \n",
       " \n",
       "                 7  M. Valenod    Fouqué  \n",
       " agent    0.015249    0.011860  0.015588  \n",
       " patient  0.019489    0.010753  0.008737  \n",
       " mod      0.008602    0.025806  0.006452  ,\n",
       "          Nostradamus   Florise  Beaurevers     Marie         4  Saint-André  \\\n",
       " agent       0.238381  0.138314    0.129420  0.105181  0.078942     0.077385   \n",
       " patient     0.136760  0.144520    0.108632  0.107662  0.083414     0.051406   \n",
       " mod         0.201117  0.167598    0.122905  0.122905  0.111732     0.061453   \n",
       " \n",
       "            Renaud     Henri  Catherine         9  \n",
       " agent    0.059595  0.067378   0.066711  0.038692  \n",
       " patient  0.049467  0.036857   0.056256  0.225024  \n",
       " mod      0.067039  0.022346   0.055866  0.067039  ,\n",
       "          Walter Schnaffs         1         2   Mathieu     Morin  Adélaïde  \\\n",
       " agent           0.170320  0.109612  0.134907  0.134907  0.074199  0.075885   \n",
       " patient         0.147059  0.417647  0.082353  0.011765  0.117647  0.041176   \n",
       " mod             0.294118  0.058824  0.000000  0.294118  0.000000  0.176471   \n",
       " \n",
       "                 6  Javel cadet         8         9  \n",
       " agent    0.062395     0.087690  0.086003  0.064081  \n",
       " patient  0.076471     0.011765  0.035294  0.058824  \n",
       " mod      0.117647     0.058824  0.000000  0.000000  ]"
      ]
     },
     "execution_count": 95,
     "metadata": {},
     "output_type": "execute_result"
    }
   ],
   "source": [
    "main(path_to_folder_json)"
   ]
  },
  {
   "cell_type": "code",
   "execution_count": null,
   "id": "3852d10b-2a56-4313-817e-364cb97fc0e2",
   "metadata": {},
   "outputs": [],
   "source": []
  },
  {
   "cell_type": "code",
   "execution_count": null,
   "id": "2c59cf24-476d-4fbc-a2f3-93878a1dac81",
   "metadata": {},
   "outputs": [],
   "source": []
  },
  {
   "cell_type": "code",
   "execution_count": null,
   "id": "d249085f-ed48-47e7-9266-e3d84ea784b0",
   "metadata": {},
   "outputs": [],
   "source": []
  },
  {
   "cell_type": "code",
   "execution_count": null,
   "id": "41b33099-a1aa-4f3e-8988-9bf550936c7b",
   "metadata": {},
   "outputs": [],
   "source": []
  },
  {
   "cell_type": "code",
   "execution_count": null,
   "id": "f7f8b1d2-45f6-42ef-ba16-607361852c27",
   "metadata": {},
   "outputs": [],
   "source": []
  },
  {
   "cell_type": "code",
   "execution_count": null,
   "id": "4afec0ab-6240-436d-9413-a18b3b08b77c",
   "metadata": {},
   "outputs": [],
   "source": []
  }
 ],
 "metadata": {
  "kernelspec": {
   "display_name": "Python (.dev_cours_python)",
   "language": "python",
   "name": ".dev_cours_python"
  },
  "language_info": {
   "codemirror_mode": {
    "name": "ipython",
    "version": 3
   },
   "file_extension": ".py",
   "mimetype": "text/x-python",
   "name": "python",
   "nbconvert_exporter": "python",
   "pygments_lexer": "ipython3",
   "version": "3.12.3"
  }
 },
 "nbformat": 4,
 "nbformat_minor": 5
}
