{
 "cells": [
  {
   "cell_type": "markdown",
   "id": "6118f794-eead-4943-bed2-a7058033f0f1",
   "metadata": {},
   "source": [
    "# Exercices séance 05\n",
    "\n",
    "**Reminder**\n",
    "* Chacune de vos fonctions doit être testée. \n",
    "\n",
    "* Chaque cellule doit compiler. \n",
    "\n",
    "* Si le résultat n'est pas celui voulu, expliquer ce qui semble ne pas aller dans votre fonction en commentaires. \n",
    "\n",
    "\n",
    "### 1. Ecrire une fonction qui prend une liste de mots et retourne le plus long. Gérer le cas où la liste ne contient pas que des strings.\n"
   ]
  },
  {
   "cell_type": "code",
   "execution_count": 7,
   "id": "4cd51b06-e59b-4b44-88dd-e8bfa43e377e",
   "metadata": {},
   "outputs": [],
   "source": [
    "liste = ['liste', 'de', 'mots', 'longs', 'et', 'moinslongue', 10, 16]"
   ]
  },
  {
   "cell_type": "code",
   "execution_count": null,
   "id": "b14b7e5e-29a1-4300-a764-3728cd9f35ce",
   "metadata": {},
   "outputs": [],
   "source": []
  },
  {
   "cell_type": "markdown",
   "id": "42d18c3d-c7d7-41f2-99ed-4f6295ddc80f",
   "metadata": {},
   "source": [
    "### 2. Ecrire une fonction qui ajoute une string au milieu d'une autre string.\n"
   ]
  },
  {
   "cell_type": "code",
   "execution_count": 10,
   "id": "5690e60f-8b37-441b-9108-03e9528a8f1d",
   "metadata": {},
   "outputs": [
    {
     "data": {
      "text/plain": [
       "'moins longue'"
      ]
     },
     "execution_count": 10,
     "metadata": {},
     "output_type": "execute_result"
    }
   ],
   "source": [
    "ajouter_au_milieu('moinslongue', ' ')"
   ]
  },
  {
   "cell_type": "markdown",
   "id": "aa29d27b-4a87-4d89-b959-8eded4180b83",
   "metadata": {},
   "source": [
    "### 3. Ecrire une fonction qui transforme en majuscule la première et la dernière lettre de toutes les string d'une liste.\n"
   ]
  },
  {
   "cell_type": "code",
   "execution_count": 39,
   "id": "efde91c0-11f9-43be-914b-848c928646a3",
   "metadata": {},
   "outputs": [
    {
     "name": "stdout",
     "output_type": "stream",
     "text": [
      "['ExemplE', 'PythoN', 'ProgrammatioN']\n"
     ]
    }
   ],
   "source": [
    "# Test\n",
    "liste_mots = [\"exemple\", \"python\", \"programmation\"]\n",
    "resultat = majuscules_premiere_derniere(liste_mots)\n",
    "print(resultat)"
   ]
  },
  {
   "cell_type": "markdown",
   "id": "99ffe52b-76a1-47f3-8e47-87784007083f",
   "metadata": {},
   "source": [
    "### 4. Ecrire une fonction qui trouve les 3 plus hautes valeurs d'un dictionnaire.\n"
   ]
  },
  {
   "cell_type": "code",
   "execution_count": 37,
   "id": "9d23d262-d292-4cc9-829e-a25d00a74a7f",
   "metadata": {},
   "outputs": [
    {
     "name": "stdout",
     "output_type": "stream",
     "text": [
      "[15, 10, 8]\n"
     ]
    }
   ],
   "source": [
    "# Test\n",
    "mon_dictionnaire = {'a': 10, 'b': 5, 'c': 8, 'd': 15}\n",
    "resultat = trois_plus_hautes_valeurs(mon_dictionnaire)\n",
    "print(resultat)"
   ]
  },
  {
   "cell_type": "markdown",
   "id": "46744ef4-48b7-4a04-a199-d2b1a57daf12",
   "metadata": {},
   "source": [
    "### 5. Ecrire une fonction qui ajoute un élément à un tuple. Idem qui enlève.\n"
   ]
  },
  {
   "cell_type": "code",
   "execution_count": 35,
   "id": "914abfef-9133-418e-889e-26b365210b16",
   "metadata": {},
   "outputs": [
    {
     "name": "stdout",
     "output_type": "stream",
     "text": [
      "(1, 2, 3, 4, 2, 2)\n",
      "(1, 3, 4)\n"
     ]
    }
   ],
   "source": [
    "# Test\n",
    "tup = (1, 2, 3, 4, 2)\n",
    "nouvel_element = 2\n",
    "result_ajout = ajouter_element_tuple(tup, nouvel_element)\n",
    "result_enlever = enlever_element_tuple(tup, nouvel_element)\n",
    "\n",
    "print(result_ajout)  # Output: (1, 2, 3, 4, 2, 2)\n",
    "print(result_enlever)  # Output: (1, 3, 4)\n"
   ]
  },
  {
   "cell_type": "markdown",
   "id": "8e7c834d-7b48-4ab4-a0eb-a432f00042e7",
   "metadata": {},
   "source": [
    "### 6. Ecrire une fonction qui remplace la dernière valeur des tuples d'une liste.\n",
    "\tExemple :\n",
    "\t\tentree: [(10, 20, 40), (40, 50, 60), (70, 80, 90)]\n",
    "\t\tsortie: [(10, 20, 100), (40, 50, 100), (70, 80, 100)]\n"
   ]
  },
  {
   "cell_type": "code",
   "execution_count": 33,
   "id": "338dfff4-f158-4edf-b637-9c228561b8c4",
   "metadata": {},
   "outputs": [
    {
     "name": "stdout",
     "output_type": "stream",
     "text": [
      "[(10, 20, 100), (40, 50, 100), (70, 80, 100)]\n"
     ]
    }
   ],
   "source": [
    "# Test\n",
    "entree = [(10, 20, 40), (40, 50, 60), (70, 80, 90)]\n",
    "sortie = remplacer_derniere_valeur(entree, 100)\n",
    "print(sortie)"
   ]
  },
  {
   "cell_type": "markdown",
   "id": "b885c8d6-604f-4a79-a3e7-7326438210e1",
   "metadata": {},
   "source": [
    "### 7. Ecrire une fonction qui lit un csv dont les délimiteurs sont des tabulations (import csv ou pandas).\n"
   ]
  },
  {
   "cell_type": "code",
   "execution_count": null,
   "id": "1912820e-d74a-4cdf-afb5-1d90452a7c25",
   "metadata": {},
   "outputs": [],
   "source": [
    "tsv ="
   ]
  },
  {
   "cell_type": "markdown",
   "id": "3fa474ea-090e-4a1f-8dc5-b41e858bf71a",
   "metadata": {},
   "source": [
    "### 8. Ecrire une fonction qui écrit des dictionnaires dans un fichier (json par exemple)\n"
   ]
  },
  {
   "cell_type": "code",
   "execution_count": null,
   "id": "4ff08eb2-9e02-413a-88e0-2bb594926241",
   "metadata": {},
   "outputs": [],
   "source": [
    "import json"
   ]
  },
  {
   "cell_type": "code",
   "execution_count": null,
   "id": "52d4939e-0b4d-464f-b71e-9a5a52fefa4a",
   "metadata": {},
   "outputs": [],
   "source": [
    "bureau = {'marque': \"ikeu\", 'matiere': \"bois\", 'type': \"meuble\", 'nom': \"bureau\", 'designeur': \"Fernand\"}\n",
    "def dict_to_json():\n"
   ]
  },
  {
   "cell_type": "markdown",
   "id": "a09c16a1-844d-447c-8f3f-bf4f58ebae83",
   "metadata": {},
   "source": [
    "### 9. Ecrire une fonction qui convertit un array en array de float\n"
   ]
  },
  {
   "cell_type": "code",
   "execution_count": 19,
   "id": "8c35a63d-9dfe-4c27-8c80-4089f8e2d31a",
   "metadata": {},
   "outputs": [],
   "source": [
    "import numpy as np"
   ]
  },
  {
   "cell_type": "code",
   "execution_count": 20,
   "id": "c0e2740c-b901-4fae-a674-4daf1300a3c8",
   "metadata": {},
   "outputs": [],
   "source": [
    "integers = np.arange(1, 15)"
   ]
  },
  {
   "cell_type": "code",
   "execution_count": 21,
   "id": "ee01d29b-2a1f-4a4a-9ec9-6759574afa85",
   "metadata": {},
   "outputs": [
    {
     "data": {
      "text/plain": [
       "array([ 1,  2,  3,  4,  5,  6,  7,  8,  9, 10, 11, 12, 13, 14])"
      ]
     },
     "execution_count": 21,
     "metadata": {},
     "output_type": "execute_result"
    }
   ],
   "source": [
    "integers"
   ]
  },
  {
   "cell_type": "code",
   "execution_count": null,
   "id": "5313da4d-dd18-4e80-9ba5-476229e9968c",
   "metadata": {},
   "outputs": [],
   "source": []
  },
  {
   "cell_type": "code",
   "execution_count": 23,
   "id": "e962df7e-c63a-42c9-82f6-1259de718d32",
   "metadata": {},
   "outputs": [],
   "source": [
    "array_float = int_to_float(integers)"
   ]
  },
  {
   "cell_type": "code",
   "execution_count": 24,
   "id": "1ee3e147-0884-4ee3-bc0b-ab15e21385e3",
   "metadata": {},
   "outputs": [
    {
     "data": {
      "text/plain": [
       "numpy.ndarray"
      ]
     },
     "execution_count": 24,
     "metadata": {},
     "output_type": "execute_result"
    }
   ],
   "source": [
    "type(array_float)"
   ]
  },
  {
   "cell_type": "code",
   "execution_count": 25,
   "id": "7218dfcd-62fc-4450-af40-f6928e6b915a",
   "metadata": {},
   "outputs": [
    {
     "data": {
      "text/plain": [
       "array([ 1.,  2.,  3.,  4.,  5.,  6.,  7.,  8.,  9., 10., 11., 12., 13.,\n",
       "       14.])"
      ]
     },
     "execution_count": 25,
     "metadata": {},
     "output_type": "execute_result"
    }
   ],
   "source": [
    "array_float"
   ]
  },
  {
   "cell_type": "markdown",
   "id": "e99d9c40-8b8b-4d52-b5b1-01ce865c8e6d",
   "metadata": {},
   "source": [
    "### 10. Ecrire une fonction qui enregistre un array dans un fichier texte.\n"
   ]
  },
  {
   "cell_type": "code",
   "execution_count": 30,
   "id": "31ebdc1f-1a23-41f3-a65f-e3b1c322d93c",
   "metadata": {},
   "outputs": [],
   "source": [
    "array = np.array([[8,3,2,4],[5,1,6,0],[9,7,4,1]])"
   ]
  },
  {
   "cell_type": "code",
   "execution_count": null,
   "id": "91defdde-4797-4056-8f39-63db534a4027",
   "metadata": {},
   "outputs": [],
   "source": []
  },
  {
   "cell_type": "code",
   "execution_count": 31,
   "id": "9d503dfb-ae56-4ae8-87ef-23caa0d32dee",
   "metadata": {},
   "outputs": [
    {
     "name": "stdout",
     "output_type": "stream",
     "text": [
      "\n",
      "Content in array_file.txt:\n",
      " [[8 3 2 4]\n",
      " [5 1 6 0]\n",
      " [9 7 4 1]]\n"
     ]
    }
   ],
   "source": [
    "array_to_txt_and_display(array)"
   ]
  },
  {
   "cell_type": "markdown",
   "id": "2e014338-fab1-4c67-aad7-5101d649ad7e",
   "metadata": {},
   "source": [
    "### 11. Ecrire une fonction qui réalise l'addition matricielle de deux arrays. La multiplication ça se tente ?"
   ]
  },
  {
   "cell_type": "code",
   "execution_count": 14,
   "id": "c3d787ea-9c6b-46a5-a6ec-72ae1086a664",
   "metadata": {},
   "outputs": [],
   "source": [
    "import numpy as np\n",
    "\n",
    "M = np.array([[1, 2], [3, 4]]) \n",
    "N = np.array([[4, 3], [2, 1]]) "
   ]
  },
  {
   "cell_type": "code",
   "execution_count": null,
   "id": "9e562470-acd6-4537-90db-c4979955c098",
   "metadata": {},
   "outputs": [],
   "source": []
  },
  {
   "cell_type": "code",
   "execution_count": 15,
   "id": "4cfa80e0-05f3-41b7-acdf-2e56fa35d94b",
   "metadata": {},
   "outputs": [
    {
     "data": {
      "text/plain": [
       "array([[5, 5],\n",
       "       [5, 5]])"
      ]
     },
     "execution_count": 15,
     "metadata": {},
     "output_type": "execute_result"
    }
   ],
   "source": [
    "addition_matricielle(M, N)"
   ]
  },
  {
   "cell_type": "code",
   "execution_count": 16,
   "id": "de22cd60-d1de-489f-8c2b-d07d08c315f7",
   "metadata": {},
   "outputs": [
    {
     "data": {
      "text/plain": [
       "array([[ 8,  5],\n",
       "       [20, 13]])"
      ]
     },
     "execution_count": 16,
     "metadata": {},
     "output_type": "execute_result"
    }
   ],
   "source": [
    "multiplication_matricielle(M, N)"
   ]
  },
  {
   "cell_type": "code",
   "execution_count": null,
   "id": "b1d0a311-caf7-4920-848f-a7087031aebc",
   "metadata": {},
   "outputs": [],
   "source": []
  }
 ],
 "metadata": {
  "kernelspec": {
   "display_name": "Python 3 (ipykernel)",
   "language": "python",
   "name": "python3"
  },
  "language_info": {
   "codemirror_mode": {
    "name": "ipython",
    "version": 3
   },
   "file_extension": ".py",
   "mimetype": "text/x-python",
   "name": "python",
   "nbconvert_exporter": "python",
   "pygments_lexer": "ipython3",
   "version": "3.12.3"
  }
 },
 "nbformat": 4,
 "nbformat_minor": 5
}
