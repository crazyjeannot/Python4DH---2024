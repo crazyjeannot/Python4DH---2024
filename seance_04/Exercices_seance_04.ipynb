{
 "cells": [
  {
   "cell_type": "markdown",
   "id": "522b32e4-2176-4a92-99ba-f7529735117f",
   "metadata": {},
   "source": [
    "## Exercices avec NumPy\n",
    "\n",
    "### 1 : Création d'un tableau Numpy\n",
    "**Enoncé :** Créez un tableau Numpy contenant 5 entiers aléatoires entre 1 et 10.\n",
    "\n",
    "### 2 : Opérations arithmétiques\n",
    "**Enoncé :** Créez deux tableaux Numpy de même forme (par exemple, 2x3) et effectuez une opération d'addition entre les deux.\n",
    "\n",
    "### 3 : Indexation et découpage\n",
    "**Enoncé :** Créez un tableau Numpy 1D et affichez uniquement les éléments dont la valeur est supérieure à 5.\n",
    "\n",
    "### 4 : Manipulation de forme (reshape)\n",
    "**Enoncé :** Créez un tableau Numpy 1D avec 12 éléments et modifiez sa forme pour en faire une matrice 3x4.\n",
    "\n",
    "### 5 : Manipulation avancée\n",
    "**Enoncé :** Créez une matrice NumPy 3x4 avec des valeurs générées aléatoirement entre 1 et 10. Ensuite, remplacez toutes les valeurs impaires par zéro.\n",
    "\n"
   ]
  },
  {
   "cell_type": "code",
   "execution_count": null,
   "id": "29f61115-e834-459a-a281-05700ba7c9a9",
   "metadata": {},
   "outputs": [],
   "source": []
  },
  {
   "cell_type": "markdown",
   "id": "1ba9c8e8-946f-43b8-a121-d5ae95aeb2d4",
   "metadata": {},
   "source": [
    "## Exercices avec Pandas\n",
    "\n",
    "**Lire le datadrame comme dans le notebook du cours : df_corpus = pd.read_csv('chemin/vers/data_corpus.csv')**\n",
    "\n",
    "### 1 : Afficher le dataframe du roman 'pauvre blaise'\n",
    "\n",
    "### 2 : Afficher le dataframe de l'auteur 'romain gary'\n",
    "\n",
    "### 3 : Afficher le dataframe des auteurs morts avant 1865\n",
    "\n",
    "### 4 : Afficher le dataframe des autrices femmes qui sont canoniques \n",
    "\n",
    "### 5 : Afficher le dataframe des autrices femmes qui sont canoniques avant 1878\n"
   ]
  },
  {
   "cell_type": "code",
   "execution_count": null,
   "id": "198f5c91-190a-4d8d-9431-f5ab01ce9110",
   "metadata": {},
   "outputs": [],
   "source": []
  },
  {
   "cell_type": "markdown",
   "id": "9aa0418f-d50d-4c45-a303-322c8e8a36d6",
   "metadata": {},
   "source": [
    "## Exercice de tri\n",
    "\n",
    "Vous devez implémenter une fonction nommée tri_selection qui prend en paramètre un dictionnaire représentant la fréquence des mots dans un texte. La fonction doit retourner une liste de couple(mots, compte) triée par ordre croissant de la fréquence des mots.\n",
    "\n",
    "Reprenez l'exercice de la semaine passée, et le dictionnaire obtenu après la fonction compte_mots, mais cette fois ci vous ne pouvez pas utiliser ni de lambda ni la fonction sorted(). utiliser uniquement des boucles for et des conditions if/else/elif"
   ]
  },
  {
   "cell_type": "code",
   "execution_count": null,
   "id": "a4dab00b-c28b-4814-ae01-3cf4e5f9129a",
   "metadata": {},
   "outputs": [],
   "source": [
    "def tri_selection(dictionnaire: dict) -> list: # meme chose que def tri_selection(dictionnaire):\n",
    "    \"\"\"\n",
    "    Trie un dictionnaire de fréquence de mots par ordre croissant de fréquence.\n",
    "\n",
    "    Args:\n",
    "    - dictionnaire (dict): Un dictionnaire où les clés sont des mots et les valeurs sont leur fréquence d'apparition.\n",
    "\n",
    "    Returns:\n",
    "    - list: Une liste de tuples (mot, fréquence) triée par ordre croissant de la fréquence des mots.\n",
    "    \"\"\"\n",
    "    # Votre code ici"
   ]
  },
  {
   "cell_type": "code",
   "execution_count": null,
   "id": "f967ead9-0a1a-47ba-820d-5558aea5a63c",
   "metadata": {},
   "outputs": [],
   "source": [
    "# test de la fonction : \n",
    "\n",
    "liste_mots = [\"chat\", \"chien\", \"chat\", \"oiseau\", \"chien\", \"chat\"]\n",
    "freq_mots = compte_mots(liste_mots)\n",
    "mots_tries = tri_selection(freq_mots)\n",
    "print(\"Mots triés par fréquence :\", mots_tries)"
   ]
  },
  {
   "cell_type": "code",
   "execution_count": null,
   "id": "48fb7b93-646c-47bf-840b-a7b15b0e2d26",
   "metadata": {},
   "outputs": [],
   "source": [
    "# sortie attendue\n",
    "Mots triés par fréquence : [('oiseau', 1), ('chien', 2), ('chat', 3)]"
   ]
  }
 ],
 "metadata": {
  "kernelspec": {
   "display_name": "Python 3 (ipykernel)",
   "language": "python",
   "name": "python3"
  },
  "language_info": {
   "codemirror_mode": {
    "name": "ipython",
    "version": 3
   },
   "file_extension": ".py",
   "mimetype": "text/x-python",
   "name": "python",
   "nbconvert_exporter": "python",
   "pygments_lexer": "ipython3",
   "version": "3.12.3"
  }
 },
 "nbformat": 4,
 "nbformat_minor": 5
}
