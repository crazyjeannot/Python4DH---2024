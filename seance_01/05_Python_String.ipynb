{
 "cells": [
  {
   "cell_type": "markdown",
   "id": "66c18b22-d576-40dc-89ea-0769cf6aa732",
   "metadata": {},
   "source": [
    "# Les bases de Python\n",
    "\n",
    "## Les Chaînes de caractère"
   ]
  },
  {
   "cell_type": "code",
   "execution_count": 2,
   "id": "6cc5ad69-1f93-40ed-9706-6da91c2a789c",
   "metadata": {},
   "outputs": [],
   "source": [
    "lupin_txt = open(\"../data/txt/1907_Leblanc-Maurice_Arsene-Lupin-gentleman-cambrioleur.txt\", encoding=\"utf-8\").read()"
   ]
  },
  {
   "cell_type": "markdown",
   "id": "018f911f-2a27-4270-babc-a74176af3689",
   "metadata": {},
   "source": [
    "### Extraire des parties de String "
   ]
  },
  {
   "cell_type": "markdown",
   "id": "46e4bbc6-cc46-46b5-9c14-f3251ba6395f",
   "metadata": {},
   "source": [
    "#### Index\n",
    "\n",
    "En utilisant des crochets `[]`, vous pouvez extraire ou \"indexer\" une partie d'une chaîne de caractères en fonction de son numéro de caractère.\n",
    "\n",
    "Voici ce qui se passe lorsque nous indexons les premiers caractères de *Arsène Lupin*. \n"
   ]
  },
  {
   "cell_type": "markdown",
   "id": "61a65b25-6075-459a-b9bb-d4b72e8397af",
   "metadata": {},
   "source": [
    "<div class=\"admonition pythonreview\" name=\"html-admonition\" style=\"background: red; padding: 10px\">\n",
    "<p class=\"title\">Fondamental dans Python</p>\n",
    "Un index Python commence par `0`. Ainsi, le caractère `0` dans une chaîne de caractères Python est en réalité le `1`er caractère.\n",
    "</div>\n"
   ]
  },
  {
   "cell_type": "code",
   "execution_count": 5,
   "id": "24b56cbb-2717-4060-8f63-2a6ea259234f",
   "metadata": {},
   "outputs": [
    {
     "data": {
      "text/plain": [
       "'L'"
      ]
     },
     "execution_count": 5,
     "metadata": {},
     "output_type": "execute_result"
    }
   ],
   "source": [
    "lupin_txt[1]"
   ]
  },
  {
   "cell_type": "code",
   "execution_count": null,
   "id": "2099f1f9-322c-4762-ac7a-7e97bd9788c1",
   "metadata": {},
   "outputs": [],
   "source": []
  },
  {
   "cell_type": "markdown",
   "id": "bfb17272-5061-4786-a3cf-eafb7baf7231",
   "metadata": {},
   "source": [
    "#### Slice\n",
    "\n",
    "string[start:stop]\n"
   ]
  },
  {
   "cell_type": "code",
   "execution_count": 8,
   "id": "baf0d661-70fb-4ef4-bad7-343b099b6ca5",
   "metadata": {},
   "outputs": [
    {
     "data": {
      "text/plain": [
       "' Il avait si bien commencé cependant ! '"
      ]
     },
     "execution_count": 8,
     "metadata": {},
     "output_type": "execute_result"
    }
   ],
   "source": [
    "lupin_txt[19:58]"
   ]
  },
  {
   "cell_type": "code",
   "execution_count": null,
   "id": "186e8611-397f-402e-96aa-f9fd08cfd27e",
   "metadata": {},
   "outputs": [],
   "source": []
  },
  {
   "cell_type": "code",
   "execution_count": null,
   "id": "114f6b21-629b-432f-9bc1-556a7da2947d",
   "metadata": {},
   "outputs": [],
   "source": []
  },
  {
   "cell_type": "markdown",
   "id": "99990c46-1180-4ca2-9261-46cc3968427a",
   "metadata": {},
   "source": [
    "### Méthodes"
   ]
  },
  {
   "cell_type": "markdown",
   "id": "3afc60c1-8e0f-49d6-b623-82de47418ed5",
   "metadata": {},
   "source": [
    "| **Méthode de chaîne de caractères** | **Explication**                                                                                   |\n",
    "|:-------------:|:---------------------------------------------------------------------------------------------------:|\n",
    "| `chaine.lower()`         | rend la chaîne en minuscules                                                                                |\n",
    "| `chaine.upper()`         | rend la chaîne en majuscules  \n",
    "| `chaine.title()`         | rend la chaîne en majuscule initiale \n",
    "| `chaine.strip()`         | supprime les espaces en début et fin de chaîne     |\n",
    "| `chaine.replace('ancienne_chaine', 'nouvelle_chaine')`      | remplace `ancienne_chaine` par `nouvelle_chaine`          |\n",
    "| `chaine.split('delimiteur')`          | renvoie une liste de sous-chaînes séparées par le délimiteur donné |\n",
    "| `chaine.join(liste)`         | contraire de split(), joint les éléments de la liste donnée en utilisant la chaîne comme séparateur                                                                        |\n",
    "| `chaine.startswith('une_chaine')`       | vérifie si la chaîne commence par `une_chaine` |                                                       |\n",
    "| `chaine.endswith('une_chaine')`       |  vérifie si la chaîne se termine par `une_chaine`   |\n",
    "| `chaine.isspace()`       |  vérifie si la chaîne est constituée d'espaces uniquement |"
   ]
  },
  {
   "cell_type": "code",
   "execution_count": 13,
   "id": "0ec31190-5131-4383-8a6a-ec1970ed2643",
   "metadata": {},
   "outputs": [],
   "source": [
    "lupin_txt = lupin_txt[10:70].lower()"
   ]
  },
  {
   "cell_type": "markdown",
   "id": "ef4395e4-e3b8-41b5-acbd-951764dcf5c6",
   "metadata": {},
   "source": [
    "test =, +, .upper, .replace, ...."
   ]
  },
  {
   "cell_type": "code",
   "execution_count": null,
   "id": "a9d55d72-ad91-4ada-b445-594f66542290",
   "metadata": {},
   "outputs": [],
   "source": []
  }
 ],
 "metadata": {
  "kernelspec": {
   "display_name": "Python 3 (ipykernel)",
   "language": "python",
   "name": "python3"
  },
  "language_info": {
   "codemirror_mode": {
    "name": "ipython",
    "version": 3
   },
   "file_extension": ".py",
   "mimetype": "text/x-python",
   "name": "python",
   "nbconvert_exporter": "python",
   "pygments_lexer": "ipython3",
   "version": "3.12.3"
  }
 },
 "nbformat": 4,
 "nbformat_minor": 5
}
