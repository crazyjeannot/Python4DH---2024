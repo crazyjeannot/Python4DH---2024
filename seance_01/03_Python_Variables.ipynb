{
 "cells": [
  {
   "cell_type": "markdown",
   "id": "dfc7ec32-186f-425e-9308-4586affbc28c",
   "metadata": {},
   "source": [
    "# Les bases de Python"
   ]
  },
  {
   "cell_type": "markdown",
   "id": "d80b5ebf-6ff0-4ccd-ac6f-f2a4abe0c62e",
   "metadata": {},
   "source": [
    "## Les Variables "
   ]
  },
  {
   "cell_type": "markdown",
   "id": "90a351bc-0e8a-42b4-b553-826396a2505a",
   "metadata": {},
   "source": [
    "Le nom de la variable fera référence à une valeur que vous lui \"attribuez\".\n",
    "\n",
    "On plaçe une valeur \"dans\" la variable, comme si la variable était une petite boîte 🎁\n",
    "\n",
    "Vous attribuez des variables avec un signe égal `=`. En Python, un seul signe égal `=` est l'\"opérateur d'assignation\". Un double signe égal `==` est le \"vrai\" signe égal."
   ]
  },
  {
   "cell_type": "code",
   "execution_count": 10,
   "id": "78df54ae-9c0d-482d-8fe9-2178ecae0fcd",
   "metadata": {},
   "outputs": [],
   "source": [
    "variable = 4"
   ]
  },
  {
   "cell_type": "code",
   "execution_count": null,
   "id": "c9a6e9d6-fe19-4b05-8e38-cf073b4db5be",
   "metadata": {},
   "outputs": [],
   "source": [
    "variable + 2 "
   ]
  },
  {
   "cell_type": "markdown",
   "id": "2db6fadb-94a7-477f-8b88-db8e067dbb9c",
   "metadata": {},
   "source": [
    "#### Opérations sur les variables: *, ==, >, <, <=, >=, **"
   ]
  },
  {
   "cell_type": "code",
   "execution_count": null,
   "id": "55f00ec5-2bf0-4447-bd76-8bdf5fc09696",
   "metadata": {},
   "outputs": [],
   "source": []
  },
  {
   "cell_type": "markdown",
   "id": "b5a3e9a6-5786-4a54-854d-1e4c8d9fca04",
   "metadata": {},
   "source": [
    "#### Réassigner des variables: x=x+1, x+=1, y=x, print(y)"
   ]
  },
  {
   "cell_type": "code",
   "execution_count": 27,
   "id": "cce191cd-f5a7-4d67-9a39-2a63ea69ebb0",
   "metadata": {},
   "outputs": [],
   "source": [
    "var2 = variable + var2"
   ]
  },
  {
   "cell_type": "code",
   "execution_count": 29,
   "id": "2d689506-3dc5-4e08-a3af-20cba83dc41d",
   "metadata": {},
   "outputs": [],
   "source": [
    "var4 = var2"
   ]
  },
  {
   "cell_type": "code",
   "execution_count": 30,
   "id": "9a755b47-c5ea-45fc-b9ee-38c9ba361e1c",
   "metadata": {},
   "outputs": [
    {
     "name": "stdout",
     "output_type": "stream",
     "text": [
      "13\n"
     ]
    }
   ],
   "source": [
    "print(var4+1)"
   ]
  },
  {
   "cell_type": "code",
   "execution_count": null,
   "id": "299906c6-7f66-4e29-a751-e1093a4a3664",
   "metadata": {},
   "outputs": [],
   "source": []
  },
  {
   "cell_type": "markdown",
   "id": "53fee5b0-c0dc-49fe-a8ce-edf60052614a",
   "metadata": {},
   "source": [
    "#### Regardons les variables du script précédent"
   ]
  },
  {
   "cell_type": "code",
   "execution_count": null,
   "id": "b2a119d4-331c-4906-b889-fc8172b4db44",
   "metadata": {},
   "outputs": [],
   "source": [
    "# Import des modules nécessaires\n",
    "import re  # Module pour les expressions régulières\n",
    "from collections import Counter  # Objet de comptage\n",
    "\n",
    "# Fonction pour découper le texte en mots\n",
    "def decouper_en_mots(un_morceau_de_texte):\n",
    "    texte_minuscule = un_morceau_de_texte.lower()  # Convertir en minuscules\n",
    "    mots_separes = re.split(\"\\W+\", texte_minuscule)  # Séparer les mots\n",
    "    return mots_separes  # Retourner la liste de mots\n",
    "\n",
    "# Chemin d'accès du texte\n",
    "chemin_du_texte = \"../data/txt/1907_Leblanc-Maurice_Arsene-Lupin-gentleman-cambrioleur.txt\"\n",
    "\n",
    "# Nombre de mots les plus fréquents à afficher\n",
    "nombre_de_mots_voulu = 40\n",
    "\n",
    "# Liste des mots vides à exclure\n",
    "mots_vides = ['je', 'tu', 'il', 'elle', 'on', 'nous', 'vous', 'ils', 'elles',\n",
    "    'le', 'la', 'les', 'un', 'une', 'des', 'mon', 'ma', 'mes', 'ton', 'ta', 'tes',\n",
    "    'son', 'sa', 'ses', 'notre', 'votre', 'leurs', 'de', 'du', 'l', 'à', 'au', 'aux', 'en', 'par', 'pour', 'avec',\n",
    "    'sur', 'sous', 'dans', 'vers', 'contre', 'à travers', 'après', 'avant', 'pendant',\n",
    "    'alors', 'quand', 'si', 'comme', 'parce que', 'parce', 'mais', 'ou', 'et', 'donc',\n",
    "    'si', 'car', 'lorsque', 'puisque', 'qu', 'quel', 'quelle', 'quels', 'quelles',\n",
    "    'ainsi', 'autant', 'autre', 'autres', 'celui', 'celle', 'ceux', 'celles',\n",
    "    'chaque', 'ci', 'ça', 'cela', 'ce', 'ceci', 'celui-ci', 'celle-ci',\n",
    "    'celui-là', 'celle-là', 'cent', 'certain', 'certaine', 'certaines', 'certains',\n",
    "    'ceux-ci', 'ceux-là', 'chaque', 'combien', 'comme', 'd', 'dans', 'des', 'du', 'deux',\n",
    "    'devant', 'donc', 'dont', 'duquel', 'elle', 'elles', 'en', 'encore', 'entre',\n",
    "    'envers', 'est', 'et', 'eu', 'eux', 'fin', 'fut', 'hormis', 'hui', 'huit', 'ici',\n",
    "    'il', 'ils', 'je', 'jusque', 'l', 'la', 'le', 'les', 'leur', 'leurs', 'lors',\n",
    "    'lui', 'là', 'ma', 'mais', 'me', 'même', 'mes', 'moi', 'moins', 'mon', 'ne', 'ni',\n",
    "    'nombreuses', 'nombreux', 'notre', 'nous', 'ou', 'où', 'par', 'parmi', 'pas',\n",
    "    'peu', 'plus', 'plupart', 'pour', 'pourquoi', 'quand', 'que', 'quel', 'quelle',\n",
    "    'quelles', 'quels', 'qui', 'quoi', 'sa', 'sans', 'se', 'sept', 'ses', 'si',\n",
    "    'sien', 'soi', 'soit', 'son', 'sont', 'sous', 'soyez', 'sujet', 'sur', 'ta',\n",
    "    'tandis', 'te', 'tel', 'telle', 'telles', 'tels', 'tes', 'toi', 'ton', 'tous',\n",
    "    'tout', 'toute', 'toutes', 'un', 'une', 'va', 'vers', 'voici', 'voilà', 'vont',\n",
    "    'votre', 'vous', 'vu', 'ça', 's', 'n', 'c', 'a', 'm', 'j', 'y', 't', 'ces', \n",
    "    'dit', 'cet', 'oui', 'non', 'était', 'est', 'être', 'été', 'ai', 'puis', 'avez', \n",
    "    'avait', 'avais', 'eût', 'très', 'cette', 'point', 'fois', 'fit', 'aussi', 'suis' \n",
    "]\n",
    "\n",
    "# Lire le texte complet depuis le fichier\n",
    "texte_complet = open(chemin_du_texte, encoding=\"utf-8\").read()\n",
    "\n",
    "# Découper le texte en mots\n",
    "tous_les_mots = decouper_en_mots(texte_complet)\n",
    "\n",
    "# Filtrer les mots significatifs en enlevant les mots vides\n",
    "mots_significatifs = [mot for mot in tous_les_mots if mot not in mots_vides]\n",
    "\n",
    "# Compter le nombre d'occurrences de chaque mot significatif\n",
    "conteur_mots_significatifs = Counter(mots_significatifs)\n",
    "\n",
    "# Extraire les mots les plus fréquents\n",
    "mots_significatifs_frequents = conteur_mots_significatifs.most_common(nombre_de_mots_voulu)\n",
    "\n",
    "# Afficher les mots les plus fréquents\n",
    "print(\"Les\", nombre_de_mots_voulu, \"mots les plus fréquents sont :\")\n",
    "print(mots_significatifs_frequents)"
   ]
  },
  {
   "cell_type": "markdown",
   "id": "21d18cdd-cedd-457f-aa8f-18200c1a21c9",
   "metadata": {},
   "source": [
    "On a créer les variables: "
   ]
  },
  {
   "cell_type": "code",
   "execution_count": 32,
   "id": "ca802aaf-285b-4f78-986c-e941980d10b8",
   "metadata": {},
   "outputs": [],
   "source": [
    "chemin_du_texte = \"../data/txt/1907_Leblanc-Maurice_Arsene-Lupin-gentleman-cambrioleur.txt\"\n",
    "nombre_de_mots_voulu = 40\n",
    "mots_vides = ['je', 'tu', 'il', 'elle', 'on', 'nous', 'vous', 'ils', 'elles',\n",
    "    'le', 'la', 'les', 'un', 'une', 'des', 'mon', 'ma', 'mes', 'ton', 'ta', 'tes',\n",
    "    'son', 'sa', 'ses', 'notre', 'votre', 'leurs', 'de', 'du', 'l', 'à', 'au', 'aux', 'en', 'par', 'pour', 'avec',\n",
    "    'sur', 'sous', 'dans', 'vers', 'contre', 'à travers', 'après', 'avant', 'pendant',\n",
    "    'alors', 'quand', 'si', 'comme', 'parce que', 'parce', 'mais', 'ou', 'et', 'donc',\n",
    "    'si', 'car', 'lorsque', 'puisque', 'qu', 'quel', 'quelle', 'quels', 'quelles',\n",
    "    'ainsi', 'autant', 'autre', 'autres', 'celui', 'celle', 'ceux', 'celles',\n",
    "    'chaque', 'ci', 'ça', 'cela', 'ce', 'ceci', 'celui-ci', 'celle-ci',\n",
    "    'celui-là', 'celle-là', 'cent', 'certain', 'certaine', 'certaines', 'certains',\n",
    "    'ceux-ci', 'ceux-là', 'chaque', 'combien', 'comme', 'd', 'dans', 'des', 'du', 'deux',\n",
    "    'devant', 'donc', 'dont', 'duquel', 'elle', 'elles', 'en', 'encore', 'entre',\n",
    "    'envers', 'est', 'et', 'eu', 'eux', 'fin', 'fut', 'hormis', 'hui', 'huit', 'ici',\n",
    "    'il', 'ils', 'je', 'jusque', 'l', 'la', 'le', 'les', 'leur', 'leurs', 'lors',\n",
    "    'lui', 'là', 'ma', 'mais', 'me', 'même', 'mes', 'moi', 'moins', 'mon', 'ne', 'ni',\n",
    "    'nombreuses', 'nombreux', 'notre', 'nous', 'ou', 'où', 'par', 'parmi', 'pas',\n",
    "    'peu', 'plus', 'plupart', 'pour', 'pourquoi', 'quand', 'que', 'quel', 'quelle',\n",
    "    'quelles', 'quels', 'qui', 'quoi', 'sa', 'sans', 'se', 'sept', 'ses', 'si',\n",
    "    'sien', 'soi', 'soit', 'son', 'sont', 'sous', 'soyez', 'sujet', 'sur', 'ta',\n",
    "    'tandis', 'te', 'tel', 'telle', 'telles', 'tels', 'tes', 'toi', 'ton', 'tous',\n",
    "    'tout', 'toute', 'toutes', 'un', 'une', 'va', 'vers', 'voici', 'voilà', 'vont',\n",
    "    'votre', 'vous', 'vu', 'ça', 's', 'n', 'c', 'a', 'm', 'j', 'y', 't', 'ces', \n",
    "    'dit', 'cet', 'oui', 'non', 'était', 'est', 'être', 'été', 'ai', 'puis', 'avez', \n",
    "    'avait', 'avais', 'eût', 'très', 'cette', 'point', 'fois', 'fit', 'aussi', 'suis' \n",
    "]\n",
    "texte_complet = open(chemin_du_texte, encoding=\"utf-8\").read()"
   ]
  },
  {
   "cell_type": "code",
   "execution_count": null,
   "id": "4f60cffb-9304-4eb9-847e-b0ad3128bdb6",
   "metadata": {},
   "outputs": [],
   "source": []
  },
  {
   "cell_type": "markdown",
   "id": "43a49dd2-b070-4fb7-8e56-f5ed4c6535b3",
   "metadata": {},
   "source": [
    "Bien que nous ayons nommé nos variables `chemin_du_texte`, `mots_vides`, `nombre_de_mots_voulu` et `texte_complet`, nous aurions pu les nommer presque n'importe comment.\n",
    "\n",
    "Les noms de variables peuvent être aussi longs ou courts que vous le souhaitez, et ils peuvent inclure :\n",
    "- lettres en majuscules et en minuscules (A-Z)\n",
    "- chiffres (0-9)\n",
    "- traits de soulignement (_)\n",
    "\n",
    "Cependant, les noms de variables *ne peuvent pas* inclure :\n",
    "- ❌ d'autres signes de ponctuation (-.!?@)\n",
    "- ❌ des espaces ( )\n",
    "- ❌ un mot réservé Python"
   ]
  },
  {
   "cell_type": "markdown",
   "id": "9c0c575e-3012-4a38-9450-23c6040b83f9",
   "metadata": {},
   "source": [
    "ex : chemin_du_texte, chemin, texte, t"
   ]
  },
  {
   "cell_type": "code",
   "execution_count": 36,
   "id": "095f8c05-3790-4a42-985b-16ea29eb2b62",
   "metadata": {},
   "outputs": [],
   "source": [
    "variable_2 = 3"
   ]
  },
  {
   "cell_type": "markdown",
   "id": "88d182ff-3cf3-4947-9403-bd3f094c71b7",
   "metadata": {},
   "source": [
    "### Noms de variables pertinents !\n",
    "Lorsque vous commencez à coder, vous serez presque certainement tenté d'utiliser des noms de variables extrêmement courts comme `f`. Vos doigts vont se fatiguer. Votre café va perdre de son efficacité. Vous verrez d'autres personnes utiliser des variables comme `f`. Vous vous promettrez sûrement de vous rappeler ce que signifie `f`. Mais vous ne le ferez probablement pas.\n",
    "\n",
    "Alors, résistez à la tentation des mauvais noms de variables ! Des noms de variables clairs et précis vont :\n",
    "\n",
    "* rendre votre code plus lisible (tant pour vous que pour les autres)\n",
    "* renforcer votre compréhension de Python et ce qui se passe dans le code"
   ]
  },
  {
   "cell_type": "code",
   "execution_count": 9,
   "id": "6d64468b-ecb6-4f55-a350-01b200716c7d",
   "metadata": {},
   "outputs": [],
   "source": [
    "import re"
   ]
  },
  {
   "cell_type": "code",
   "execution_count": 17,
   "id": "b337ed61-c464-417f-8f7c-361eaa6915ff",
   "metadata": {},
   "outputs": [],
   "source": [
    "def dem(t):\n",
    "    tm = t.lower()\n",
    "    ms = re.split(\"\\W+\", tm)\n",
    "    return ms\n",
    "\n",
    "f = \"../data/txt/1907_Leblanc-Maurice_Arsene-Lupin-gentleman-cambrioleur.txt\"\n",
    "ft = open(f, encoding=\"utf-8\").read()\n",
    "\n",
    "m_r = dem(ft)"
   ]
  },
  {
   "cell_type": "code",
   "execution_count": 18,
   "id": "780c6ec8-d8c5-4a01-b5d9-218968f559f9",
   "metadata": {},
   "outputs": [],
   "source": [
    "def decouper_en_mots(texte):\n",
    "    texte_minuscule = texte.lower()\n",
    "    mots_separes = re.split(\"\\W+\", texte_minuscule)\n",
    "    return mots_separes\n",
    "\n",
    "chemin_du_texte = \"../data/txt/1907_Leblanc-Maurice_Arsene-Lupin-gentleman-cambrioleur.txt\"\n",
    "texte = open(chemin_du_texte, encoding=\"utf-8\").read()\n",
    "\n",
    "mots_resultants = decouper_en_mots(texte)"
   ]
  },
  {
   "cell_type": "code",
   "execution_count": null,
   "id": "fb8ea736-284f-4e26-9502-0ae77da8666d",
   "metadata": {},
   "outputs": [],
   "source": []
  },
  {
   "cell_type": "markdown",
   "id": "b47504c3-349e-4617-baaa-7d89bde7a3c7",
   "metadata": {},
   "source": [
    "### A vous !"
   ]
  },
  {
   "cell_type": "code",
   "execution_count": null,
   "id": "f75277b7-9293-4072-aaca-15ed8145b7d5",
   "metadata": {},
   "outputs": [],
   "source": [
    "!ls ../data/txt/\n",
    "# windows : !dir ..\\data\\txt\\"
   ]
  },
  {
   "cell_type": "markdown",
   "id": "41e21dc7-74ff-41c0-a36e-1124b78b0923",
   "metadata": {},
   "source": [
    "Ensuite, attribuez chemin_du_texte au chemin d'accès correspondant ci-dessous. Assurez-vous d'explorer ce qui se passe lorsque vous modifiez les valeurs de nombre_de_mots_voulu et mots_vides également."
   ]
  },
  {
   "cell_type": "code",
   "execution_count": null,
   "id": "cf3e493b-d69c-4e98-b901-71d88fcf051b",
   "metadata": {},
   "outputs": [],
   "source": [
    "# Import des modules nécessaires\n",
    "import re  # Module pour les expressions régulières\n",
    "from collections import Counter  # Objet de comptage\n",
    "\n",
    "# Fonction pour découper le texte en mots\n",
    "def decouper_en_mots(un_morceau_de_texte):\n",
    "    texte_minuscule = un_morceau_de_texte.lower()  # Convertir en minuscules\n",
    "    mots_separes = re.split(\"\\W+\", texte_minuscule)  # Séparer les mots\n",
    "    return mots_separes  # Retourner la liste de mots\n",
    "\n",
    "# Chemin d'accès du texte\n",
    "chemin = \"../data/txt/1892_Verne-Jules_Le-Chateau-des-Carpathes.txt\"\n",
    "# Nombre de mots les plus fréquents à afficher\n",
    "nombre_de_mots_voulu = 35\n",
    "\n",
    "# Liste des mots vides à exclure\n",
    "mots_vides = ['elle', 'on', 'nous', 'vous', 'ils', 'elles',\n",
    "    'le', 'la', 'les', 'un', 'une', 'des', 'mon', 'ma', 'mes', 'ton', 'ta', 'tes',\n",
    "    'son', 'sa', 'ses', 'notre', 'votre', 'leurs', 'de', 'du', 'l', 'à', 'au', 'aux', 'en', 'par', 'pour', 'avec',\n",
    "    'sur', 'sous', 'dans', 'vers', 'contre', 'à travers', 'après', 'avant', 'pendant',\n",
    "    'alors', 'quand', 'si', 'comme', 'parce que', 'parce', 'mais', 'ou', 'et', 'donc',\n",
    "    'si', 'car', 'lorsque', 'puisque', 'qu', 'quel', 'quelle', 'quels', 'quelles',\n",
    "    'ainsi', 'autant', 'autre', 'autres', 'celui', 'celle', 'ceux', 'celles',\n",
    "    'chaque', 'ci', 'ça', 'cela', 'ce', 'ceci', 'celui-ci', 'celle-ci',\n",
    "    'celui-là', 'celle-là', 'cent', 'certain', 'certaine', 'certaines', 'certains',\n",
    "    'ceux-ci', 'ceux-là', 'chaque', 'combien', 'comme', 'd', 'dans', 'des', 'du', 'deux',\n",
    "    'devant', 'donc', 'dont', 'duquel', 'elle', 'elles', 'en', 'encore', 'entre',\n",
    "    'envers', 'est', 'et', 'eu', 'eux', 'fin', 'fut', 'hormis', 'hui', 'huit', 'ici',\n",
    "    'il', 'ils', 'je', 'jusque', 'l', 'la', 'le', 'les', 'leur', 'leurs', 'lors',\n",
    "    'lui', 'là', 'ma', 'mais', 'me', 'même', 'mes', 'moi', 'moins', 'mon', 'ne', 'ni',\n",
    "    'nombreuses', 'nombreux', 'notre', 'nous', 'ou', 'où', 'par', 'parmi', 'pas',\n",
    "    'peu', 'plus', 'plupart', 'pour', 'pourquoi', 'quand', 'que', 'quel', 'quelle',\n",
    "    'quelles', 'quels', 'qui', 'quoi', 'sa', 'sans', 'se', 'sept', 'ses', 'si',\n",
    "    'sien', 'soi', 'soit', 'son', 'sont', 'sous', 'soyez', 'sujet', 'sur', 'ta',\n",
    "    'tandis', 'te', 'tel', 'telle', 'telles', 'tels', 'tes', 'toi', 'ton', 'tous',\n",
    "    'tout', 'toute', 'toutes', 'un', 'une', 'va', 'vers', 'voici', 'voilà', 'vont',\n",
    "    'votre', 'vous', 'vu', 'ça', 's', 'n', 'c', 'a', 'm', 'j', 'y', 't', 'ces', \n",
    "    'dit', 'cet', 'oui', 'non', 'était', 'est', 'être', 'été', 'ai', 'puis', 'avez', \n",
    "    'avait', 'avais', 'eût', 'très', 'cette', 'point', 'fois', 'fit', 'aussi', 'suis' \n",
    "]\n",
    "# Lire le texte complet depuis le fichier\n",
    "texte_complet = open(chemin, encoding=\"utf-8\").read()\n",
    "\n",
    "# Découper le texte en mots\n",
    "tous_les_mots = decouper_en_mots(texte_complet)\n",
    "\n",
    "# Filtrer les mots significatifs en enlevant les mots vides\n",
    "mots_significatifs = [mot for mot in tous_les_mots if mot not in mots_vides]\n",
    "\n",
    "# Compter le nombre d'occurrences de chaque mot significatif\n",
    "conteur_mots_significatifs = Counter(mots_significatifs)\n",
    "\n",
    "# Extraire les mots les plus fréquents\n",
    "mots_significatifs_frequents = conteur_mots_significatifs.most_common(nombre_de_mots_voulu)\n",
    "\n",
    "# Afficher les mots les plus fréquents\n",
    "print(\"Les\", nombre_de_mots_voulu, \"mots les plus fréquents sont :\")\n",
    "print(mots_significatifs_frequents)"
   ]
  },
  {
   "cell_type": "code",
   "execution_count": null,
   "id": "fe0f8f7c-7aa4-431b-b1de-04644a06d65b",
   "metadata": {},
   "outputs": [],
   "source": []
  },
  {
   "cell_type": "code",
   "execution_count": null,
   "id": "3bfd2bb3-dc83-4adf-8af8-692515e0b807",
   "metadata": {},
   "outputs": [],
   "source": []
  },
  {
   "cell_type": "code",
   "execution_count": null,
   "id": "09677b8b-04d4-4afa-960f-a44bfdb81f8b",
   "metadata": {},
   "outputs": [],
   "source": []
  },
  {
   "cell_type": "code",
   "execution_count": null,
   "id": "674fa4d7-5fd6-479e-8a58-8c3b07675e68",
   "metadata": {},
   "outputs": [],
   "source": [
    "derniere_variable = \"Je suis une autre variable !\""
   ]
  },
  {
   "cell_type": "code",
   "execution_count": null,
   "id": "9a6a519a-126a-4232-b2b8-6279426126bd",
   "metadata": {},
   "outputs": [],
   "source": [
    "print(derniere_variable)"
   ]
  },
  {
   "cell_type": "markdown",
   "id": "b1092b20-36f8-4aa8-80b1-9977207938ae",
   "metadata": {},
   "source": [
    "#### Possible ?"
   ]
  },
  {
   "cell_type": "code",
   "execution_count": null,
   "id": "386f6d0c-eedb-4adc-8bb0-fc43fac5e6dd",
   "metadata": {},
   "outputs": [],
   "source": [
    "derniere_variable*2"
   ]
  },
  {
   "cell_type": "code",
   "execution_count": null,
   "id": "fd6a453c-7b5b-4cd5-8b7f-5bea1fc3da14",
   "metadata": {},
   "outputs": [],
   "source": [
    "var = derniere_variable+' , il y en a 2'"
   ]
  },
  {
   "cell_type": "code",
   "execution_count": null,
   "id": "2ba15648-db64-4d13-822a-c5cdc71fc52b",
   "metadata": {},
   "outputs": [],
   "source": [
    "var += 2"
   ]
  },
  {
   "cell_type": "markdown",
   "id": "285e356b-d9bb-4872-a1c9-e1619c8c3048",
   "metadata": {},
   "source": [
    "### Typage -> Fondamentaux de Python\n",
    "\n",
    "Prochain Notebook !"
   ]
  },
  {
   "cell_type": "code",
   "execution_count": null,
   "id": "fbeb381b-636d-4e42-8c50-e5a4e96f47c7",
   "metadata": {},
   "outputs": [],
   "source": []
  },
  {
   "cell_type": "code",
   "execution_count": null,
   "id": "1e601b2c-d036-4d30-86c6-be227e56cdd4",
   "metadata": {},
   "outputs": [],
   "source": []
  }
 ],
 "metadata": {
  "kernelspec": {
   "display_name": "Python 3 (ipykernel)",
   "language": "python",
   "name": "python3"
  },
  "language_info": {
   "codemirror_mode": {
    "name": "ipython",
    "version": 3
   },
   "file_extension": ".py",
   "mimetype": "text/x-python",
   "name": "python",
   "nbconvert_exporter": "python",
   "pygments_lexer": "ipython3",
   "version": "3.12.3"
  }
 },
 "nbformat": 4,
 "nbformat_minor": 5
}
