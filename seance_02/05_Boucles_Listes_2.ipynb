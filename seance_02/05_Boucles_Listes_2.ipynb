{
 "cells": [
  {
   "cell_type": "markdown",
   "id": "f189bbfb-42ee-4370-81f0-2fa539a12a2a",
   "metadata": {},
   "source": [
    "# Boucles & Listes ++\n",
    "\n",
    "Dans le notebook précédent, on appris à créer, manipuler et parcourir des listes, un type de collection Python important. Dans cette leçon, on va continuer à pratiquer et apprendre à :\n",
    "\n",
    "- construire des listes avec des boucles `for`\n",
    "- créer un index en cours d'exécution des éléments d'une liste avec `enumerate()`\n",
    "- créer des boucles `for` d'une seule ligne avec des *list comprehensions*\n",
    "- regrouper des listes avec `zip()`\n",
    "- compter facilement les éléments dans une liste\n",
    "\n",
    "Ces outils peuvent nous aider à :\n",
    "- identifier combien de fois une certaine valeur apparaît dans les données (par exemple, la maladie dite \"émigrant récent\")\n",
    "- changer programmatiquement toutes les valeurs vides dans les données (par exemple, d'une valeur vide à \"aucune maladie enregistrée\")\n",
    "- trouver les valeurs les plus fréquentes et les moins fréquentes dans les données (par exemple, les \"maladies\" ou professions les plus courantes)"
   ]
  },
  {
   "cell_type": "code",
   "execution_count": 1,
   "id": "25642d54-a212-4b22-af47-fe91b3fce26a",
   "metadata": {},
   "outputs": [],
   "source": [
    "prenoms = ['Catherine', 'Thomas', 'Guillaume', 'Patrick', 'Marie-Anne', 'Morris',\n",
    "               'Michaël', 'Hélène', 'James', 'Michaël', 'Hannah', 'Alexandre', 'Marie', 'Serena',\n",
    "               'Marguerite', 'Michaël', 'Jane', 'Rosanna', 'James', 'Michaël', 'John', 'John', 'Marie',\n",
    "               'Bantel', 'Marcella', 'Arthur', 'Michaël', 'Marie', 'Martin']\n"
   ]
  },
  {
   "cell_type": "code",
   "execution_count": 25,
   "id": "bc754c9f-d8b5-4a86-bfd6-05f4537ed096",
   "metadata": {},
   "outputs": [],
   "source": [
    "problemes = ['nouvel immigré', 'maladie', '', '', '', 'pauvreté', '', 'maladie', '',\n",
    "            'maladie', 'nouvel immigré', '', 'aliéné', 'nouvel immigré', 'aliéné', '', '',\n",
    "            'maladie', 'maladie', '', 'syphilis', 'maladie', '', 'nouvel immigré', 'pauvreté',\n",
    "            'maladie', 'nouvel immigré', 'maladie', 'syphilis']\n"
   ]
  },
  {
   "cell_type": "code",
   "execution_count": 3,
   "id": "1655d6e6-1ad2-4429-8c84-8db1839c1b95",
   "metadata": {},
   "outputs": [],
   "source": [
    "ages = ['22', '21', '23', '47', '45', '28', '23', '50', '26', '28', '30', '30', '65', '17', '35',\n",
    "        '27', '32', '40', '22', '30', '27', '40', '41', '37', '16', '20', '30', '30', '35']"
   ]
  },
  {
   "cell_type": "code",
   "execution_count": 6,
   "id": "e27a450f-49ef-4d45-9403-0f9778b58378",
   "metadata": {},
   "outputs": [
    {
     "data": {
      "text/plain": [
       "29"
      ]
     },
     "execution_count": 6,
     "metadata": {},
     "output_type": "execute_result"
    }
   ],
   "source": [
    "len(ages)"
   ]
  },
  {
   "cell_type": "code",
   "execution_count": null,
   "id": "0fe9bd6e-3cbb-4a3c-b40e-04659399f2fa",
   "metadata": {},
   "outputs": [],
   "source": []
  },
  {
   "cell_type": "markdown",
   "id": "2857a7f3-0bec-4b2b-92c9-25e50cf7867c",
   "metadata": {},
   "source": [
    "## Boucle For pour itérer sur tous les problèmes"
   ]
  },
  {
   "cell_type": "code",
   "execution_count": 7,
   "id": "09a47d9c-9758-440a-b72f-354f6da0ccd0",
   "metadata": {},
   "outputs": [
    {
     "name": "stdout",
     "output_type": "stream",
     "text": [
      "nouvel immigré\n",
      "maladie\n",
      "\n",
      "\n",
      "\n",
      "pauvreté\n",
      "\n",
      "maladie\n",
      "\n",
      "maladie\n",
      "nouvel immigré\n",
      "\n",
      "aliéné\n",
      "nouvel immigré\n",
      "aliéné\n",
      "\n",
      "\n",
      "maladie\n",
      "maladie\n",
      "\n",
      "syphilis\n",
      "maladie\n",
      "\n",
      "nouvel immigré\n",
      "pauvreté\n",
      "maladie\n",
      "nouvel immigré\n",
      "maladie\n",
      "maladie\n"
     ]
    }
   ],
   "source": [
    "for probleme in problemes:\n",
    "    print(probleme)"
   ]
  },
  {
   "cell_type": "markdown",
   "id": "bb09212a-9b28-478e-809d-6349b9908897",
   "metadata": {},
   "source": [
    "## Boucle for avec Enumerate"
   ]
  },
  {
   "cell_type": "code",
   "execution_count": 13,
   "id": "450ee342-0398-43d8-8001-abcc50792eb0",
   "metadata": {},
   "outputs": [
    {
     "name": "stdout",
     "output_type": "stream",
     "text": [
      "0 nouvel immigré\n",
      "1 maladie\n",
      "2 \n",
      "3 \n",
      "4 \n",
      "5 pauvreté\n",
      "6 \n",
      "7 maladie\n",
      "8 \n",
      "9 maladie\n",
      "10 nouvel immigré\n",
      "11 \n",
      "12 aliéné\n",
      "13 nouvel immigré\n",
      "14 aliéné\n",
      "15 \n",
      "16 \n",
      "17 maladie\n",
      "18 maladie\n",
      "19 \n",
      "20 syphilis\n",
      "21 maladie\n",
      "22 \n",
      "23 nouvel immigré\n",
      "24 pauvreté\n",
      "25 maladie\n",
      "26 nouvel immigré\n",
      "27 maladie\n",
      "28 maladie\n"
     ]
    }
   ],
   "source": [
    "for index, probleme in enumerate(problemes):\n",
    "    print(index, probleme)"
   ]
  },
  {
   "cell_type": "markdown",
   "id": "d0652da5-966f-4d53-86f2-e68b8ba30c08",
   "metadata": {},
   "source": [
    "## Construire une liste avec une boucle for\n",
    "\n",
    "On peut également créer des listes à l'aide de boucles `for`. Disons qu'on prenne cette liste `collection` et créer une nouvelle liste qui ne contient que les éléments de la liste qui correspondent à \"l'élément voulu\"."
   ]
  },
  {
   "cell_type": "code",
   "execution_count": 14,
   "id": "d669744c-6084-4fbe-9842-acf308b3ec31",
   "metadata": {},
   "outputs": [],
   "source": [
    "collection = ['item', 'item voulu', 'item', 'item', 'item voulu']"
   ]
  },
  {
   "cell_type": "markdown",
   "id": "dad58151-6030-42ff-87d7-2fa6d2ec3829",
   "metadata": {},
   "source": [
    "On peut donc créer une liste vide en assignant à la variable `liste_vide` la valeur `[]` - c'est-à-dire une liste sans éléments. Ensuite, on utilise une boucle `for` pour itérer à travers `collection`. Si un élément est égal à \"l'élément voulu\", alors nous utiliserons `.append()` pour ajouter cet élément à notre liste précédemment vide."
   ]
  },
  {
   "cell_type": "code",
   "execution_count": 19,
   "id": "5bc432c4-e864-4986-874c-5938694aef7c",
   "metadata": {},
   "outputs": [],
   "source": [
    "liste_vide = []\n",
    "for elem in collection:\n",
    "    if elem == 'item voulu':\n",
    "        liste_vide.append(elem)"
   ]
  },
  {
   "cell_type": "code",
   "execution_count": 20,
   "id": "9a9f31d9-d2de-4d52-89a6-150cfe6e25a1",
   "metadata": {},
   "outputs": [
    {
     "data": {
      "text/plain": [
       "['item voulu', 'item voulu']"
      ]
     },
     "execution_count": 20,
     "metadata": {},
     "output_type": "execute_result"
    }
   ],
   "source": [
    "liste_vide"
   ]
  },
  {
   "cell_type": "code",
   "execution_count": null,
   "id": "fdf5e324-863e-4b19-9357-a48847745b20",
   "metadata": {},
   "outputs": [],
   "source": []
  },
  {
   "cell_type": "markdown",
   "id": "1fc33779-9119-4da7-bf8a-977a03343a65",
   "metadata": {},
   "source": [
    "##### On prend dans une nouvelle liste les gens dont le problème est la syphilis"
   ]
  },
  {
   "cell_type": "code",
   "execution_count": 26,
   "id": "1bfeaa87-f2e3-468c-8d57-b2fe0d4809d6",
   "metadata": {},
   "outputs": [],
   "source": [
    "liste_vide = []\n",
    "for elem in problemes:\n",
    "    if elem == 'syphilis':\n",
    "        liste_vide.append(elem)"
   ]
  },
  {
   "cell_type": "code",
   "execution_count": 27,
   "id": "ff368930-948c-42db-a4a7-9b37756cfe39",
   "metadata": {},
   "outputs": [
    {
     "data": {
      "text/plain": [
       "['syphilis', 'syphilis']"
      ]
     },
     "execution_count": 27,
     "metadata": {},
     "output_type": "execute_result"
    }
   ],
   "source": [
    "liste_vide"
   ]
  },
  {
   "cell_type": "markdown",
   "id": "88f3a647-76cf-4a0f-87fd-af85efa83f7a",
   "metadata": {},
   "source": [
    "##### On prend dans une nouvelle liste les problèmes des gens, et 'pas de problème' si ''"
   ]
  },
  {
   "cell_type": "code",
   "execution_count": 35,
   "id": "cc2b9b9d-c255-456c-8adc-6430dd3d209e",
   "metadata": {},
   "outputs": [],
   "source": [
    "liste_problemes = []\n",
    "for elem in problemes:\n",
    "    if elem != '':\n",
    "        liste_problemes.append(elem)\n",
    "    else:\n",
    "        liste_problemes.append('pas de probleme')"
   ]
  },
  {
   "cell_type": "code",
   "execution_count": 36,
   "id": "46366b80-6778-4ecc-98f0-2d5705398f6c",
   "metadata": {},
   "outputs": [
    {
     "data": {
      "text/plain": [
       "['nouvel immigré',\n",
       " 'maladie',\n",
       " 'pas de probleme',\n",
       " 'pas de probleme',\n",
       " 'pas de probleme',\n",
       " 'pauvreté',\n",
       " 'pas de probleme',\n",
       " 'maladie',\n",
       " 'pas de probleme',\n",
       " 'maladie',\n",
       " 'nouvel immigré',\n",
       " 'pas de probleme',\n",
       " 'aliéné',\n",
       " 'nouvel immigré',\n",
       " 'aliéné',\n",
       " 'pas de probleme',\n",
       " 'pas de probleme',\n",
       " 'maladie',\n",
       " 'maladie',\n",
       " 'pas de probleme',\n",
       " 'syphilis',\n",
       " 'maladie',\n",
       " 'pas de probleme',\n",
       " 'nouvel immigré',\n",
       " 'pauvreté',\n",
       " 'maladie',\n",
       " 'nouvel immigré',\n",
       " 'maladie',\n",
       " 'syphilis']"
      ]
     },
     "execution_count": 36,
     "metadata": {},
     "output_type": "execute_result"
    }
   ],
   "source": [
    "liste_problemes"
   ]
  },
  {
   "cell_type": "markdown",
   "id": "d322f20a-c825-4b80-a2d7-66cd7dbfad51",
   "metadata": {},
   "source": [
    "## Zipper des listes ensembles\n",
    "\n",
    "On peut également itérer à travers plusieurs listes en même temps en utilisant la fonction `zip()`, qui \"assemble\" essentiellement les listes ensemble."
   ]
  },
  {
   "cell_type": "code",
   "execution_count": 33,
   "id": "39428711-7b25-4136-963e-30e53832cf0e",
   "metadata": {},
   "outputs": [],
   "source": [
    "noms_de_famille = ['Dupont', 'Lefebvre', 'Martin', 'Dubois', 'Moreau', 'Leroy', 'Simon', 'Laurent', 'Garcia', 'Fournier',\n",
    "                  'Lambert', 'Roussel', 'Fontaine', 'Renaud', 'Guerin', 'Chevalier', 'Petit', 'Sanchez', 'Robert', 'Nguyen',\n",
    "                  'Lemoine', 'Rousseau', 'Vincent', 'Marchand', 'Mathieu', 'Girard', 'Legrand', 'Mercier']\n"
   ]
  },
  {
   "cell_type": "code",
   "execution_count": 37,
   "id": "054166b4-86e1-4218-adce-ed9cca27dbdc",
   "metadata": {},
   "outputs": [
    {
     "name": "stdout",
     "output_type": "stream",
     "text": [
      "Catherine // Dupont// nouvel immigré\n",
      "Thomas // Lefebvre// maladie\n",
      "Guillaume // Martin// pas de probleme\n",
      "Patrick // Dubois// pas de probleme\n",
      "Marie-Anne // Moreau// pas de probleme\n",
      "Morris // Leroy// pauvreté\n",
      "Michaël // Simon// pas de probleme\n",
      "Hélène // Laurent// maladie\n",
      "James // Garcia// pas de probleme\n",
      "Michaël // Fournier// maladie\n",
      "Hannah // Lambert// nouvel immigré\n",
      "Alexandre // Roussel// pas de probleme\n",
      "Marie // Fontaine// aliéné\n",
      "Serena // Renaud// nouvel immigré\n",
      "Marguerite // Guerin// aliéné\n",
      "Michaël // Chevalier// pas de probleme\n",
      "Jane // Petit// pas de probleme\n",
      "Rosanna // Sanchez// maladie\n",
      "James // Robert// maladie\n",
      "Michaël // Nguyen// pas de probleme\n",
      "John // Lemoine// syphilis\n",
      "John // Rousseau// maladie\n",
      "Marie // Vincent// pas de probleme\n",
      "Bantel // Marchand// nouvel immigré\n",
      "Marcella // Mathieu// pauvreté\n",
      "Arthur // Girard// maladie\n",
      "Michaël // Legrand// nouvel immigré\n",
      "Marie // Mercier// maladie\n"
     ]
    }
   ],
   "source": [
    "for x, y, z in zip(prenoms, noms_de_famille, liste_problemes):\n",
    "    print(f\"{x} // {y}// {z}\")"
   ]
  },
  {
   "cell_type": "markdown",
   "id": "46044a10-e400-4e6d-b1bd-4a4ae5d66d35",
   "metadata": {},
   "source": [
    "#### Afficher seulement si l'âge est supérieure à 35"
   ]
  },
  {
   "cell_type": "code",
   "execution_count": 41,
   "id": "317a5300-eb68-4f61-9e4a-f8ea8cbc5a9c",
   "metadata": {},
   "outputs": [
    {
     "name": "stdout",
     "output_type": "stream",
     "text": [
      "Patrick // Dubois// pas de probleme, ont plus de 35 ans\n",
      "Marie-Anne // Moreau// pas de probleme, ont plus de 35 ans\n",
      "Hélène // Laurent// maladie, ont plus de 35 ans\n",
      "Marie // Fontaine// aliéné, ont plus de 35 ans\n",
      "Marguerite // Guerin// aliéné, ont plus de 35 ans\n",
      "Rosanna // Sanchez// maladie, ont plus de 35 ans\n",
      "John // Rousseau// maladie, ont plus de 35 ans\n",
      "Marie // Vincent// pas de probleme, ont plus de 35 ans\n",
      "Bantel // Marchand// nouvel immigré, ont plus de 35 ans\n"
     ]
    }
   ],
   "source": [
    "for x, y, z, w in zip(prenoms, noms_de_famille, liste_problemes, ages):\n",
    "    if int(w) >= 35:\n",
    "        print(f\"{x} // {y}// {z}, ont plus de 35 ans\")"
   ]
  },
  {
   "cell_type": "markdown",
   "id": "902dcb31-b4b5-4237-9fb8-adc7fd42c2d1",
   "metadata": {},
   "source": [
    "### Count Items In a List or Collection\n",
    "\n",
    "Si vous souhaitez compter les éléments d'une liste ou d'une collection, vous pouvez utiliser le module `Counter` de la bibliothèque `collections`.\n",
    "\n",
    "Pour utiliser cet outil, vous devez d'abord l'importer. L'instruction `import` est utilisée chaque fois que vous souhaitez importer un package ou une bibliothèque Python externe écrite par quelqu'un d'autre.\n",
    "\n",
    "Le mot clé `from` nous permet d'importer un module spécifique à partir d'une bibliothèque plus large, dans ce cas, à partir de `collections`."
   ]
  },
  {
   "cell_type": "code",
   "execution_count": 42,
   "id": "e86be7b9-6631-45e0-ba82-b4d97321d70d",
   "metadata": {},
   "outputs": [],
   "source": [
    "from collections import Counter"
   ]
  },
  {
   "cell_type": "markdown",
   "id": "b554fb81-a8f9-475b-a3af-cefecac7d6ce",
   "metadata": {},
   "source": [
    "Maintenant que nous avons importé `Counter`, on peut l'utiliser. Pour compter les éléments d'une collection, il suffit d'insérer la collection à l'intérieur de la fonction `Counter()`."
   ]
  },
  {
   "cell_type": "code",
   "execution_count": 47,
   "id": "eb90ba91-aa7d-435c-b683-f237e84a5f35",
   "metadata": {},
   "outputs": [
    {
     "data": {
      "text/plain": [
       "10"
      ]
     },
     "execution_count": 47,
     "metadata": {},
     "output_type": "execute_result"
    }
   ],
   "source": [
    "dict(Counter(liste_problemes))['pas de probleme']"
   ]
  },
  {
   "cell_type": "markdown",
   "id": "329ff0f1-3a0f-4c53-b2f0-4c54481dd50d",
   "metadata": {},
   "source": [
    "Cela nous donne un autre type de collection appelé *dictionnaire*, comme vu précédément. Ce dictionnaire inclut chaque élément de la liste et combien de fois il apparaît dans la liste.\n",
    "\n",
    "\n",
    "#### Most_Common\n",
    "\n",
    "Pour trier ce dictionnaire Counter en fonction des éléments les plus courants, nous pouvons utiliser la méthode `.most_common()`."
   ]
  },
  {
   "cell_type": "code",
   "execution_count": 44,
   "id": "f3bd4a59-6c0c-4110-a477-37b609d1fc89",
   "metadata": {},
   "outputs": [],
   "source": [
    "conteur_liste = Counter(liste_problemes)"
   ]
  },
  {
   "cell_type": "code",
   "execution_count": 49,
   "id": "60c2a648-0309-44e0-8e89-d2347988e3b3",
   "metadata": {},
   "outputs": [
    {
     "data": {
      "text/plain": [
       "[('pas de probleme', 10), ('maladie', 8)]"
      ]
     },
     "execution_count": 49,
     "metadata": {},
     "output_type": "execute_result"
    }
   ],
   "source": [
    "conteur_liste.most_common(2)"
   ]
  },
  {
   "cell_type": "markdown",
   "id": "1a1d25dd-5e8c-4281-b696-218d3b88c00f",
   "metadata": {},
   "source": [
    "#### Les moins communs ?"
   ]
  },
  {
   "cell_type": "code",
   "execution_count": null,
   "id": "2fd343f6-e268-4355-8375-bc09729e9a16",
   "metadata": {},
   "outputs": [],
   "source": [
    "conteur_liste.most_common()[-2:]"
   ]
  },
  {
   "cell_type": "code",
   "execution_count": null,
   "id": "df67c497-04fe-43f6-926a-e38e48749893",
   "metadata": {},
   "outputs": [],
   "source": []
  },
  {
   "cell_type": "markdown",
   "id": "45029511-a8ce-4561-83b8-d6b6fded8d1c",
   "metadata": {},
   "source": [
    "### Leçon Prochaine : Fonctions !!!"
   ]
  },
  {
   "cell_type": "code",
   "execution_count": null,
   "id": "d5cb823a-b56a-4ff4-a67c-c4ee75ccd2ec",
   "metadata": {},
   "outputs": [],
   "source": [
    "un exemple ?"
   ]
  }
 ],
 "metadata": {
  "kernelspec": {
   "display_name": "Python 3 (ipykernel)",
   "language": "python",
   "name": "python3"
  },
  "language_info": {
   "codemirror_mode": {
    "name": "ipython",
    "version": 3
   },
   "file_extension": ".py",
   "mimetype": "text/x-python",
   "name": "python",
   "nbconvert_exporter": "python",
   "pygments_lexer": "ipython3",
   "version": "3.10.12"
  }
 },
 "nbformat": 4,
 "nbformat_minor": 5
}
