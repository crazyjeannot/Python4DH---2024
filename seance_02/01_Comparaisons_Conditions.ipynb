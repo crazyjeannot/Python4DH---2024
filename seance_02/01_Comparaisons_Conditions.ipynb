{
 "cells": [
  {
   "cell_type": "markdown",
   "id": "2c4214ae-aa1e-43e8-b473-8ac1bda6bdfa",
   "metadata": {},
   "source": [
    "# Comparaisons et Conditions"
   ]
  },
  {
   "cell_type": "markdown",
   "id": "73fd99ae-5ff3-4011-a196-6a7118e135bb",
   "metadata": {},
   "source": [
    "Écrire du code Python ressemble beaucoup à la rédaction d'une liste d'instructions détaillées pour l'ordinateur. La plupart du temps, vous demandez à l'ordinateur d'effectuer certaines tâches si certaines conditions sont remplies. Par exemple :\n",
    "\n",
    "- *Si une personne dans l'ensemble de données est plus âgée de 30 ans, alors affichez son nom.*\n",
    "- *Si un tweet contient la phrase \"ok boomer,\" alors retweetez-le automatiquement.*\n",
    "- *Si Lupin est le meilleur aventurier, alors affiche \"Bravo, Lupin !\"*\n"
   ]
  },
  {
   "cell_type": "code",
   "execution_count": 1,
   "id": "b06234c7-aab7-4cfe-9146-d07caa5ab165",
   "metadata": {},
   "outputs": [],
   "source": [
    "lupin = 'meilleur aventurier'"
   ]
  },
  {
   "cell_type": "code",
   "execution_count": 2,
   "id": "4b74094f-4cc1-47d4-9ef1-fb940b0ad8b0",
   "metadata": {},
   "outputs": [
    {
     "data": {
      "text/plain": [
       "True"
      ]
     },
     "execution_count": 2,
     "metadata": {},
     "output_type": "execute_result"
    }
   ],
   "source": [
    "lupin == 'meilleur aventurier'"
   ]
  },
  {
   "cell_type": "code",
   "execution_count": 4,
   "id": "55d8655f-aff8-4ab9-a8b6-0947a858b992",
   "metadata": {},
   "outputs": [
    {
     "name": "stdout",
     "output_type": "stream",
     "text": [
      "meilleur aventurier\n"
     ]
    }
   ],
   "source": [
    "if lupin == 'meilleur aventurier':\n",
    "    print(lupin)"
   ]
  },
  {
   "cell_type": "markdown",
   "id": "8e425a1c-f392-4207-bdc8-9cae1272a908",
   "metadata": {},
   "source": [
    "Il y a deux éléments Python importants présents dans le code ci-dessus : une *comparaison* et une *condition*. Nous avons comparé si la variable `lupin` est égale à la valeur `'meilleur aventurier'`. Ensuite, nous avons affiché \"Bravo\" si cette condition était `True` (Vraie)."
   ]
  },
  {
   "cell_type": "markdown",
   "id": "86c6c69c-7184-4078-83b8-de795cdd47f4",
   "metadata": {},
   "source": [
    "## Comparaisons"
   ]
  },
  {
   "cell_type": "markdown",
   "id": "adb28d13-20be-42f1-9e32-6af6dad51026",
   "metadata": {},
   "source": [
    "Il existe de nombreuses façons de comparer des valeurs avec Python, telles que égales (`==`), non égales (`!=`), supérieures à (`>`), inférieures à (`<`), supérieures ou égales à (`>=`), ou inférieures ou égales à (`<=`)."
   ]
  },
  {
   "cell_type": "markdown",
   "id": "0f032d66-8ce6-4548-8233-ec46d04148b8",
   "metadata": {},
   "source": [
    "| **Opérateur de Comparaison** | **Explication**                                                                                   |\n",
    "|:-------------:|:---------------------------------------------------------------------------------------------------:|\n",
    "| `x == y `         | `True` si x est égal à y                                                                                |\n",
    "| `x != y `         | `True` si x n'est pas égal à y                                               |\n",
    "| `x > y`       |  `True` si x est supérieur à y                                                        |\n",
    "| `x < y`       |   `True` si x est inférieur à y  \n",
    "| `x >= y`       |   `True` si x est supérieur ou égal à y |\n",
    "| `x <= y`      | `True` si x est inférieur ou égal à y`                                                                             |"
   ]
  },
  {
   "cell_type": "code",
   "execution_count": 5,
   "id": "37e8cfb8-c07d-4e61-bf19-7bd7c5bcba10",
   "metadata": {},
   "outputs": [],
   "source": [
    "personne_1 = 30\n",
    "personne_2 = 30.5"
   ]
  },
  {
   "cell_type": "markdown",
   "id": "f7a9beb7-f765-45db-a97f-77753f3543a8",
   "metadata": {},
   "source": [
    "### Plus grand/petit que"
   ]
  },
  {
   "cell_type": "code",
   "execution_count": 6,
   "id": "465af2cc-fe7a-4f16-b4b5-cd94bdb65c83",
   "metadata": {},
   "outputs": [
    {
     "data": {
      "text/plain": [
       "True"
      ]
     },
     "execution_count": 6,
     "metadata": {},
     "output_type": "execute_result"
    }
   ],
   "source": [
    "personne_1 <= personne_2"
   ]
  },
  {
   "cell_type": "code",
   "execution_count": 9,
   "id": "9a9c15bb-0721-44b3-9b7c-dba0ee40dcab",
   "metadata": {},
   "outputs": [
    {
     "data": {
      "text/plain": [
       "True"
      ]
     },
     "execution_count": 9,
     "metadata": {},
     "output_type": "execute_result"
    }
   ],
   "source": [
    "personne_1 != personne_2"
   ]
  },
  {
   "cell_type": "code",
   "execution_count": null,
   "id": "a556a4c3-b4cf-4499-9bae-7ccdf2406ace",
   "metadata": {},
   "outputs": [],
   "source": []
  },
  {
   "cell_type": "markdown",
   "id": "a3c41174-a4f2-4668-b12c-dc224af2229f",
   "metadata": {},
   "source": [
    "### Différent"
   ]
  },
  {
   "cell_type": "code",
   "execution_count": null,
   "id": "508d48c6-3320-4cc4-9aeb-e8dc30ca569f",
   "metadata": {},
   "outputs": [],
   "source": [
    "type(personne_1) == type(personne_2)"
   ]
  },
  {
   "cell_type": "code",
   "execution_count": null,
   "id": "a1f1c69e-46ef-4982-a83b-c310bb842e63",
   "metadata": {},
   "outputs": [],
   "source": [
    "type(personne_1)"
   ]
  },
  {
   "cell_type": "markdown",
   "id": "c4501e8a-538a-4c10-ba64-5908e9a2f187",
   "metadata": {},
   "source": [
    "### Opérateurs logiques"
   ]
  },
  {
   "cell_type": "markdown",
   "id": "f61cca45-fc4b-4f96-a78b-f1711957e03b",
   "metadata": {},
   "source": [
    "Nous pouvons également combiner des valeurs et les comparer. Nous pouvons vérifier si `x et y` sont tous les deux `True`, ou si `x ou y` est `True`.\n",
    "| **Opérateur logique** | **Explication** |\n",
    "| :-------------: | :---------------------------------------------------------------------------------------------------: |\n",
    "| `x et y` | `Vrai` si x et y sont tous les deux Vrais |\n",
    "| `x ou y` | `Vrai` si soit x soit y est Vrai |\n",
    "| `non x` | `Vrai` si x n'est pas Vrai |"
   ]
  },
  {
   "cell_type": "markdown",
   "id": "36fcaf35-9592-4ec8-9767-a32d559eb794",
   "metadata": {},
   "source": [
    "#### AND\n",
    "\n",
    "Les deux conditions sont vraies"
   ]
  },
  {
   "cell_type": "code",
   "execution_count": 10,
   "id": "f4935192-3aba-45ba-b540-870e3486d8a2",
   "metadata": {},
   "outputs": [],
   "source": [
    "personne_1 = 30\n",
    "personne_2 = 30.5"
   ]
  },
  {
   "cell_type": "code",
   "execution_count": 14,
   "id": "b87c925f-04a6-4c68-beea-267b8f3b50a2",
   "metadata": {},
   "outputs": [
    {
     "data": {
      "text/plain": [
       "False"
      ]
     },
     "execution_count": 14,
     "metadata": {},
     "output_type": "execute_result"
    }
   ],
   "source": [
    "personne_1 > 30 and personne_2 > 30"
   ]
  },
  {
   "cell_type": "code",
   "execution_count": null,
   "id": "07dcd0a1-9bd5-40db-8eca-f9e787a3decc",
   "metadata": {},
   "outputs": [],
   "source": [
    "# essayer >="
   ]
  },
  {
   "cell_type": "markdown",
   "id": "703d3c5a-ee0c-4029-8564-ab6815079a07",
   "metadata": {},
   "source": [
    "#### OR\n",
    "\n",
    "Une des deux condition est vraie"
   ]
  },
  {
   "cell_type": "code",
   "execution_count": 30,
   "id": "8b6c1a22-1b01-4980-b690-a5378cfdc4f9",
   "metadata": {},
   "outputs": [
    {
     "data": {
      "text/plain": [
       "False"
      ]
     },
     "execution_count": 30,
     "metadata": {},
     "output_type": "execute_result"
    }
   ],
   "source": [
    "int(personne_1) > 30 | int(personne_2) > 30"
   ]
  },
  {
   "cell_type": "code",
   "execution_count": 19,
   "id": "36855a7d-3cc8-4031-9732-a79580476884",
   "metadata": {},
   "outputs": [
    {
     "data": {
      "text/plain": [
       "False"
      ]
     },
     "execution_count": 19,
     "metadata": {},
     "output_type": "execute_result"
    }
   ],
   "source": [
    "personne_1 > 30"
   ]
  },
  {
   "cell_type": "code",
   "execution_count": 22,
   "id": "e30f6ad5-bf97-4d02-b76b-5fec80e0e2f9",
   "metadata": {},
   "outputs": [
    {
     "data": {
      "text/plain": [
       "True"
      ]
     },
     "execution_count": 22,
     "metadata": {},
     "output_type": "execute_result"
    }
   ],
   "source": [
    "personne_2 > 30 or personne_1 > 10"
   ]
  },
  {
   "cell_type": "code",
   "execution_count": 24,
   "id": "1e9aa9d5-8aeb-4639-af85-cb133ad5f650",
   "metadata": {},
   "outputs": [
    {
     "data": {
      "text/plain": [
       "True"
      ]
     },
     "execution_count": 24,
     "metadata": {},
     "output_type": "execute_result"
    }
   ],
   "source": [
    "(personne_1 > 30 and personne_2 > 30)or personne_1 > 10"
   ]
  },
  {
   "cell_type": "code",
   "execution_count": null,
   "id": "f92f7b59-fbb8-4c3b-9350-f1c22bd140d3",
   "metadata": {},
   "outputs": [],
   "source": [
    "(personne_1 > 30) & (personne_2 > 30)"
   ]
  },
  {
   "cell_type": "markdown",
   "id": "091cf04f-4354-43d6-8147-7515571f1b64",
   "metadata": {},
   "source": [
    "## Conditions\n",
    "\n",
    "### If\n",
    "\n",
    "Une déclaration \"if\" est une instruction pour faire quelque chose *si* une condition particulière est remplie.\n",
    "\n",
    "Une condition commune se composera de deux lignes :\n",
    "- Sur la première ligne, vous tapez le mot anglais `if` suivi d'une expression, puis d'un deux-points (`:`).\n",
    "- Sur la deuxième ligne, vous indentez et écrivez une instruction ou une \"déclaration\" à exécuter si la condition est remplie.\n"
   ]
  },
  {
   "cell_type": "code",
   "execution_count": 31,
   "id": "d85aaf37-c62a-44d3-95a8-cd592cb68c36",
   "metadata": {},
   "outputs": [
    {
     "name": "stdout",
     "output_type": "stream",
     "text": [
      "Bravo, Lupin !\n"
     ]
    }
   ],
   "source": [
    "if lupin == 'meilleur aventurier':\n",
    "    print('Bravo, Lupin !')\n",
    " "
   ]
  },
  {
   "cell_type": "markdown",
   "id": "2b78b6b0-20da-412a-b332-425686a9c9e1",
   "metadata": {},
   "source": [
    "#### Importance de la syntaxe / tabulation"
   ]
  },
  {
   "cell_type": "code",
   "execution_count": 36,
   "id": "09b1153e-ae44-4577-9776-f0fa4ae739eb",
   "metadata": {},
   "outputs": [
    {
     "name": "stdout",
     "output_type": "stream",
     "text": [
      "Bravo, Lupin !\n",
      "hhe\n"
     ]
    }
   ],
   "source": [
    "if lupin == 'meilleur aventurier':\n",
    "    print('Bravo, Lupin !')\n",
    "    print('hhe')"
   ]
  },
  {
   "cell_type": "code",
   "execution_count": 38,
   "id": "8cd0832b-2e3f-4b85-b561-af9be6f3fc09",
   "metadata": {},
   "outputs": [
    {
     "name": "stdout",
     "output_type": "stream",
     "text": [
      "Bravo, Lupin !\n"
     ]
    }
   ],
   "source": [
    "if lupin == 'meilleur aventurier':\n",
    "    print('Bravo, Lupin !')"
   ]
  },
  {
   "cell_type": "code",
   "execution_count": 39,
   "id": "ae8aa761-1422-4e0c-b410-c3551a47f507",
   "metadata": {},
   "outputs": [],
   "source": [
    "if lupin == 'meilleur aventurier':\n",
    "    lupin = 'cambrioleur'"
   ]
  },
  {
   "cell_type": "code",
   "execution_count": 40,
   "id": "47202205-2610-49e4-951b-4088d38507a3",
   "metadata": {},
   "outputs": [
    {
     "data": {
      "text/plain": [
       "'cambrioleur'"
      ]
     },
     "execution_count": 40,
     "metadata": {},
     "output_type": "execute_result"
    }
   ],
   "source": [
    "lupin"
   ]
  },
  {
   "cell_type": "markdown",
   "id": "79bfddc3-cb16-4c27-a41f-e346f4650cac",
   "metadata": {},
   "source": [
    "## Else\n",
    "Vous pouvez ajouter encore plus de complexité à une condition en ajoutant une instruction `else`. Cela indique au programme de faire quelque chose si la condition n'est pas satisfaite. L'instruction `else` vient après une instruction `if` et doit être formatée de la même manière."
   ]
  },
  {
   "cell_type": "code",
   "execution_count": 41,
   "id": "9f076ca3-743a-4207-aa53-8573e807206a",
   "metadata": {},
   "outputs": [],
   "source": [
    "lupin = 'pas le meilleur aventurier'"
   ]
  },
  {
   "cell_type": "code",
   "execution_count": 42,
   "id": "43afaf6d-209d-400f-82c3-a3b9a3548949",
   "metadata": {},
   "outputs": [
    {
     "name": "stdout",
     "output_type": "stream",
     "text": [
      "Nul lupin\n"
     ]
    }
   ],
   "source": [
    "if lupin == \"meilleur aventurier du monde\":\n",
    "    print(\"Bravo, Lupin!\")\n",
    "else:\n",
    "    print('Nul lupin')"
   ]
  },
  {
   "cell_type": "markdown",
   "id": "a349d713-452e-4bfc-84d2-bcc54f8a3c39",
   "metadata": {},
   "source": [
    "## Elif\n",
    "Parfois, vous voulez encore plus de subtilité pour répondre à des conditions légèrement différentes. Par exemple, si Beyoncé a été nominée pour un Grammy mais n'a pas gagné, alors vous voudrez peut-être exprimer un sentiment légèrement différent que si elle avait gagné ou n'avait pas été nominée du tout.\n",
    "\n",
    "Vous pouvez ajouter cette nuance avec une instruction `elif`, abréviation de *else if*. L'ordinateur évaluera d'abord la première instruction `if`. Si cette instruction n'est pas vraie, il évaluera ensuite l'instruction `elif`."
   ]
  },
  {
   "cell_type": "code",
   "execution_count": 43,
   "id": "ea36555e-5801-4294-90da-20b92e11e028",
   "metadata": {},
   "outputs": [],
   "source": [
    "lupin = \"parmi les aventuriers\""
   ]
  },
  {
   "cell_type": "code",
   "execution_count": 46,
   "id": "8cb60197-c6a7-4d35-b187-3d8899c40ef0",
   "metadata": {},
   "outputs": [
    {
     "name": "stdout",
     "output_type": "stream",
     "text": [
      "pas si bien, Lupin\n"
     ]
    }
   ],
   "source": [
    "if lupin == \"meilleur aventurier\":\n",
    "    print(\"Bravo, Lupin !\")\n",
    "elif lupin == 'parmi les aventuriers':\n",
    "    print('pas si bien, Lupin')\n",
    "elif lupin == \"parmi les meilleurs aventuriers\":\n",
    "    print(\"Pas mal, Lupin\")\n",
    "else:\n",
    "    print(\"Nul, Lupin.\")"
   ]
  },
  {
   "cell_type": "code",
   "execution_count": null,
   "id": "49c868a7-dd6c-4853-9ec7-0288ec4d6ba9",
   "metadata": {},
   "outputs": [],
   "source": []
  },
  {
   "cell_type": "markdown",
   "id": "6f03605f-e272-4744-936d-4777dfd304a1",
   "metadata": {},
   "source": [
    "## EXERCICES !"
   ]
  },
  {
   "cell_type": "code",
   "execution_count": 60,
   "id": "e6865681-eb1f-4916-b5ea-0ba2621aa976",
   "metadata": {},
   "outputs": [],
   "source": [
    "lupin_nom = 'Arsène Lupin'\n",
    "lupin_age = 31\n",
    "lupin_maladie = 'kleptoman'\n",
    "lupin_profession = 'gentleman-cambrioleur'\n",
    "lupin_genre = 'm'\n",
    "lupin_enfants = None"
   ]
  },
  {
   "cell_type": "code",
   "execution_count": 48,
   "id": "5144b3dd-f2d6-4e44-b90f-e3ecc7a055cc",
   "metadata": {},
   "outputs": [],
   "source": [
    "bovary_nom = 'Emma Bovary'\n",
    "bovary_age = 27\n",
    "bovary_maladie = 'dépressive'\n",
    "bovary_profession = 'idéaliste'\n",
    "bovary_genre = 'f'\n",
    "bovary_enfants = 'Berthe'"
   ]
  },
  {
   "cell_type": "code",
   "execution_count": null,
   "id": "f3280fd9-d537-4457-a359-0c1f828f6dd3",
   "metadata": {},
   "outputs": [],
   "source": []
  },
  {
   "cell_type": "markdown",
   "id": "2eb766c0-9c76-4507-9d0b-57913dff96df",
   "metadata": {},
   "source": [
    "Combiner une instruction `if` avec une instruction `else` qui rapportera si `lupin_age` a moins de 30 ans, sinon, plus de 30 ans."
   ]
  },
  {
   "cell_type": "code",
   "execution_count": 53,
   "id": "d7a4e00d-9660-459c-aed3-95ca3f276433",
   "metadata": {},
   "outputs": [
    {
     "name": "stdout",
     "output_type": "stream",
     "text": [
      "bovary a moins de 30 ans\n"
     ]
    }
   ],
   "source": [
    "if bovary_age < 30:\n",
    "    print(\"bovary a moins de 30 ans\")\n",
    "else:\n",
    "    print(\"bovary en a plus\")"
   ]
  },
  {
   "cell_type": "code",
   "execution_count": null,
   "id": "6c23b4ff-6ae3-4f85-b0b2-c9fd850cd0a2",
   "metadata": {},
   "outputs": [],
   "source": []
  },
  {
   "cell_type": "markdown",
   "id": "f1dbd624-f243-4eff-b73c-3482d4c4b6f3",
   "metadata": {},
   "source": [
    "#### Ajoutez une instruction elif qui rapporte si `lupin_age` correspond exactement à 30."
   ]
  },
  {
   "cell_type": "code",
   "execution_count": 56,
   "id": "f648cc1c-3d91-4f72-8859-33d1b1b5bb1b",
   "metadata": {},
   "outputs": [],
   "source": [
    "lupin_age = 30"
   ]
  },
  {
   "cell_type": "code",
   "execution_count": 57,
   "id": "3b615004-ebeb-430f-ab90-a2d33f1c893a",
   "metadata": {},
   "outputs": [
    {
     "name": "stdout",
     "output_type": "stream",
     "text": [
      "lupin a 30 ans\n"
     ]
    }
   ],
   "source": [
    "if lupin_age < 30:\n",
    "    print(\"lupin a moins de 30 ans\")\n",
    "elif lupin_age == 30:\n",
    "    print(\"lupin a 30 ans\")\n",
    "else:\n",
    "    print(\"lupin en a plus\")\n",
    "\n",
    "\n",
    "\n"
   ]
  },
  {
   "cell_type": "markdown",
   "id": "aeeca034-3712-4e22-ad4e-4bbb1d35e65b",
   "metadata": {},
   "source": [
    "#### affiche le prenom de la personne si elle est idéaliste"
   ]
  },
  {
   "cell_type": "code",
   "execution_count": 59,
   "id": "1d8b9534-0c34-4428-9278-0dc07631fe12",
   "metadata": {},
   "outputs": [
    {
     "name": "stdout",
     "output_type": "stream",
     "text": [
      "Emma Bovary\n"
     ]
    }
   ],
   "source": [
    "if bovary_profession == \"idéaliste\":\n",
    "    print(bovary_nom)"
   ]
  },
  {
   "cell_type": "code",
   "execution_count": null,
   "id": "79ac42e2-4eb6-4791-8661-649f726fe215",
   "metadata": {},
   "outputs": [],
   "source": []
  },
  {
   "cell_type": "code",
   "execution_count": null,
   "id": "1563c1a2-294a-407e-babc-e91eaa0afad6",
   "metadata": {},
   "outputs": [],
   "source": []
  },
  {
   "cell_type": "markdown",
   "id": "0bb8407f-f2c3-4326-9fd6-2e349048f2a3",
   "metadata": {},
   "source": [
    "#### affiche le prenom de la personne si elle a des enfants et qu'elle est dépressive"
   ]
  },
  {
   "cell_type": "code",
   "execution_count": 71,
   "id": "8ad7e66b-7f08-4d29-acc6-79e139aa5ff8",
   "metadata": {},
   "outputs": [
    {
     "name": "stdout",
     "output_type": "stream",
     "text": [
      "Emma Bovary\n"
     ]
    }
   ],
   "source": [
    "if bovary_enfants != None and bovary_maladie == \"dépressive\":\n",
    "    print(bovary_nom)"
   ]
  },
  {
   "cell_type": "markdown",
   "id": "f12e7285-2a31-4bad-a8ff-3096bcec25b1",
   "metadata": {},
   "source": [
    "#### affiche le prénom de la personne qui a la fonction la plus longue en chaine de caractere"
   ]
  },
  {
   "cell_type": "code",
   "execution_count": 74,
   "id": "62eef0e2-e969-44df-a918-0d3bbe69e92c",
   "metadata": {},
   "outputs": [
    {
     "data": {
      "text/plain": [
       "9"
      ]
     },
     "execution_count": 74,
     "metadata": {},
     "output_type": "execute_result"
    }
   ],
   "source": [
    "len(bovary_profession)"
   ]
  },
  {
   "cell_type": "code",
   "execution_count": 78,
   "id": "5dcae943-98ea-44e9-9d91-dcf8975ff138",
   "metadata": {},
   "outputs": [
    {
     "data": {
      "text/plain": [
       "'gentleman'"
      ]
     },
     "execution_count": 78,
     "metadata": {},
     "output_type": "execute_result"
    }
   ],
   "source": []
  },
  {
   "cell_type": "code",
   "execution_count": 79,
   "id": "3a527b12-562b-46b8-abf2-9255699b2103",
   "metadata": {},
   "outputs": [
    {
     "name": "stdout",
     "output_type": "stream",
     "text": [
      "les deux ont la même longueur\n"
     ]
    }
   ],
   "source": [
    "if len(bovary_profession)>len(lupin_profession[:9]):\n",
    "    print(bovary_nom)\n",
    "elif len(bovary_profession)==len(lupin_profession[:9]):\n",
    "    print(\"les deux ont la même longueur\")\n",
    "else:\n",
    "    print(lupin_nom)"
   ]
  },
  {
   "cell_type": "code",
   "execution_count": null,
   "id": "b147a2e5-0196-414a-b9ca-4f1670ff41f9",
   "metadata": {},
   "outputs": [],
   "source": []
  }
 ],
 "metadata": {
  "kernelspec": {
   "display_name": "Python 3 (ipykernel)",
   "language": "python",
   "name": "python3"
  },
  "language_info": {
   "codemirror_mode": {
    "name": "ipython",
    "version": 3
   },
   "file_extension": ".py",
   "mimetype": "text/x-python",
   "name": "python",
   "nbconvert_exporter": "python",
   "pygments_lexer": "ipython3",
   "version": "3.12.3"
  }
 },
 "nbformat": 4,
 "nbformat_minor": 5
}
