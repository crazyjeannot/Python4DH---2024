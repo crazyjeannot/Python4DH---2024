{
 "cells": [
  {
   "cell_type": "markdown",
   "id": "7d9b59c1-3dad-4f34-a300-23e174b56d3c",
   "metadata": {},
   "source": [
    "# Exercices de programmation Séance 2: \n",
    "\n",
    "## Dictionnaires, Listes, Conditions, Boucle For et +"
   ]
  },
  {
   "cell_type": "markdown",
   "id": "347b0e5f-108b-48f9-a5e0-656f71670b29",
   "metadata": {},
   "source": [
    "### Tâche 1 : Liste et boucle for"
   ]
  },
  {
   "cell_type": "code",
   "execution_count": 1,
   "id": "1fdca061-c504-4835-8597-1487d01bea5f",
   "metadata": {},
   "outputs": [],
   "source": [
    "professions = ['Écrivain','Écrivain','Juge','Artiste','Chercheur','Médecin','Juge','Chercheur','Chercheur', 'Écrivain', 'Artiste', 'Médecin', 'Médecin', 'Chercheur', 'Chercheur', 'Écrivain', 'Chercheur', 'Chercheur','Chercheur', 'Juge', 'Juge', 'Chercheur', 'Chercheur','Médecin','Écrivain','Chercheur','Artiste','Écrivain','Juge','Artiste']"
   ]
  },
  {
   "cell_type": "markdown",
   "id": "40ffb87a-b943-42da-ba84-96fab859372a",
   "metadata": {},
   "source": [
    "__1/__ Faites une nouvelle liste qui inclut seulement les éléments de la liste `professions` qui correspondent à `'Artiste'`. Afficher la longueur de la liste\n"
   ]
  },
  {
   "cell_type": "code",
   "execution_count": 2,
   "id": "4e0ca713-ea6a-49df-a13c-205a1f336357",
   "metadata": {},
   "outputs": [
    {
     "data": {
      "text/plain": [
       "30"
      ]
     },
     "execution_count": 2,
     "metadata": {},
     "output_type": "execute_result"
    }
   ],
   "source": [
    "len(professions)"
   ]
  },
  {
   "cell_type": "code",
   "execution_count": 4,
   "id": "22d57865-2ad5-48fa-acd2-643132611e45",
   "metadata": {},
   "outputs": [
    {
     "name": "stdout",
     "output_type": "stream",
     "text": [
      "4\n"
     ]
    }
   ],
   "source": [
    "new_list = []\n",
    "for prof in professions:\n",
    "    if prof == 'Artiste':\n",
    "        new_list.append(prof)\n",
    "\n",
    "\n",
    "print(len(new_list))"
   ]
  },
  {
   "cell_type": "code",
   "execution_count": null,
   "id": "638acf9e-fafc-4c40-bc56-15fb157eca9c",
   "metadata": {},
   "outputs": [],
   "source": []
  },
  {
   "cell_type": "code",
   "execution_count": null,
   "id": "2e08c4fc-6863-4ffd-bad8-24ed68fd6c14",
   "metadata": {},
   "outputs": [],
   "source": []
  },
  {
   "cell_type": "code",
   "execution_count": null,
   "id": "14040b1c-3147-4ef8-8d8d-30922ad1b5d0",
   "metadata": {},
   "outputs": [],
   "source": []
  },
  {
   "cell_type": "markdown",
   "id": "34d0202e-4ca7-44a3-8447-c419129f2061",
   "metadata": {},
   "source": [
    "__2/__ Affichez chaque élément de la liste `professions` avec son numéro d'index."
   ]
  },
  {
   "cell_type": "code",
   "execution_count": 8,
   "id": "60b34d1b-229a-4b02-a060-9d817dc52c16",
   "metadata": {},
   "outputs": [
    {
     "name": "stdout",
     "output_type": "stream",
     "text": [
      "1 Écrivain\n",
      "2 Écrivain\n",
      "3 Juge\n",
      "4 Artiste\n",
      "5 Chercheur\n",
      "6 Médecin\n",
      "7 Juge\n",
      "8 Chercheur\n",
      "9 Chercheur\n",
      "10 Écrivain\n",
      "11 Artiste\n",
      "12 Médecin\n",
      "13 Médecin\n",
      "14 Chercheur\n",
      "15 Chercheur\n",
      "16 Écrivain\n",
      "17 Chercheur\n",
      "18 Chercheur\n",
      "19 Chercheur\n",
      "20 Juge\n",
      "21 Juge\n",
      "22 Chercheur\n",
      "23 Chercheur\n",
      "24 Médecin\n",
      "25 Écrivain\n",
      "26 Chercheur\n",
      "27 Artiste\n",
      "28 Écrivain\n",
      "29 Juge\n",
      "30 Artiste\n"
     ]
    }
   ],
   "source": [
    "for index, prof in enumerate(professions, 1):\n",
    "    print(index, prof)"
   ]
  },
  {
   "cell_type": "code",
   "execution_count": null,
   "id": "ad77b9a1-7716-465d-8851-c95e54b05a56",
   "metadata": {},
   "outputs": [],
   "source": []
  },
  {
   "cell_type": "code",
   "execution_count": null,
   "id": "531b4790-fce5-4a48-8afd-b9891d62cf71",
   "metadata": {},
   "outputs": [],
   "source": []
  },
  {
   "cell_type": "code",
   "execution_count": null,
   "id": "e37070f3-add6-4a5c-ba11-cc8cdfc5b19c",
   "metadata": {},
   "outputs": [],
   "source": []
  },
  {
   "cell_type": "code",
   "execution_count": null,
   "id": "55accc48-1f25-4f0e-950a-63f05fa75a98",
   "metadata": {},
   "outputs": [],
   "source": []
  },
  {
   "cell_type": "code",
   "execution_count": null,
   "id": "602b463f-69cd-4466-ad83-33d7c8539089",
   "metadata": {},
   "outputs": [],
   "source": []
  },
  {
   "cell_type": "code",
   "execution_count": null,
   "id": "326096f6-e338-4b3d-8eb3-ebcfb40e687d",
   "metadata": {},
   "outputs": [],
   "source": []
  },
  {
   "cell_type": "code",
   "execution_count": 4,
   "id": "4ed090d6-1500-468f-a1f6-1bb65f18623e",
   "metadata": {},
   "outputs": [
    {
     "name": "stdout",
     "output_type": "stream",
     "text": [
      "1 Écrivain\n",
      "2 Écrivain\n",
      "3 Juge\n",
      "4 Artiste\n",
      "5 Chercheur\n",
      "6 Médecin\n",
      "7 Juge\n",
      "8 Chercheur\n",
      "9 Chercheur\n",
      "10 Écrivain\n",
      "11 Artiste\n",
      "12 Médecin\n",
      "13 Médecin\n",
      "14 Chercheur\n",
      "15 Chercheur\n",
      "16 Écrivain\n",
      "17 Chercheur\n",
      "18 Chercheur\n",
      "19 Chercheur\n",
      "20 Juge\n",
      "21 Juge\n",
      "22 Chercheur\n",
      "23 Chercheur\n",
      "24 Médecin\n",
      "25 Écrivain\n",
      "26 Chercheur\n",
      "27 Artiste\n",
      "28 Écrivain\n",
      "29 Juge\n",
      "30 Artiste\n"
     ]
    }
   ],
   "source": [
    "for i, elem in enumerate(professions, 1):\n",
    "    print(i, elem)"
   ]
  },
  {
   "cell_type": "markdown",
   "id": "02588b7e-4c4f-46a4-a243-906e0150a8a3",
   "metadata": {},
   "source": [
    "__3/__ Trouvez les professions les plus courantes et les moins courantes dans la liste `professions`."
   ]
  },
  {
   "cell_type": "code",
   "execution_count": 16,
   "id": "213f512d-dcd1-4f61-aed1-7bab0f19ae64",
   "metadata": {},
   "outputs": [],
   "source": [
    "from collections import Counter"
   ]
  },
  {
   "cell_type": "code",
   "execution_count": 19,
   "id": "1f739f71-fabd-41ed-a0d9-3d69136559da",
   "metadata": {},
   "outputs": [],
   "source": [
    "conteur_prof = Counter(professions)"
   ]
  },
  {
   "cell_type": "code",
   "execution_count": 22,
   "id": "66e9e8f6-e6b5-4ea6-803f-1e92bfb700c7",
   "metadata": {},
   "outputs": [
    {
     "data": {
      "text/plain": [
       "[('Chercheur', 11)]"
      ]
     },
     "execution_count": 22,
     "metadata": {},
     "output_type": "execute_result"
    }
   ],
   "source": [
    "conteur_prof.most_common(1)"
   ]
  },
  {
   "cell_type": "code",
   "execution_count": 23,
   "id": "0c99522a-4ad5-4633-aaaf-1c256c551dad",
   "metadata": {},
   "outputs": [
    {
     "data": {
      "text/plain": [
       "[('Chercheur', 11)]"
      ]
     },
     "execution_count": 23,
     "metadata": {},
     "output_type": "execute_result"
    }
   ],
   "source": [
    "conteur_prof.most_common()[:1]"
   ]
  },
  {
   "cell_type": "code",
   "execution_count": 33,
   "id": "2e33dd9f-c3a2-41b1-91c1-1ffa1e242694",
   "metadata": {},
   "outputs": [
    {
     "data": {
      "text/plain": [
       "[('Artiste', 4), ('Médecin', 4)]"
      ]
     },
     "execution_count": 33,
     "metadata": {},
     "output_type": "execute_result"
    }
   ],
   "source": [
    "conteur_prof.most_common()[-2:]"
   ]
  },
  {
   "cell_type": "code",
   "execution_count": null,
   "id": "db466cff-4808-4d71-ad01-ee42ed8046c7",
   "metadata": {},
   "outputs": [],
   "source": []
  },
  {
   "cell_type": "markdown",
   "id": "2a543249-4f56-4170-805b-ebeee2b177f6",
   "metadata": {},
   "source": [
    "### Tâche 2 : Liste, Dictionnaire et Boucle for"
   ]
  },
  {
   "cell_type": "code",
   "execution_count": 35,
   "id": "05f2a632-c22c-4828-87a9-525da13e3c62",
   "metadata": {},
   "outputs": [],
   "source": [
    "personne_1 = {\n",
    "    \"prenom\": \"Jean\",\n",
    "    \"nom\": \"Dupont\",\n",
    "    \"genre\": \"homme\",\n",
    "    \"profession\": \"ingénieur\",\n",
    "    \"age\": 35\n",
    "}\n",
    "\n",
    "personne_2 = {\n",
    "    \"prenom\": \"Sophie\",\n",
    "    \"nom\": \"Lefevre\",\n",
    "    \"genre\": \"femme\",\n",
    "    \"profession\": \"médecin\",\n",
    "    \"age\": 28\n",
    "}\n",
    "\n",
    "personne_3 = {\n",
    "    \"prenom\": \"Alex\",\n",
    "    \"nom\": \"Martin\",\n",
    "    \"genre\": \"homme\",\n",
    "    \"profession\": \"étudiant\",\n",
    "    \"age\": 22\n",
    "}\n",
    "\n",
    "personne_4 = {\n",
    "    \"prenom\": \"Marie\",\n",
    "    \"nom\": \"Dubois\",\n",
    "    \"genre\": \"femme\",\n",
    "    \"profession\": \"avocate\",\n",
    "    \"age\": 41\n",
    "}\n",
    "\n",
    "personne_5 = {\n",
    "    \"prenom\": \"Sam\",\n",
    "    \"nom\": \"Taylor\",\n",
    "    \"genre\": \"pas défini\",\n",
    "    \"profession\": \"artiste\",\n",
    "    \"age\": 30\n",
    "}\n"
   ]
  },
  {
   "cell_type": "markdown",
   "id": "65b8acd2-7d4b-4063-97c3-b70ab70be67e",
   "metadata": {},
   "source": [
    "__1/__ À partir des cinq dictionnaires ci-dessus, créer une liste de dictionnaire"
   ]
  },
  {
   "cell_type": "code",
   "execution_count": 36,
   "id": "a430f585-99be-4652-bffe-2c52ed9412fa",
   "metadata": {},
   "outputs": [],
   "source": [
    "liste_personnes = [personne_1, personne_2, personne_3, personne_4, personne_5]"
   ]
  },
  {
   "cell_type": "code",
   "execution_count": 37,
   "id": "c11218f1-e305-4fd0-bc1d-c1aa4ddfe3bd",
   "metadata": {},
   "outputs": [
    {
     "data": {
      "text/plain": [
       "[{'prenom': 'Jean',\n",
       "  'nom': 'Dupont',\n",
       "  'genre': 'homme',\n",
       "  'profession': 'ingénieur',\n",
       "  'age': 35},\n",
       " {'prenom': 'Sophie',\n",
       "  'nom': 'Lefevre',\n",
       "  'genre': 'femme',\n",
       "  'profession': 'médecin',\n",
       "  'age': 28},\n",
       " {'prenom': 'Alex',\n",
       "  'nom': 'Martin',\n",
       "  'genre': 'homme',\n",
       "  'profession': 'étudiant',\n",
       "  'age': 22},\n",
       " {'prenom': 'Marie',\n",
       "  'nom': 'Dubois',\n",
       "  'genre': 'femme',\n",
       "  'profession': 'avocate',\n",
       "  'age': 41},\n",
       " {'prenom': 'Sam',\n",
       "  'nom': 'Taylor',\n",
       "  'genre': 'pas défini',\n",
       "  'profession': 'artiste',\n",
       "  'age': 30}]"
      ]
     },
     "execution_count": 37,
     "metadata": {},
     "output_type": "execute_result"
    }
   ],
   "source": [
    "liste_personnes"
   ]
  },
  {
   "cell_type": "code",
   "execution_count": null,
   "id": "670c8a17-324e-433f-98f6-5e0bfd32d5e6",
   "metadata": {},
   "outputs": [],
   "source": []
  },
  {
   "cell_type": "code",
   "execution_count": null,
   "id": "f1195483-c43d-43ee-a0b9-0e84888bef91",
   "metadata": {},
   "outputs": [],
   "source": []
  },
  {
   "cell_type": "markdown",
   "id": "b7299149-f311-42ed-b582-7ee391c58509",
   "metadata": {},
   "source": [
    "__2/__ Écrivez un script qui parcourt la liste de dictionnaires représentant des personnes. Affichez le prénom, le nom et l'âge des personnes en fonction de leur genre. Si le genre est \"homme\", affichez \"Nom Prénom est un homme de X ans.\". Si le genre est \"femme\", affichez \"Nom Prénom est une femme de X ans.\". Sinon, affichez \"Genre de Nom Prénom non défini\".\n"
   ]
  },
  {
   "cell_type": "code",
   "execution_count": 43,
   "id": "71313234-9bf8-4d6d-9901-d9078e93ba80",
   "metadata": {},
   "outputs": [
    {
     "name": "stdout",
     "output_type": "stream",
     "text": [
      "Dupont, Jean est un homme de 35 ans\n",
      "Lefevre, Sophie est une femme de 28 ans\n",
      "Martin, Alex est un homme de 22 ans\n",
      "Dubois, Marie est une femme de 41 ans\n",
      "Genre de Taylor Sam non défini\n"
     ]
    }
   ],
   "source": [
    "for dict_personne in liste_personnes:\n",
    "    nom = dict_personne['nom']\n",
    "    prenom = dict_personne['prenom']\n",
    "    genre = dict_personne['genre']\n",
    "    age = dict_personne['age']\n",
    "\n",
    "    if dict_personne[\"genre\"]=='homme':\n",
    "        print(f\"{nom}, {prenom} est un homme de {age} ans\")\n",
    "    elif dict_personne[\"genre\"]=='femme':\n",
    "        print(f\"{nom}, {prenom} est une femme de {age} ans\")\n",
    "    else:\n",
    "        print(\"Genre de \" + nom +\" \"+ prenom +\" non défini\")\n"
   ]
  },
  {
   "cell_type": "code",
   "execution_count": null,
   "id": "85a53a04-064e-4b84-b5d9-33242b711bae",
   "metadata": {},
   "outputs": [],
   "source": []
  },
  {
   "cell_type": "code",
   "execution_count": null,
   "id": "0ed08608-9e5e-4b36-8300-f57710b151f0",
   "metadata": {},
   "outputs": [],
   "source": []
  },
  {
   "cell_type": "code",
   "execution_count": null,
   "id": "fb9703ef-0087-41fa-afe0-7dd199efd41f",
   "metadata": {},
   "outputs": [],
   "source": []
  },
  {
   "cell_type": "code",
   "execution_count": null,
   "id": "0d56ba45-63bb-431c-8fb5-4a5bf2a12590",
   "metadata": {},
   "outputs": [],
   "source": []
  },
  {
   "cell_type": "code",
   "execution_count": null,
   "id": "76f67f3f-5764-4e01-9fec-e5c41e27e9bc",
   "metadata": {},
   "outputs": [],
   "source": []
  },
  {
   "cell_type": "markdown",
   "id": "c21d0cc4-3fb4-4ace-9df1-dd4d4458a7b4",
   "metadata": {},
   "source": [
    "__3/__ Écrivez un script pour parcourir la liste de dictionnaires représentant des personnes et afficher le nom et le genre de celles âgées de plus de 30 ans. Si une personne est âgée de 30 ans ou moins, n'affichez pas son nom et son genre."
   ]
  },
  {
   "cell_type": "code",
   "execution_count": 44,
   "id": "4fe1543c-775d-4b24-acbe-7c7c410563b9",
   "metadata": {},
   "outputs": [
    {
     "name": "stdout",
     "output_type": "stream",
     "text": [
      "La personne s'appelle Jean Dupont, elle est de genre homme, elle a plus de 30 ans\n",
      "Sophie : Moins de 30 ans\n",
      "Alex : Moins de 30 ans\n",
      "La personne s'appelle Marie Dubois, elle est de genre femme, elle a plus de 30 ans\n",
      "Sam : Moins de 30 ans\n"
     ]
    }
   ],
   "source": [
    "for personne in liste_personnes:\n",
    "    if personne[\"age\"]>30:\n",
    "        prenom = personne[\"prenom\"]\n",
    "        nom = personne[\"nom\"]\n",
    "        genre = personne[\"genre\"]\n",
    "        print(f\"La personne s'appelle {prenom} {nom}, elle est de genre {genre}, elle a plus de 30 ans\")\n",
    "    else:\n",
    "        print(personne[\"prenom\"], \": Moins de 30 ans\")"
   ]
  },
  {
   "cell_type": "markdown",
   "id": "c966e903-04ca-4c47-8ff8-e3f4ba455937",
   "metadata": {},
   "source": [
    "### Tâche 3 : Création d'un Dictionnaire par Profession"
   ]
  },
  {
   "cell_type": "code",
   "execution_count": 1,
   "id": "8375c6b5-ad6c-4aa3-a966-b65af4a247d1",
   "metadata": {},
   "outputs": [],
   "source": [
    "noms = ['David', 'Emma', 'Fabrice', 'Grace', 'Hector', 'Isabelle', 'Jack', 'Kate', 'Louis', 'Marie', 'Nathan', 'Olivia', 'Pierre', 'Queen', 'Robert', 'Samantha', 'Thierry', 'Ursula', 'Vincent', 'Wendy', 'Xavier', 'Yvonne', 'Zack', 'Alicia', 'Bryan', 'Celine', 'Derek', 'Elena', 'Frank', 'Gloria']\n",
    "ages = [34, 28, 42, 35, 29, 31, 45, 39, 27, 33, 38, 26, 40, 30, 37, 41, 32, 36, 43, 25, 44, 29, 31, 39, 46, 28, 35, 37, 30, 42]\n",
    "professions = ['Écrivain', 'Écrivain', 'Juge', 'Artiste', 'Chercheur', 'Médecin', 'Juge', 'Chercheur', 'Chercheur', 'Écrivain', 'Artiste', 'Médecin', 'Médecin', 'Chercheur', 'Chercheur', 'Écrivain', 'Chercheur', 'Chercheur', 'Chercheur', 'Juge', 'Juge', 'Chercheur', 'Chercheur', 'Médecin', 'Écrivain', 'Chercheur', 'Artiste', 'Écrivain', 'Juge', 'Artiste']"
   ]
  },
  {
   "cell_type": "code",
   "execution_count": 46,
   "id": "88dcd100-cfe5-453b-a7c1-7382124e2b28",
   "metadata": {},
   "outputs": [
    {
     "data": {
      "text/plain": [
       "30"
      ]
     },
     "execution_count": 46,
     "metadata": {},
     "output_type": "execute_result"
    }
   ],
   "source": [
    "len(ages)"
   ]
  },
  {
   "cell_type": "markdown",
   "id": "6a8f56d9-8622-466e-b039-5ba0369e237d",
   "metadata": {},
   "source": [
    "**1/ Écrivez un script qui combine ces trois listes et affiche une liste numérotée des éléments**"
   ]
  },
  {
   "cell_type": "code",
   "execution_count": 55,
   "id": "f2e4478f-4222-4f36-b8f3-bf71fe5fedfc",
   "metadata": {},
   "outputs": [
    {
     "name": "stdout",
     "output_type": "stream",
     "text": [
      "0 Écrivain 34\n",
      "1 Écrivain 28\n",
      "2 Juge 42\n",
      "3 Artiste 35\n",
      "4 Chercheur 29\n",
      "5 Médecin 31\n",
      "6 Juge 45\n",
      "7 Chercheur 39\n",
      "8 Chercheur 27\n",
      "9 Écrivain 33\n",
      "10 Artiste 38\n",
      "11 Médecin 26\n",
      "12 Médecin 40\n",
      "13 Chercheur 30\n",
      "14 Chercheur 37\n",
      "15 Écrivain 41\n",
      "16 Chercheur 32\n",
      "17 Chercheur 36\n",
      "18 Chercheur 43\n",
      "19 Juge 25\n",
      "20 Juge 44\n",
      "21 Chercheur 29\n",
      "22 Chercheur 31\n",
      "23 Médecin 39\n",
      "24 Écrivain 46\n",
      "25 Chercheur 28\n",
      "26 Artiste 35\n",
      "27 Écrivain 37\n",
      "28 Juge 30\n",
      "29 Artiste 42\n"
     ]
    }
   ],
   "source": [
    "for index in range(len(professions)):\n",
    "    print(index, professions[index], ages[index])"
   ]
  },
  {
   "cell_type": "code",
   "execution_count": 49,
   "id": "65ef9b8a-b30b-4589-8c25-3e2f7f5e1c72",
   "metadata": {},
   "outputs": [
    {
     "name": "stdout",
     "output_type": "stream",
     "text": [
      "1 ('David', 34, 'Écrivain')\n",
      "2 ('Emma', 28, 'Écrivain')\n",
      "3 ('Fabrice', 42, 'Juge')\n",
      "4 ('Grace', 35, 'Artiste')\n",
      "5 ('Hector', 29, 'Chercheur')\n",
      "6 ('Isabelle', 31, 'Médecin')\n",
      "7 ('Jack', 45, 'Juge')\n",
      "8 ('Kate', 39, 'Chercheur')\n",
      "9 ('Louis', 27, 'Chercheur')\n",
      "10 ('Marie', 33, 'Écrivain')\n",
      "11 ('Nathan', 38, 'Artiste')\n",
      "12 ('Olivia', 26, 'Médecin')\n",
      "13 ('Pierre', 40, 'Médecin')\n",
      "14 ('Queen', 30, 'Chercheur')\n",
      "15 ('Robert', 37, 'Chercheur')\n",
      "16 ('Samantha', 41, 'Écrivain')\n",
      "17 ('Thierry', 32, 'Chercheur')\n",
      "18 ('Ursula', 36, 'Chercheur')\n",
      "19 ('Vincent', 43, 'Chercheur')\n",
      "20 ('Wendy', 25, 'Juge')\n",
      "21 ('Xavier', 44, 'Juge')\n",
      "22 ('Yvonne', 29, 'Chercheur')\n",
      "23 ('Zack', 31, 'Chercheur')\n",
      "24 ('Alicia', 39, 'Médecin')\n",
      "25 ('Bryan', 46, 'Écrivain')\n",
      "26 ('Celine', 28, 'Chercheur')\n",
      "27 ('Derek', 35, 'Artiste')\n",
      "28 ('Elena', 37, 'Écrivain')\n",
      "29 ('Frank', 30, 'Juge')\n",
      "30 ('Gloria', 42, 'Artiste')\n"
     ]
    }
   ],
   "source": [
    "for index, i in enumerate(zip(noms, ages, professions), 1):\n",
    "    print(index, i)"
   ]
  },
  {
   "cell_type": "markdown",
   "id": "1d18a4c6-8efb-4775-af57-e80a12695cdd",
   "metadata": {},
   "source": [
    "**2/ Écrivez un script qui (*if*) n'affiche que les médecins de plus de 33 ans dont la première lettre commence par un A sinon (*elif*) les chercheurs de moins de 30 ans, sinon (*else*) affiche la premiere lettre de leur nom et leur age**\n",
    "\n",
    "Sortie - attendue\n",
    "\n",
    "David, 34 \n",
    "Emma, 28\n",
    "Fabrice, 42\n",
    "Grace, 35\n",
    "Hector, Chercheur\n",
    "Isabelle, 31\n",
    "Jack, 45\n",
    "..."
   ]
  },
  {
   "cell_type": "code",
   "execution_count": 57,
   "id": "5cc77026-c052-4db2-9201-089ca38fe207",
   "metadata": {},
   "outputs": [],
   "source": [
    "test = \"Alicia\""
   ]
  },
  {
   "cell_type": "code",
   "execution_count": 61,
   "id": "4af9bce8-3e1c-4ac1-9006-18372ef5e562",
   "metadata": {},
   "outputs": [
    {
     "data": {
      "text/plain": [
       "'Ali'"
      ]
     },
     "execution_count": 61,
     "metadata": {},
     "output_type": "execute_result"
    }
   ],
   "source": [
    "test[0]+test[1]+test[2]"
   ]
  },
  {
   "cell_type": "code",
   "execution_count": null,
   "id": "f5f09bcd-3a8e-4a2a-91a3-e17ef5187196",
   "metadata": {},
   "outputs": [],
   "source": []
  },
  {
   "cell_type": "code",
   "execution_count": 56,
   "id": "a4d8f2f9-ae26-4356-abb6-34c397807c41",
   "metadata": {},
   "outputs": [
    {
     "name": "stdout",
     "output_type": "stream",
     "text": [
      "D, 34\n",
      "E, 28\n",
      "F, 42\n",
      "G, 35\n",
      "Hector Chercheur\n",
      "I, 31\n",
      "J, 45\n",
      "K, 39\n",
      "Louis Chercheur\n",
      "M, 33\n",
      "N, 38\n",
      "O, 26\n",
      "P, 40\n",
      "Q, 30\n",
      "R, 37\n",
      "S, 41\n",
      "T, 32\n",
      "U, 36\n",
      "V, 43\n",
      "W, 25\n",
      "X, 44\n",
      "Yvonne Chercheur\n",
      "Z, 31\n",
      "Alicia Médecin\n",
      "B, 46\n",
      "Celine Chercheur\n",
      "D, 35\n",
      "E, 37\n",
      "F, 30\n",
      "G, 42\n"
     ]
    }
   ],
   "source": [
    "for nom, age, profession in zip(noms, ages, professions):\n",
    "    if profession == 'Médecin' and age > 33 and nom[0]=='A':\n",
    "        print(nom, profession)\n",
    "    elif profession == 'Chercheur' and age < 30:\n",
    "        print(nom, profession)\n",
    "    else:\n",
    "        print(f\"{nom[0]}, {age}\")"
   ]
  },
  {
   "cell_type": "markdown",
   "id": "5d704e7f-1239-48b8-8817-11307a4865d3",
   "metadata": {},
   "source": [
    "**3/ Création d'un Dictionnaire par Profession**\n",
    "\n",
    "Utilisez les listes `noms`, `ages`, et `professions` pour créer un dictionnaire où les clés sont les professions et les valeurs sont les listes de noms associés à leur âge. Utilisez une boucle `for` et `if/else` pour effectuer cette opération.\n",
    "\n",
    "Sortie - {'Écrivain': [['David', 34], ['Emma', 28], ['Marie', 33], ['Samantha', 41], ['Bryan', 46], ['Elena', 37]], 'Juge': ...."
   ]
  },
  {
   "cell_type": "code",
   "execution_count": 65,
   "id": "55be49ac-3b89-49b1-a324-c29f16df5b77",
   "metadata": {},
   "outputs": [],
   "source": [
    "profession = {} # dict()\n",
    "\n",
    "for nom, age, prof in zip(noms, ages, professions):\n",
    "    if prof not in profession.keys():\n",
    "        profession[prof]=[[nom, age]]\n",
    "    else:\n",
    "        profession[prof].append([nom, age])\n",
    "\n",
    "\n"
   ]
  },
  {
   "cell_type": "code",
   "execution_count": 66,
   "id": "afd38271-94b2-420a-936a-f6244c63b17c",
   "metadata": {},
   "outputs": [
    {
     "data": {
      "text/plain": [
       "{'Écrivain': [['David', 34],\n",
       "  ['Emma', 28],\n",
       "  ['Marie', 33],\n",
       "  ['Samantha', 41],\n",
       "  ['Bryan', 46],\n",
       "  ['Elena', 37]],\n",
       " 'Juge': [['Fabrice', 42],\n",
       "  ['Jack', 45],\n",
       "  ['Wendy', 25],\n",
       "  ['Xavier', 44],\n",
       "  ['Frank', 30]],\n",
       " 'Artiste': [['Grace', 35], ['Nathan', 38], ['Derek', 35], ['Gloria', 42]],\n",
       " 'Chercheur': [['Hector', 29],\n",
       "  ['Kate', 39],\n",
       "  ['Louis', 27],\n",
       "  ['Queen', 30],\n",
       "  ['Robert', 37],\n",
       "  ['Thierry', 32],\n",
       "  ['Ursula', 36],\n",
       "  ['Vincent', 43],\n",
       "  ['Yvonne', 29],\n",
       "  ['Zack', 31],\n",
       "  ['Celine', 28]],\n",
       " 'Médecin': [['Isabelle', 31], ['Olivia', 26], ['Pierre', 40], ['Alicia', 39]]}"
      ]
     },
     "execution_count": 66,
     "metadata": {},
     "output_type": "execute_result"
    }
   ],
   "source": [
    "profession"
   ]
  },
  {
   "cell_type": "code",
   "execution_count": null,
   "id": "a4a80e9f-ff78-41e8-b383-b3ad8142f786",
   "metadata": {},
   "outputs": [],
   "source": []
  },
  {
   "cell_type": "code",
   "execution_count": null,
   "id": "bdf89f80-e932-4d7d-8bcf-323a462c9a58",
   "metadata": {},
   "outputs": [],
   "source": []
  },
  {
   "cell_type": "code",
   "execution_count": null,
   "id": "19f6a233-050a-41ee-97b4-14e9be4ebf3d",
   "metadata": {},
   "outputs": [],
   "source": []
  },
  {
   "cell_type": "code",
   "execution_count": null,
   "id": "022497d7-5d89-4105-9592-c714756098ea",
   "metadata": {},
   "outputs": [],
   "source": []
  },
  {
   "cell_type": "code",
   "execution_count": 23,
   "id": "233ca332-feaf-413e-b3e1-cd12d5e91133",
   "metadata": {},
   "outputs": [
    {
     "name": "stdout",
     "output_type": "stream",
     "text": [
      "{'Écrivain': [['David', 34], ['Emma', 28], ['Marie', 33], ['Samantha', 41], ['Bryan', 46], ['Elena', 37]], 'Juge': [['Fabrice', 42], ['Jack', 45], ['Wendy', 25], ['Xavier', 44], ['Frank', 30]], 'Artiste': [['Grace', 35], ['Nathan', 38], ['Derek', 35], ['Gloria', 42]], 'Chercheur': [['Hector', 29], ['Kate', 39], ['Louis', 27], ['Queen', 30], ['Robert', 37], ['Thierry', 32], ['Ursula', 36], ['Vincent', 43], ['Yvonne', 29], ['Zack', 31], ['Celine', 28]], 'Médecin': [['Isabelle', 31], ['Olivia', 26], ['Pierre', 40], ['Alicia', 39]]}\n"
     ]
    }
   ],
   "source": [
    "profession_dict = {}\n",
    "\n",
    "for nom, age, profession in zip(noms, ages, professions):\n",
    "    if profession in profession_dict.keys():\n",
    "        profession_dict[profession].append([nom, age])\n",
    "    else:\n",
    "        profession_dict[profession] = [[nom, age]]\n",
    "\n",
    "print(profession_dict)"
   ]
  },
  {
   "cell_type": "code",
   "execution_count": 2,
   "id": "0e9cca49-261b-4e05-adcd-e44a9779b598",
   "metadata": {},
   "outputs": [
    {
     "name": "stdout",
     "output_type": "stream",
     "text": [
      "{'Écrivain': [['David', 34], ['Emma', 28], ['Marie', 33], ['Samantha', 41], ['Bryan', 46], ['Elena', 37]], 'Juge': [['Fabrice', 42], ['Jack', 45], ['Wendy', 25], ['Xavier', 44], ['Frank', 30]], 'Artiste': [['Grace', 35], ['Nathan', 38], ['Derek', 35], ['Gloria', 42]], 'Chercheur': [['Hector', 29], ['Kate', 39], ['Louis', 27], ['Queen', 30], ['Robert', 37], ['Thierry', 32], ['Ursula', 36], ['Vincent', 43], ['Yvonne', 29], ['Zack', 31], ['Celine', 28]], 'Médecin': [['Isabelle', 31], ['Olivia', 26], ['Pierre', 40], ['Alicia', 39]]}\n"
     ]
    }
   ],
   "source": [
    "# Emilie\n",
    "\n",
    "profession_dict = {}\n",
    "\n",
    "for nom, age, profession in zip(noms, ages, professions):\n",
    "    key = profession\n",
    "    value = [nom, age]\n",
    "\n",
    "    if key in profession_dict:\n",
    "        profession_dict[key].append(value)\n",
    "    else:\n",
    "        profession_dict[key] = [value]\n",
    "\n",
    "print(profession_dict)"
   ]
  },
  {
   "cell_type": "code",
   "execution_count": null,
   "id": "80888b59-53f1-441d-bf78-bccefa05f898",
   "metadata": {},
   "outputs": [],
   "source": []
  }
 ],
 "metadata": {
  "kernelspec": {
   "display_name": "Python 3 (ipykernel)",
   "language": "python",
   "name": "python3"
  },
  "language_info": {
   "codemirror_mode": {
    "name": "ipython",
    "version": 3
   },
   "file_extension": ".py",
   "mimetype": "text/x-python",
   "name": "python",
   "nbconvert_exporter": "python",
   "pygments_lexer": "ipython3",
   "version": "3.12.3"
  }
 },
 "nbformat": 4,
 "nbformat_minor": 5
}
