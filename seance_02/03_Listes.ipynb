{
 "cells": [
  {
   "cell_type": "markdown",
   "id": "afce4f35-a5d9-4337-b75b-aece3d7fe397",
   "metadata": {},
   "source": [
    "# Listes"
   ]
  },
  {
   "cell_type": "markdown",
   "id": "e8e99609-ec23-4278-81c5-a4eca85402e1",
   "metadata": {},
   "source": [
    "Les listes en Python sont un type de collection qui vous permet de stocker plusieurs éléments dans un ordre séquentiel. Vous pouvez ajouter, supprimer, ou accéder aux éléments d'une liste en utilisant des index. Les listes sont très flexibles et polyvalentes, ce qui les rend utiles pour de nombreuses tâches différentes en programmation."
   ]
  },
  {
   "cell_type": "code",
   "execution_count": 1,
   "id": "f35adf2e-d3b7-493f-a717-25e5ef57a976",
   "metadata": {},
   "outputs": [],
   "source": [
    "liste_1 = list()"
   ]
  },
  {
   "cell_type": "code",
   "execution_count": 4,
   "id": "5d928882-78ba-4008-883e-f306906bba39",
   "metadata": {},
   "outputs": [
    {
     "data": {
      "text/plain": [
       "list"
      ]
     },
     "execution_count": 4,
     "metadata": {},
     "output_type": "execute_result"
    }
   ],
   "source": [
    "type(liste_1)"
   ]
  },
  {
   "cell_type": "code",
   "execution_count": 5,
   "id": "708465c8-30b1-4e54-b080-bc280b712d02",
   "metadata": {},
   "outputs": [],
   "source": [
    "liste_2 = []"
   ]
  },
  {
   "cell_type": "code",
   "execution_count": 6,
   "id": "fdaa7709-272d-4844-800a-58b8a4872f96",
   "metadata": {},
   "outputs": [
    {
     "data": {
      "text/plain": [
       "list"
      ]
     },
     "execution_count": 6,
     "metadata": {},
     "output_type": "execute_result"
    }
   ],
   "source": [
    "type(liste_2)"
   ]
  },
  {
   "cell_type": "code",
   "execution_count": null,
   "id": "18f35e6b-bcff-4d42-a2fe-e77f2a7453c6",
   "metadata": {},
   "outputs": [],
   "source": []
  },
  {
   "cell_type": "code",
   "execution_count": 55,
   "id": "2a00a8f1-94c0-41d8-a059-889cc369a7be",
   "metadata": {},
   "outputs": [],
   "source": [
    "personnages = [\"Emma Bovary\",\"Arsène Lupin\",\n",
    "    \"Jean Valjean\",\n",
    "    \"Cyrano de Bergerac\",\n",
    "    \"Le Petit Prince\",\n",
    "    \"Madame Bovary\",\n",
    "]"
   ]
  },
  {
   "cell_type": "code",
   "execution_count": 10,
   "id": "f08c6f05-d171-4bf7-9e8a-34a9c24abd43",
   "metadata": {},
   "outputs": [
    {
     "data": {
      "text/plain": [
       "['Emma Bovary',\n",
       " 'Arsène Lupin',\n",
       " 'Jean Valjean',\n",
       " 'Cyrano de Bergerac',\n",
       " 'Le Petit Prince',\n",
       " 'Madame Bovary']"
      ]
     },
     "execution_count": 10,
     "metadata": {},
     "output_type": "execute_result"
    }
   ],
   "source": [
    "personnages"
   ]
  },
  {
   "cell_type": "code",
   "execution_count": 11,
   "id": "c55309b8-d8fe-4128-95d0-70bf0dd11866",
   "metadata": {},
   "outputs": [
    {
     "data": {
      "text/plain": [
       "list"
      ]
     },
     "execution_count": 11,
     "metadata": {},
     "output_type": "execute_result"
    }
   ],
   "source": [
    "type(personnages)"
   ]
  },
  {
   "cell_type": "markdown",
   "id": "bf72a0c7-5180-482d-995b-9426b7778173",
   "metadata": {},
   "source": [
    "## Index"
   ]
  },
  {
   "cell_type": "code",
   "execution_count": 20,
   "id": "137a9df7-844d-4736-97d6-39e4eeb4f6f1",
   "metadata": {},
   "outputs": [
    {
     "data": {
      "text/plain": [
       "'Jean Valjean'"
      ]
     },
     "execution_count": 20,
     "metadata": {},
     "output_type": "execute_result"
    }
   ],
   "source": [
    "personnages[2]"
   ]
  },
  {
   "cell_type": "code",
   "execution_count": null,
   "id": "28f1fd6e-321f-42a8-b1f7-795708b418dd",
   "metadata": {},
   "outputs": [],
   "source": []
  },
  {
   "cell_type": "markdown",
   "id": "1df2f5b6-39ee-4700-8dca-05f64e83aa97",
   "metadata": {},
   "source": [
    "## Slice\n",
    "\n",
    "En utilisant des index spécifiques entre ces deux deux-points, vous pouvez découper la liste à des points de départ et d'arrêt spécifiques, et vous pouvez également \"sauter\" par différentes quantités, c'est-à-dire que vous pouvez avancer d'un certain nombre dans la liste et prendre seulement chaque n-ième élément de la liste (par exemple, chaque 3ème élément).\n",
    "\n",
    "liste[debut:fin:etape]"
   ]
  },
  {
   "cell_type": "code",
   "execution_count": 22,
   "id": "79155876-bdbb-4d44-badd-ee83b26ccc6e",
   "metadata": {},
   "outputs": [
    {
     "data": {
      "text/plain": [
       "['Jean Valjean', 'Cyrano de Bergerac', 'Le Petit Prince', 'Madame Bovary']"
      ]
     },
     "execution_count": 22,
     "metadata": {},
     "output_type": "execute_result"
    }
   ],
   "source": [
    "personnages[2:]"
   ]
  },
  {
   "cell_type": "code",
   "execution_count": 23,
   "id": "66a51aa9-41d8-4cde-a643-36e1d1fc9280",
   "metadata": {},
   "outputs": [
    {
     "data": {
      "text/plain": [
       "['Emma Bovary', 'Arsène Lupin']"
      ]
     },
     "execution_count": 23,
     "metadata": {},
     "output_type": "execute_result"
    }
   ],
   "source": [
    "personnages[:2]"
   ]
  },
  {
   "cell_type": "code",
   "execution_count": 27,
   "id": "0dc9092b-d77f-42a1-81a1-d17d32d6451f",
   "metadata": {},
   "outputs": [
    {
     "data": {
      "text/plain": [
       "'Emma Bovary'"
      ]
     },
     "execution_count": 27,
     "metadata": {},
     "output_type": "execute_result"
    }
   ],
   "source": [
    "personnages[0]"
   ]
  },
  {
   "cell_type": "markdown",
   "id": "768c3820-57e6-4467-958a-44e0e5c5f6a8",
   "metadata": {},
   "source": [
    "#### Reverse"
   ]
  },
  {
   "cell_type": "code",
   "execution_count": 33,
   "id": "57a07b15-89e1-4e5a-963d-0e1c50491cb9",
   "metadata": {},
   "outputs": [
    {
     "data": {
      "text/plain": [
       "['Madame Bovary']"
      ]
     },
     "execution_count": 33,
     "metadata": {},
     "output_type": "execute_result"
    }
   ],
   "source": [
    "personnages[-1:]"
   ]
  },
  {
   "cell_type": "markdown",
   "id": "7132449b-967b-4f98-8d85-7116494113bc",
   "metadata": {},
   "source": [
    "## Méthode de liste"
   ]
  },
  {
   "cell_type": "markdown",
   "id": "2180b6ea-38a7-489a-96f0-666294706280",
   "metadata": {},
   "source": [
    "Les listes ont beaucoup de méthode de liste spécifiques, comme par exemple pour ajouter des éléments dans la liste\n",
    "\n",
    "| **Méthode de liste** | **Explication**                                                                                   |\n",
    "|-------------|---------------------------------------------------------------------------------------------------|\n",
    "| `liste.append(autre_element)`          | ajoute un nouvel élément à la fin de la liste                                                                                |\n",
    "| `liste.extend(autre_liste)`        | ajoute les éléments de `autre_liste` à la liste actuelle                                             |\n",
    "| `liste.remove(element)`        | supprime la première occurrence de l'élément                                                       |\n",
    "| `liste.sort(reverse=False)`       | trie la liste dans l'ordre spécifié, par défaut, dans l'ordre croissant          |\n",
    "| `liste.reverse()`       | inverse l'ordre de la liste                                                                          |"
   ]
  },
  {
   "cell_type": "code",
   "execution_count": 42,
   "id": "3505b09b-4171-454a-aa0b-addaa02eb4c4",
   "metadata": {},
   "outputs": [],
   "source": [
    "personnages.extend([\"Darpagnan\", \"Dartagnan\"])"
   ]
  },
  {
   "cell_type": "code",
   "execution_count": 43,
   "id": "86c178f1-3880-49bf-b20a-9216d145b7bb",
   "metadata": {},
   "outputs": [
    {
     "data": {
      "text/plain": [
       "['Emma Bovary',\n",
       " 'Arsène Lupin',\n",
       " 'Jean Valjean',\n",
       " 'Cyrano de Bergerac',\n",
       " 'Le Petit Prince',\n",
       " 'Madame Bovary',\n",
       " 'Darpagnan',\n",
       " 'Dartagnan']"
      ]
     },
     "execution_count": 43,
     "metadata": {},
     "output_type": "execute_result"
    }
   ],
   "source": [
    "personnages"
   ]
  },
  {
   "cell_type": "code",
   "execution_count": 58,
   "id": "924505b2-86ab-4bb5-85c7-674737d1b5ef",
   "metadata": {},
   "outputs": [],
   "source": [
    "ages_int = [22, 23, 67, 14, 23]"
   ]
  },
  {
   "cell_type": "code",
   "execution_count": 48,
   "id": "9c1c80f5-0719-462f-b0ab-47980f3c0eac",
   "metadata": {},
   "outputs": [],
   "source": [
    "ages = ['22', '21', '23', '47', '45', '28', '23', '50', '26', '28', '30']"
   ]
  },
  {
   "cell_type": "code",
   "execution_count": 50,
   "id": "4e8cd2fa-7c60-4014-99ec-20c10e0e0375",
   "metadata": {},
   "outputs": [],
   "source": [
    "personnages.extend(ages_int)"
   ]
  },
  {
   "cell_type": "code",
   "execution_count": 54,
   "id": "c6119041-d676-4c19-b502-bd60933a80c7",
   "metadata": {},
   "outputs": [
    {
     "data": {
      "text/plain": [
       "int"
      ]
     },
     "execution_count": 54,
     "metadata": {},
     "output_type": "execute_result"
    }
   ],
   "source": [
    "type(personnages[-1])"
   ]
  },
  {
   "cell_type": "code",
   "execution_count": null,
   "id": "33bc2c56-fe92-4a28-9dae-ed67f669f4f1",
   "metadata": {},
   "outputs": [],
   "source": []
  },
  {
   "cell_type": "code",
   "execution_count": null,
   "id": "9c6f194b-f42c-4bba-a624-66bc37f83b2d",
   "metadata": {},
   "outputs": [],
   "source": []
  },
  {
   "cell_type": "code",
   "execution_count": 64,
   "id": "4d9913af-bb33-413f-aa65-8bf744b4228d",
   "metadata": {},
   "outputs": [],
   "source": [
    "ages_int.sort(reverse=True)"
   ]
  },
  {
   "cell_type": "code",
   "execution_count": 65,
   "id": "88f33ff9-68fa-447c-af1e-44287b1c6ed1",
   "metadata": {},
   "outputs": [
    {
     "data": {
      "text/plain": [
       "[67, 23, 23, 22, 14]"
      ]
     },
     "execution_count": 65,
     "metadata": {},
     "output_type": "execute_result"
    }
   ],
   "source": [
    "ages_int"
   ]
  },
  {
   "cell_type": "code",
   "execution_count": null,
   "id": "ffdbf77f-0953-476f-b662-86f00abec77d",
   "metadata": {},
   "outputs": [],
   "source": []
  }
 ],
 "metadata": {
  "kernelspec": {
   "display_name": "Python 3 (ipykernel)",
   "language": "python",
   "name": "python3"
  },
  "language_info": {
   "codemirror_mode": {
    "name": "ipython",
    "version": 3
   },
   "file_extension": ".py",
   "mimetype": "text/x-python",
   "name": "python",
   "nbconvert_exporter": "python",
   "pygments_lexer": "ipython3",
   "version": "3.10.12"
  }
 },
 "nbformat": 4,
 "nbformat_minor": 5
}
