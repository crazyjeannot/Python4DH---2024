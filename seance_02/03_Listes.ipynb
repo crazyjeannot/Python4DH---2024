{
 "cells": [
  {
   "cell_type": "markdown",
   "id": "afce4f35-a5d9-4337-b75b-aece3d7fe397",
   "metadata": {},
   "source": [
    "# Listes"
   ]
  },
  {
   "cell_type": "markdown",
   "id": "e8e99609-ec23-4278-81c5-a4eca85402e1",
   "metadata": {},
   "source": [
    "Les listes en Python sont un type de collection qui vous permet de stocker plusieurs éléments dans un ordre séquentiel. Vous pouvez ajouter, supprimer, ou accéder aux éléments d'une liste en utilisant des index. Les listes sont très flexibles et polyvalentes, ce qui les rend utiles pour de nombreuses tâches différentes en programmation."
   ]
  },
  {
   "cell_type": "code",
   "execution_count": 4,
   "id": "f35adf2e-d3b7-493f-a717-25e5ef57a976",
   "metadata": {},
   "outputs": [],
   "source": [
    "liste_1 = [1, 3, 4, 5, 5]"
   ]
  },
  {
   "cell_type": "code",
   "execution_count": 6,
   "id": "730e9786-4ab0-4c06-baf8-d4babdf40b59",
   "metadata": {},
   "outputs": [
    {
     "data": {
      "text/plain": [
       "list"
      ]
     },
     "execution_count": 6,
     "metadata": {},
     "output_type": "execute_result"
    }
   ],
   "source": [
    "type(liste_1)"
   ]
  },
  {
   "cell_type": "code",
   "execution_count": null,
   "id": "962054d0-4b29-4777-af74-52d7733739dd",
   "metadata": {},
   "outputs": [],
   "source": []
  },
  {
   "cell_type": "code",
   "execution_count": null,
   "id": "4c60e40d-6ad8-4ca1-b394-959444185b57",
   "metadata": {},
   "outputs": [],
   "source": []
  },
  {
   "cell_type": "code",
   "execution_count": 4,
   "id": "5d928882-78ba-4008-883e-f306906bba39",
   "metadata": {},
   "outputs": [
    {
     "data": {
      "text/plain": [
       "list"
      ]
     },
     "execution_count": 4,
     "metadata": {},
     "output_type": "execute_result"
    }
   ],
   "source": [
    "type(liste_1)"
   ]
  },
  {
   "cell_type": "code",
   "execution_count": 5,
   "id": "708465c8-30b1-4e54-b080-bc280b712d02",
   "metadata": {},
   "outputs": [],
   "source": [
    "liste_2 = []"
   ]
  },
  {
   "cell_type": "code",
   "execution_count": 6,
   "id": "fdaa7709-272d-4844-800a-58b8a4872f96",
   "metadata": {},
   "outputs": [
    {
     "data": {
      "text/plain": [
       "list"
      ]
     },
     "execution_count": 6,
     "metadata": {},
     "output_type": "execute_result"
    }
   ],
   "source": [
    "type(liste_2)"
   ]
  },
  {
   "cell_type": "code",
   "execution_count": null,
   "id": "18f35e6b-bcff-4d42-a2fe-e77f2a7453c6",
   "metadata": {},
   "outputs": [],
   "source": []
  },
  {
   "cell_type": "code",
   "execution_count": 62,
   "id": "2a00a8f1-94c0-41d8-a059-889cc369a7be",
   "metadata": {},
   "outputs": [],
   "source": [
    "personnages = [\"Emma Bovary\",\"Arsène Lupin\",\n",
    "    \"Jean Valjean\",\n",
    "    \"Cyrano de Bergerac\",\n",
    "    \"Le Petit Prince\",\n",
    "    \"Madame Bovary\"]"
   ]
  },
  {
   "cell_type": "code",
   "execution_count": 63,
   "id": "f08c6f05-d171-4bf7-9e8a-34a9c24abd43",
   "metadata": {},
   "outputs": [
    {
     "data": {
      "text/plain": [
       "['Emma Bovary',\n",
       " 'Arsène Lupin',\n",
       " 'Jean Valjean',\n",
       " 'Cyrano de Bergerac',\n",
       " 'Le Petit Prince',\n",
       " 'Madame Bovary']"
      ]
     },
     "execution_count": 63,
     "metadata": {},
     "output_type": "execute_result"
    }
   ],
   "source": [
    "personnages"
   ]
  },
  {
   "cell_type": "code",
   "execution_count": 9,
   "id": "c55309b8-d8fe-4128-95d0-70bf0dd11866",
   "metadata": {},
   "outputs": [
    {
     "data": {
      "text/plain": [
       "list"
      ]
     },
     "execution_count": 9,
     "metadata": {},
     "output_type": "execute_result"
    }
   ],
   "source": [
    "type(personnages)"
   ]
  },
  {
   "cell_type": "markdown",
   "id": "bf72a0c7-5180-482d-995b-9426b7778173",
   "metadata": {},
   "source": [
    "## Index"
   ]
  },
  {
   "cell_type": "code",
   "execution_count": 15,
   "id": "28f1fd6e-321f-42a8-b1f7-795708b418dd",
   "metadata": {},
   "outputs": [
    {
     "data": {
      "text/plain": [
       "'Le Petit Prince'"
      ]
     },
     "execution_count": 15,
     "metadata": {},
     "output_type": "execute_result"
    }
   ],
   "source": [
    "personnages[4]"
   ]
  },
  {
   "cell_type": "code",
   "execution_count": 16,
   "id": "0bb4fbd0-d977-4dc3-8db5-39211432081d",
   "metadata": {},
   "outputs": [
    {
     "data": {
      "text/plain": [
       "6"
      ]
     },
     "execution_count": 16,
     "metadata": {},
     "output_type": "execute_result"
    }
   ],
   "source": [
    "len(personnages)"
   ]
  },
  {
   "cell_type": "markdown",
   "id": "1df2f5b6-39ee-4700-8dca-05f64e83aa97",
   "metadata": {},
   "source": [
    "## Slice\n",
    "\n",
    "En utilisant des index spécifiques entre ces deux deux-points, vous pouvez découper la liste à des points de départ et d'arrêt spécifiques, et vous pouvez également \"sauter\" par différentes quantités, c'est-à-dire que vous pouvez avancer d'un certain nombre dans la liste et prendre seulement chaque n-ième élément de la liste (par exemple, chaque 3ème élément).\n",
    "\n",
    "liste[debut:fin:etape]"
   ]
  },
  {
   "cell_type": "code",
   "execution_count": 34,
   "id": "aed9e0fc-13f3-4310-bf6c-3a9cc21be28a",
   "metadata": {},
   "outputs": [
    {
     "data": {
      "text/plain": [
       "['Emma Bovary', 'Arsène Lupin', 'Jean Valjean']"
      ]
     },
     "execution_count": 34,
     "metadata": {},
     "output_type": "execute_result"
    }
   ],
   "source": [
    "personnages[:3]"
   ]
  },
  {
   "cell_type": "markdown",
   "id": "768c3820-57e6-4467-958a-44e0e5c5f6a8",
   "metadata": {},
   "source": [
    "#### Reverse"
   ]
  },
  {
   "cell_type": "code",
   "execution_count": 9,
   "id": "57a07b15-89e1-4e5a-963d-0e1c50491cb9",
   "metadata": {},
   "outputs": [],
   "source": [
    "# [-1] [x:] "
   ]
  },
  {
   "cell_type": "code",
   "execution_count": 56,
   "id": "1a254f63-4258-462e-9d37-4b21c77f9173",
   "metadata": {},
   "outputs": [
    {
     "data": {
      "text/plain": [
       "'Madame Bovary'"
      ]
     },
     "execution_count": 56,
     "metadata": {},
     "output_type": "execute_result"
    }
   ],
   "source": [
    "personnages[-1]"
   ]
  },
  {
   "cell_type": "code",
   "execution_count": 64,
   "id": "aeac4f48-9d49-4ced-aaa7-97ab9f2c14b5",
   "metadata": {},
   "outputs": [
    {
     "data": {
      "text/plain": [
       "['Madame Bovary',\n",
       " 'Le Petit Prince',\n",
       " 'Cyrano de Bergerac',\n",
       " 'Jean Valjean',\n",
       " 'Arsène Lupin',\n",
       " 'Emma Bovary']"
      ]
     },
     "execution_count": 64,
     "metadata": {},
     "output_type": "execute_result"
    }
   ],
   "source": [
    "personnages[::-1]"
   ]
  },
  {
   "cell_type": "code",
   "execution_count": 65,
   "id": "75fd28cd-3cb1-47a2-be9c-9c25edc464ca",
   "metadata": {},
   "outputs": [
    {
     "data": {
      "text/plain": [
       "['Emma Bovary',\n",
       " 'Arsène Lupin',\n",
       " 'Jean Valjean',\n",
       " 'Cyrano de Bergerac',\n",
       " 'Le Petit Prince',\n",
       " 'Madame Bovary']"
      ]
     },
     "execution_count": 65,
     "metadata": {},
     "output_type": "execute_result"
    }
   ],
   "source": [
    "personnages"
   ]
  },
  {
   "cell_type": "code",
   "execution_count": 66,
   "id": "889a811b-8f05-4c84-9b5b-10e4e95355e0",
   "metadata": {},
   "outputs": [],
   "source": [
    "personnages.reverse()"
   ]
  },
  {
   "cell_type": "code",
   "execution_count": 67,
   "id": "b6e607ad-f9c4-4c8d-8b30-cf354001aaa1",
   "metadata": {},
   "outputs": [
    {
     "data": {
      "text/plain": [
       "['Madame Bovary',\n",
       " 'Le Petit Prince',\n",
       " 'Cyrano de Bergerac',\n",
       " 'Jean Valjean',\n",
       " 'Arsène Lupin',\n",
       " 'Emma Bovary']"
      ]
     },
     "execution_count": 67,
     "metadata": {},
     "output_type": "execute_result"
    }
   ],
   "source": [
    "personnages"
   ]
  },
  {
   "cell_type": "markdown",
   "id": "7132449b-967b-4f98-8d85-7116494113bc",
   "metadata": {},
   "source": [
    "## Méthode de liste"
   ]
  },
  {
   "cell_type": "markdown",
   "id": "2180b6ea-38a7-489a-96f0-666294706280",
   "metadata": {},
   "source": [
    "Les listes ont beaucoup de méthode de liste spécifiques, comme par exemple pour ajouter des éléments dans la liste\n",
    "\n",
    "| **Méthode de liste** | **Explication**                                                                                   |\n",
    "|-------------|---------------------------------------------------------------------------------------------------|\n",
    "| `liste.append(autre_element)`          | ajoute un nouvel élément à la fin de la liste                                                                                |\n",
    "| `liste.extend(autre_liste)`        | ajoute les éléments de `autre_liste` à la liste actuelle                                             |\n",
    "| `liste.remove(element)`        | supprime la première occurrence de l'élément                                                       |\n",
    "| `liste.sort(reverse=False)`       | trie la liste dans l'ordre spécifié, par défaut, dans l'ordre croissant          |\n",
    "| `liste.reverse()`       | inverse l'ordre de la liste                                                                          |"
   ]
  },
  {
   "cell_type": "code",
   "execution_count": 101,
   "id": "b823be7f-399a-45e9-8b01-ea3db44d6465",
   "metadata": {},
   "outputs": [],
   "source": [
    "liste_remplie = []"
   ]
  },
  {
   "cell_type": "code",
   "execution_count": 118,
   "id": "4ecfae63-e13b-4bce-aa10-e4c7b0aa749b",
   "metadata": {},
   "outputs": [],
   "source": [
    "liste_remplie.append('encore_autre_mot')"
   ]
  },
  {
   "cell_type": "code",
   "execution_count": 115,
   "id": "6cac2e5e-bb08-4507-bcc2-0ef1f712319b",
   "metadata": {},
   "outputs": [],
   "source": [
    "liste_remplie.extend(['mot', 'autre_mot', 'encore_autre_mot'])"
   ]
  },
  {
   "cell_type": "code",
   "execution_count": 121,
   "id": "fee404a8-1cb1-4e5f-9164-f6ef9ea2cc43",
   "metadata": {},
   "outputs": [],
   "source": [
    "liste_remplie = liste_remplie + ['mot', 'autre_mot', 'encore_autre_mot']"
   ]
  },
  {
   "cell_type": "code",
   "execution_count": null,
   "id": "aa8dc8b8-7a2c-4308-820b-ca191bd8f89e",
   "metadata": {},
   "outputs": [],
   "source": []
  },
  {
   "cell_type": "code",
   "execution_count": 122,
   "id": "d2410401-b223-4b38-8c38-301a362d4c53",
   "metadata": {},
   "outputs": [
    {
     "data": {
      "text/plain": [
       "['mot',\n",
       " 'autre_mot',\n",
       " 'encore_autre_mot',\n",
       " 'element',\n",
       " 'autre_element',\n",
       " ['element', 'autre_element'],\n",
       " 'mot',\n",
       " 'autre_mot',\n",
       " 'encore_autre_mot',\n",
       " 'encore_autre_mot',\n",
       " 'encore_autre_mot',\n",
       " 'mot',\n",
       " 'autre_mot',\n",
       " 'encore_autre_mot']"
      ]
     },
     "execution_count": 122,
     "metadata": {},
     "output_type": "execute_result"
    }
   ],
   "source": [
    "liste_remplie"
   ]
  },
  {
   "cell_type": "code",
   "execution_count": 83,
   "id": "9a640258-923e-40c6-b685-7209b0a37347",
   "metadata": {},
   "outputs": [],
   "source": [
    "# append vs extend "
   ]
  },
  {
   "cell_type": "code",
   "execution_count": null,
   "id": "263be63e-91ec-4b8c-8ac5-cf54699dc138",
   "metadata": {},
   "outputs": [],
   "source": []
  },
  {
   "cell_type": "code",
   "execution_count": null,
   "id": "4dd9f3ca-044d-44b6-8a79-8119c6a426f0",
   "metadata": {},
   "outputs": [],
   "source": [
    "# remove - reverse"
   ]
  },
  {
   "cell_type": "code",
   "execution_count": null,
   "id": "a6f81829-a181-4d72-b49d-e69c23da599d",
   "metadata": {},
   "outputs": [],
   "source": []
  },
  {
   "cell_type": "code",
   "execution_count": 126,
   "id": "924505b2-86ab-4bb5-85c7-674737d1b5ef",
   "metadata": {},
   "outputs": [],
   "source": [
    "ages_int = [22, 23, 67, 67, 14, 23]"
   ]
  },
  {
   "cell_type": "code",
   "execution_count": 127,
   "id": "351d7292-4daa-4c87-aeaa-1b87d07fe3a1",
   "metadata": {},
   "outputs": [],
   "source": [
    "ages_int.remove(67)"
   ]
  },
  {
   "cell_type": "code",
   "execution_count": 133,
   "id": "fa3e25a7-b630-43fc-852a-63ee4ebab716",
   "metadata": {},
   "outputs": [],
   "source": [
    "ages_int.sort()"
   ]
  },
  {
   "cell_type": "code",
   "execution_count": 134,
   "id": "ee7e855a-e482-4e24-9e3c-19778a6f0a01",
   "metadata": {},
   "outputs": [
    {
     "data": {
      "text/plain": [
       "[14, 22, 23, 23, 67]"
      ]
     },
     "execution_count": 134,
     "metadata": {},
     "output_type": "execute_result"
    }
   ],
   "source": [
    "ages_int"
   ]
  },
  {
   "cell_type": "code",
   "execution_count": null,
   "id": "bac99555-645a-48f6-b0f3-b46c7bfb507b",
   "metadata": {},
   "outputs": [],
   "source": []
  },
  {
   "cell_type": "code",
   "execution_count": null,
   "id": "7896d4fa-7dad-4f04-b63a-c840d26ba986",
   "metadata": {},
   "outputs": [],
   "source": []
  },
  {
   "cell_type": "code",
   "execution_count": 139,
   "id": "9c1c80f5-0719-462f-b0ab-47980f3c0eac",
   "metadata": {},
   "outputs": [],
   "source": [
    "ages = ['21', '202', '201', '23', '47', '45', '28', '23', '50', '26', '28', '30']"
   ]
  },
  {
   "cell_type": "code",
   "execution_count": 140,
   "id": "ffdbf77f-0953-476f-b662-86f00abec77d",
   "metadata": {},
   "outputs": [],
   "source": [
    "ages.sort()"
   ]
  },
  {
   "cell_type": "code",
   "execution_count": 141,
   "id": "50cb8d0d-f266-4f7d-9dca-a139d2bad689",
   "metadata": {},
   "outputs": [
    {
     "data": {
      "text/plain": [
       "['201', '202', '21', '23', '23', '26', '28', '28', '30', '45', '47', '50']"
      ]
     },
     "execution_count": 141,
     "metadata": {},
     "output_type": "execute_result"
    }
   ],
   "source": [
    "ages"
   ]
  },
  {
   "cell_type": "code",
   "execution_count": null,
   "id": "f21fb3c2-6023-4cea-bf82-9f08fa27ab2e",
   "metadata": {},
   "outputs": [],
   "source": []
  }
 ],
 "metadata": {
  "kernelspec": {
   "display_name": "Python 3 (ipykernel)",
   "language": "python",
   "name": "python3"
  },
  "language_info": {
   "codemirror_mode": {
    "name": "ipython",
    "version": 3
   },
   "file_extension": ".py",
   "mimetype": "text/x-python",
   "name": "python",
   "nbconvert_exporter": "python",
   "pygments_lexer": "ipython3",
   "version": "3.12.3"
  }
 },
 "nbformat": 4,
 "nbformat_minor": 5
}
