{
 "cells": [
  {
   "cell_type": "markdown",
   "id": "e5ed4941-60b0-40e3-b152-566d1592a4d7",
   "metadata": {},
   "source": [
    "# Dictionnaires"
   ]
  },
  {
   "cell_type": "code",
   "execution_count": 1,
   "id": "240f143f-fa37-40d8-99d5-bb8fe11ca3cb",
   "metadata": {},
   "outputs": [],
   "source": [
    "bovary_nom = 'Emma Bovary'\n",
    "bovary_age = 27\n",
    "bovary_maladie = 'dépressive'\n",
    "bovary_profession = 'idealiste'\n",
    "bovary_genre = 'f'\n",
    "bovary_enfants = 'Berthe'"
   ]
  },
  {
   "cell_type": "markdown",
   "id": "87dfb590-6586-44cd-b634-10b63149d83c",
   "metadata": {},
   "source": [
    "#### Pas très pratique.. Mais on peut déclarer le tout en un seul dictionnaire !"
   ]
  },
  {
   "cell_type": "code",
   "execution_count": 10,
   "id": "79493240-7b89-4783-a5fb-b2904ec99ac6",
   "metadata": {},
   "outputs": [],
   "source": [
    "emma = {\"prenom\": \"Emma\",\n",
    "        \"nom\": \"Bovary\",\n",
    "        \"age\": 27,\n",
    "        \"maladie\": 'dépressive',\n",
    "        \"profession\": \"idealiste\",\n",
    "        \"genre\": 'f',\n",
    "        \"enfants\": \"Berthe\"}"
   ]
  },
  {
   "cell_type": "code",
   "execution_count": 11,
   "id": "f6c57654-81c7-487f-b2c7-616701b2f89b",
   "metadata": {},
   "outputs": [
    {
     "data": {
      "text/plain": [
       "dict"
      ]
     },
     "execution_count": 11,
     "metadata": {},
     "output_type": "execute_result"
    }
   ],
   "source": [
    "type(emma)"
   ]
  },
  {
   "cell_type": "markdown",
   "id": "6ae57c3d-38e5-4f19-97d3-6acfc627391a",
   "metadata": {},
   "source": [
    "### Clé - Valeur "
   ]
  },
  {
   "cell_type": "markdown",
   "id": "df898bad-72bf-4676-837e-4eb356d12a82",
   "metadata": {},
   "source": [
    "Un dictionnaire est composé de paires \"clé\"-\"valeur\", qui sont séparées par deux-points `:` et de différentes paires clé-valeur par des virgules `,`. Un dictionnaire est toujours encadré par des accolades `{}`."
   ]
  },
  {
   "cell_type": "code",
   "execution_count": 5,
   "id": "ec1a1aad-4fc0-4e92-8e89-877c48738e30",
   "metadata": {},
   "outputs": [
    {
     "data": {
      "text/plain": [
       "{'prenom': 'Emma',\n",
       " 'nom': 'Bovary',\n",
       " 'age': 27,\n",
       " 'maladie': 'dépressive',\n",
       " 'profession': 'idealiste',\n",
       " 'genre': 'f',\n",
       " 'enfants': 'Berthe'}"
      ]
     },
     "execution_count": 5,
     "metadata": {},
     "output_type": "execute_result"
    }
   ],
   "source": [
    "emma"
   ]
  },
  {
   "cell_type": "markdown",
   "id": "bf0665a9-c7f2-4a2b-906e-632f6a654a48",
   "metadata": {},
   "source": [
    "Vous pouvez vérifier toutes les clés d'un dictionnaire en utilisant la méthode `.keys()` ou toutes les valeurs d'un dictionnaire en utilisant la méthode `.values()`."
   ]
  },
  {
   "cell_type": "code",
   "execution_count": 12,
   "id": "e68101e7-4fbd-495d-8116-45fc43935de7",
   "metadata": {},
   "outputs": [
    {
     "data": {
      "text/plain": [
       "dict_keys(['prenom', 'nom', 'age', 'maladie', 'profession', 'genre', 'enfants'])"
      ]
     },
     "execution_count": 12,
     "metadata": {},
     "output_type": "execute_result"
    }
   ],
   "source": [
    "emma.keys()"
   ]
  },
  {
   "cell_type": "code",
   "execution_count": 13,
   "id": "f22d4cdb-fbf1-4332-a62d-99bad96dc815",
   "metadata": {},
   "outputs": [
    {
     "data": {
      "text/plain": [
       "dict_values(['Emma', 'Bovary', 27, 'dépressive', 'idealiste', 'f', 'Berthe'])"
      ]
     },
     "execution_count": 13,
     "metadata": {},
     "output_type": "execute_result"
    }
   ],
   "source": [
    "emma.values()"
   ]
  },
  {
   "cell_type": "code",
   "execution_count": 14,
   "id": "bdcafbee-2f0f-44a8-93fe-b062901dd371",
   "metadata": {},
   "outputs": [
    {
     "data": {
      "text/plain": [
       "dict_items([('prenom', 'Emma'), ('nom', 'Bovary'), ('age', 27), ('maladie', 'dépressive'), ('profession', 'idealiste'), ('genre', 'f'), ('enfants', 'Berthe')])"
      ]
     },
     "execution_count": 14,
     "metadata": {},
     "output_type": "execute_result"
    }
   ],
   "source": [
    "emma.items()"
   ]
  },
  {
   "cell_type": "markdown",
   "id": "8d14ad3b-6b73-4e81-9c62-4d0aeeb9bcef",
   "metadata": {},
   "source": [
    "### Accéder aux éléments\n",
    "\n",
    "Vous pouvez accéder à une valeur dans un dictionnaire en utilisant des crochets `[]` et le nom de la clé (un peu comme nous avons indexé une chaîne de caractères ou une liste)."
   ]
  },
  {
   "cell_type": "code",
   "execution_count": 15,
   "id": "bdce3667-8b52-4fb3-876e-8d0ad894fc5a",
   "metadata": {},
   "outputs": [
    {
     "data": {
      "text/plain": [
       "{'prenom': 'Emma',\n",
       " 'nom': 'Bovary',\n",
       " 'age': 27,\n",
       " 'maladie': 'dépressive',\n",
       " 'profession': 'idealiste',\n",
       " 'genre': 'f',\n",
       " 'enfants': 'Berthe'}"
      ]
     },
     "execution_count": 15,
     "metadata": {},
     "output_type": "execute_result"
    }
   ],
   "source": [
    "emma"
   ]
  },
  {
   "cell_type": "code",
   "execution_count": 18,
   "id": "7be62fb3-de56-4823-af80-9cd3677c4198",
   "metadata": {},
   "outputs": [
    {
     "data": {
      "text/plain": [
       "int"
      ]
     },
     "execution_count": 18,
     "metadata": {},
     "output_type": "execute_result"
    }
   ],
   "source": [
    "type(emma['age'])"
   ]
  },
  {
   "cell_type": "markdown",
   "id": "d8ff01ee-8419-4315-8e5f-9ecc583ac376",
   "metadata": {},
   "source": [
    "### Changer les éléments"
   ]
  },
  {
   "cell_type": "code",
   "execution_count": 23,
   "id": "e425ca12-7ec8-41c2-bbf3-68ad2659fc89",
   "metadata": {},
   "outputs": [],
   "source": [
    "emma[\"age\"] = 27"
   ]
  },
  {
   "cell_type": "code",
   "execution_count": 24,
   "id": "41a9a3fc-df86-4246-8596-f46ad8589057",
   "metadata": {},
   "outputs": [
    {
     "data": {
      "text/plain": [
       "{'prenom': 'Emma',\n",
       " 'nom': 'Bovary',\n",
       " 'age': 27,\n",
       " 'maladie': 'dépressive',\n",
       " 'profession': 'idealiste',\n",
       " 'genre': 'f',\n",
       " 'enfants': 'Berthe'}"
      ]
     },
     "execution_count": 24,
     "metadata": {},
     "output_type": "execute_result"
    }
   ],
   "source": [
    "emma"
   ]
  },
  {
   "cell_type": "code",
   "execution_count": 25,
   "id": "344d9171-9128-45d1-b2c2-184e565ce797",
   "metadata": {},
   "outputs": [],
   "source": [
    "emma['profession'] = 'ecrivaine'"
   ]
  },
  {
   "cell_type": "code",
   "execution_count": 26,
   "id": "18d9ea1e-5b28-4cae-95fe-7819092ecae3",
   "metadata": {},
   "outputs": [
    {
     "data": {
      "text/plain": [
       "{'prenom': 'Emma',\n",
       " 'nom': 'Bovary',\n",
       " 'age': 27,\n",
       " 'maladie': 'dépressive',\n",
       " 'profession': 'ecrivaine',\n",
       " 'genre': 'f',\n",
       " 'enfants': 'Berthe'}"
      ]
     },
     "execution_count": 26,
     "metadata": {},
     "output_type": "execute_result"
    }
   ],
   "source": [
    "emma"
   ]
  },
  {
   "cell_type": "markdown",
   "id": "7e344023-ebdd-44af-8d37-289166a8c45e",
   "metadata": {},
   "source": [
    "### Dictionnaires Imbriqués"
   ]
  },
  {
   "cell_type": "code",
   "execution_count": 27,
   "id": "7d2ae6ef-e830-4be8-8b6d-07d723efe33b",
   "metadata": {},
   "outputs": [],
   "source": [
    "personnes = {\"personne1\":\n",
    "                  {'prenom': 'Emma',\n",
    "                   'nom': 'Bovary',\n",
    "                   'age': 27,\n",
    "                   'maladie': 'dépressive',\n",
    "                   'profession': 'idéaliste',\n",
    "                   'genre': 'f',\n",
    "                   'enfants': 'Berthe'},\n",
    "            \"personne2\":\n",
    "                  {'prenom': 'Arsène',\n",
    "                   'nom': 'Lupin',\n",
    "                   'age': 31,\n",
    "                   'maladie': 'kleptoman',\n",
    "                   'profession': 'gentleman-cambrioleur',\n",
    "                   'genre': 'm',\n",
    "                   'enfants': None}\n",
    "                }"
   ]
  },
  {
   "cell_type": "code",
   "execution_count": 28,
   "id": "0c5d74df-d420-4d2e-83c3-efd0837c8343",
   "metadata": {},
   "outputs": [
    {
     "data": {
      "text/plain": [
       "{'personne1': {'prenom': 'Emma',\n",
       "  'nom': 'Bovary',\n",
       "  'age': 27,\n",
       "  'maladie': 'dépressive',\n",
       "  'profession': 'idéaliste',\n",
       "  'genre': 'f',\n",
       "  'enfants': 'Berthe'},\n",
       " 'personne2': {'prenom': 'Arsène',\n",
       "  'nom': 'Lupin',\n",
       "  'age': 31,\n",
       "  'maladie': 'kleptoman',\n",
       "  'profession': 'gentleman-cambrioleur',\n",
       "  'genre': 'm',\n",
       "  'enfants': None}}"
      ]
     },
     "execution_count": 28,
     "metadata": {},
     "output_type": "execute_result"
    }
   ],
   "source": [
    "personnes"
   ]
  },
  {
   "cell_type": "code",
   "execution_count": 36,
   "id": "315dca3c-25cd-4fcf-b938-5193ee2bae0a",
   "metadata": {},
   "outputs": [
    {
     "data": {
      "text/plain": [
       "27"
      ]
     },
     "execution_count": 36,
     "metadata": {},
     "output_type": "execute_result"
    }
   ],
   "source": [
    "personnes['personne1'][\"age\"]"
   ]
  },
  {
   "cell_type": "code",
   "execution_count": 37,
   "id": "9e149c99-875c-4ab8-94d7-a86b0595e24a",
   "metadata": {},
   "outputs": [
    {
     "data": {
      "text/plain": [
       "{'prenom': 'Arsène',\n",
       " 'nom': 'Lupin',\n",
       " 'age': 31,\n",
       " 'maladie': 'kleptoman',\n",
       " 'profession': 'gentleman-cambrioleur',\n",
       " 'genre': 'm',\n",
       " 'enfants': None}"
      ]
     },
     "execution_count": 37,
     "metadata": {},
     "output_type": "execute_result"
    }
   ],
   "source": [
    "personnes['personne2']"
   ]
  },
  {
   "cell_type": "code",
   "execution_count": 16,
   "id": "fa3ee91a-2612-49cb-b651-c4d9dcc98c79",
   "metadata": {},
   "outputs": [],
   "source": [
    "#age de lupin"
   ]
  },
  {
   "cell_type": "code",
   "execution_count": null,
   "id": "740bc8f1-14f8-44f3-a694-eb0807df9cfb",
   "metadata": {},
   "outputs": [],
   "source": []
  }
 ],
 "metadata": {
  "kernelspec": {
   "display_name": "Python 3 (ipykernel)",
   "language": "python",
   "name": "python3"
  },
  "language_info": {
   "codemirror_mode": {
    "name": "ipython",
    "version": 3
   },
   "file_extension": ".py",
   "mimetype": "text/x-python",
   "name": "python",
   "nbconvert_exporter": "python",
   "pygments_lexer": "ipython3",
   "version": "3.12.3"
  }
 },
 "nbformat": 4,
 "nbformat_minor": 5
}
