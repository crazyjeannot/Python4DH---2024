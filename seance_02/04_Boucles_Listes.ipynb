{
 "cells": [
  {
   "cell_type": "markdown",
   "id": "24b0f416-daed-44b4-a0a4-8e385b33dbe1",
   "metadata": {},
   "source": [
    "# Boucles & Listes"
   ]
  },
  {
   "cell_type": "markdown",
   "id": "53f71635-4696-4a86-a8fd-82e45a4ae64a",
   "metadata": {},
   "source": [
    "## La boucle For\n",
    "\n",
    "L'une des meilleures façons de travailler avec une liste est d'utiliser des boucles `for`. Il s'agit d'une méthode permettant de parcourir chaque élément de la liste ou de \"l'itérer\"."
   ]
  },
  {
   "cell_type": "code",
   "execution_count": 2,
   "id": "01e84292-5d42-4957-b1ad-b7304d02895f",
   "metadata": {},
   "outputs": [],
   "source": [
    "liste_noms = [\"Maria\", \"John\", \"Elena\", \"Satoshi\", \"Sophie\", \"Mohammed\", \"Olga\", \"Pablo\", \"Ling\", \"Alexandra\"]"
   ]
  },
  {
   "cell_type": "code",
   "execution_count": 8,
   "id": "ed523feb-674d-4a43-8faa-f8117e829bc1",
   "metadata": {},
   "outputs": [
    {
     "name": "stdout",
     "output_type": "stream",
     "text": [
      "Maria\n",
      "John\n",
      "Elena\n",
      "Satoshi\n",
      "Sophie\n",
      "Mohammed\n",
      "Olga\n",
      "Pablo\n",
      "Ling\n",
      "Alexandra\n"
     ]
    }
   ],
   "source": [
    "for elem in liste_noms:\n",
    "    print(elem)"
   ]
  },
  {
   "cell_type": "code",
   "execution_count": 6,
   "id": "e88991b3-cd39-45cd-9385-d10c30034910",
   "metadata": {},
   "outputs": [
    {
     "name": "stdout",
     "output_type": "stream",
     "text": [
      "Maria\n",
      "John\n",
      "Elena\n",
      "Satoshi\n",
      "Sophie\n",
      "Mohammed\n",
      "Olga\n",
      "Pablo\n",
      "Ling\n",
      "Alexandra\n"
     ]
    }
   ],
   "source": [
    "for index_courant in range(len(liste_noms)):\n",
    "    print(liste_noms[index_courant])"
   ]
  },
  {
   "cell_type": "markdown",
   "id": "d76b1389-fb5f-479e-92ea-d974778af8ff",
   "metadata": {},
   "source": [
    "Une boucle `for` basique se compose de deux lignes :\n",
    "\n",
    "- Sur la première ligne, vous tapez le mot anglais `for`, un nouveau nom de variable pour chaque élément de la liste, le mot anglais `in`, le nom de la liste et un deux-points (`:`).\n",
    "\n",
    "- Sur la deuxième ligne, vous indentez et écrivez une instruction ou une \"déclaration\" à exécuter pour chaque élément de la liste."
   ]
  },
  {
   "cell_type": "code",
   "execution_count": 19,
   "id": "88547414-ad8a-4e16-99f2-c580d40559c3",
   "metadata": {},
   "outputs": [
    {
     "name": "stdout",
     "output_type": "stream",
     "text": [
      "salut chaine de caractèreMaria\n",
      "salut chaine de caractèreJohn\n",
      "salut chaine de caractèreElena\n",
      "salut chaine de caractèreSatoshi\n",
      "salut chaine de caractèreSophie\n",
      "salut chaine de caractèreMohammed\n",
      "salut chaine de caractèreOlga\n",
      "salut chaine de caractèrePablo\n",
      "salut chaine de caractèreLing\n",
      "salut chaine de caractèreAlexandra\n"
     ]
    }
   ],
   "source": [
    "for nom in liste_noms:\n",
    "    print('salut chaine de caractère'+ nom)"
   ]
  },
  {
   "cell_type": "code",
   "execution_count": 9,
   "id": "88e690e9-50aa-48f4-8e48-40c4add3d3ae",
   "metadata": {},
   "outputs": [
    {
     "name": "stdout",
     "output_type": "stream",
     "text": [
      "Le nom de la personne est Maria\n",
      "Le nom de la personne est John\n",
      "Le nom de la personne est Elena\n",
      "Le nom de la personne est Satoshi\n",
      "Le nom de la personne est Sophie\n",
      "Le nom de la personne est Mohammed\n",
      "Le nom de la personne est Olga\n",
      "Le nom de la personne est Pablo\n",
      "Le nom de la personne est Ling\n",
      "Le nom de la personne est Alexandra\n"
     ]
    }
   ],
   "source": [
    "for nom in noms:\n",
    "    print(f\"Le nom de la personne est {nom}\")"
   ]
  },
  {
   "cell_type": "code",
   "execution_count": 11,
   "id": "ecc85189-2d8e-4e12-8158-3ba6fce89d4f",
   "metadata": {},
   "outputs": [
    {
     "name": "stdout",
     "output_type": "stream",
     "text": [
      "Le nom de la personne est Maria\n",
      "Le nom de la personne est John\n",
      "Le nom de la personne est Elena\n",
      "Le nom de la personne est Satoshi\n",
      "Le nom de la personne est Sophie\n",
      "Le nom de la personne est Mohammed\n",
      "Le nom de la personne est Olga\n",
      "Le nom de la personne est Pablo\n",
      "Le nom de la personne est Ling\n",
      "Le nom de la personne est Alexandra\n"
     ]
    }
   ],
   "source": [
    "for x in noms:\n",
    "    print(f\"Le nom de la personne est {x}\")"
   ]
  },
  {
   "cell_type": "code",
   "execution_count": null,
   "id": "8fc9860f-d76b-4468-abfe-002b84f04e5f",
   "metadata": {},
   "outputs": [],
   "source": []
  },
  {
   "cell_type": "code",
   "execution_count": null,
   "id": "f94ee4f4-03b6-4e5a-816d-611213732fc4",
   "metadata": {},
   "outputs": [],
   "source": []
  },
  {
   "cell_type": "code",
   "execution_count": null,
   "id": "a20a34ce-d586-4bff-83ff-6689585d2267",
   "metadata": {},
   "outputs": [],
   "source": []
  },
  {
   "cell_type": "code",
   "execution_count": 20,
   "id": "daea2414-3d04-4d1b-9e30-75478d104a6f",
   "metadata": {},
   "outputs": [],
   "source": [
    "ages = [22, 21, 23, 47, 45, 28, 23, 50, 26, 28, 30]"
   ]
  },
  {
   "cell_type": "code",
   "execution_count": 22,
   "id": "990d25b3-8f28-4a76-ad39-c2d467c39cc0",
   "metadata": {},
   "outputs": [
    {
     "name": "stdout",
     "output_type": "stream",
     "text": [
      "22\n",
      "21\n",
      "23\n",
      "47\n",
      "45\n",
      "28\n",
      "23\n",
      "50\n",
      "26\n",
      "28\n",
      "30\n"
     ]
    }
   ],
   "source": [
    "for age in ages:\n",
    "    print(age)"
   ]
  },
  {
   "cell_type": "code",
   "execution_count": 24,
   "id": "a89479b1-ff28-4093-b243-73a8c3100802",
   "metadata": {},
   "outputs": [
    {
     "name": "stdout",
     "output_type": "stream",
     "text": [
      "La personne a moins de 30 ans\n",
      "La personne a moins de 30 ans\n",
      "La personne a moins de 30 ans\n",
      "La personne a plus de 30 ans\n",
      "La personne a plus de 30 ans\n",
      "La personne a moins de 30 ans\n",
      "La personne a moins de 30 ans\n",
      "La personne a plus de 30 ans\n",
      "La personne a moins de 30 ans\n",
      "La personne a moins de 30 ans\n",
      "La personne a moins de 30 ans\n"
     ]
    }
   ],
   "source": [
    "for age in ages:\n",
    "    if age <= 30:\n",
    "        print(\"La personne a moins de 30 ans\")\n",
    "    else:\n",
    "        print(\"La personne a plus de 30 ans\")"
   ]
  },
  {
   "cell_type": "code",
   "execution_count": null,
   "id": "948925e7-ec1f-4534-8cee-fc5a33c6f959",
   "metadata": {},
   "outputs": [],
   "source": []
  },
  {
   "cell_type": "code",
   "execution_count": null,
   "id": "16209c3b-c30f-40d0-af81-a2de9e463fd4",
   "metadata": {},
   "outputs": [],
   "source": []
  },
  {
   "cell_type": "code",
   "execution_count": 25,
   "id": "8bbc685f-3fde-4594-a52f-b3355e507a45",
   "metadata": {},
   "outputs": [
    {
     "data": {
      "text/plain": [
       "[22, 21, 23, 47, 45, 28, 23, 50, 26, 28, 30]"
      ]
     },
     "execution_count": 25,
     "metadata": {},
     "output_type": "execute_result"
    }
   ],
   "source": []
  },
  {
   "cell_type": "code",
   "execution_count": null,
   "id": "3ceda81d-59c3-4d91-b11b-6b0257e92b61",
   "metadata": {},
   "outputs": [],
   "source": []
  },
  {
   "cell_type": "code",
   "execution_count": 26,
   "id": "e6459f93-e6bb-4c98-b701-8b27f04f1415",
   "metadata": {},
   "outputs": [],
   "source": [
    "age_2 = [] # remplir age 2 avec les éléments de age"
   ]
  },
  {
   "cell_type": "code",
   "execution_count": 27,
   "id": "7076c2e3-d5d8-439d-a053-8538edcba467",
   "metadata": {},
   "outputs": [
    {
     "name": "stdout",
     "output_type": "stream",
     "text": [
      "47\n",
      "45\n",
      "50\n"
     ]
    }
   ],
   "source": [
    "for age in ages:\n",
    "    if age > 30:\n",
    "        print(age)\n",
    "        age_2.append(age)"
   ]
  },
  {
   "cell_type": "code",
   "execution_count": 30,
   "id": "6ea88077-1243-4491-b548-a8eb966dbdd8",
   "metadata": {},
   "outputs": [],
   "source": [
    "ages_3 = []"
   ]
  },
  {
   "cell_type": "code",
   "execution_count": 32,
   "id": "5baaa57e-f803-43b8-8bb1-4fa4e02b21a1",
   "metadata": {},
   "outputs": [
    {
     "data": {
      "text/plain": [
       "[22, 21, 23, 47, 45, 28, 23, 50, 26, 28, 30]"
      ]
     },
     "execution_count": 32,
     "metadata": {},
     "output_type": "execute_result"
    }
   ],
   "source": [
    "ages"
   ]
  },
  {
   "cell_type": "code",
   "execution_count": 33,
   "id": "8dda798a-8abc-4caa-8fd2-812184decb37",
   "metadata": {},
   "outputs": [
    {
     "name": "stdout",
     "output_type": "stream",
     "text": [
      "22\n",
      "[22, 21, 23, 47, 45, 28, 23, 50, 26, 28, 30, 22]\n",
      "21\n",
      "[22, 21, 23, 47, 45, 28, 23, 50, 26, 28, 30, 22, 21]\n",
      "23\n",
      "[22, 21, 23, 47, 45, 28, 23, 50, 26, 28, 30, 22, 21, 23]\n",
      "47\n",
      "[22, 21, 23, 47, 45, 28, 23, 50, 26, 28, 30, 22, 21, 23, 47]\n",
      "45\n",
      "[22, 21, 23, 47, 45, 28, 23, 50, 26, 28, 30, 22, 21, 23, 47, 45]\n",
      "28\n",
      "[22, 21, 23, 47, 45, 28, 23, 50, 26, 28, 30, 22, 21, 23, 47, 45, 28]\n",
      "23\n",
      "[22, 21, 23, 47, 45, 28, 23, 50, 26, 28, 30, 22, 21, 23, 47, 45, 28, 23]\n",
      "50\n",
      "[22, 21, 23, 47, 45, 28, 23, 50, 26, 28, 30, 22, 21, 23, 47, 45, 28, 23, 50]\n",
      "26\n",
      "[22, 21, 23, 47, 45, 28, 23, 50, 26, 28, 30, 22, 21, 23, 47, 45, 28, 23, 50, 26]\n",
      "28\n",
      "[22, 21, 23, 47, 45, 28, 23, 50, 26, 28, 30, 22, 21, 23, 47, 45, 28, 23, 50, 26, 28]\n",
      "30\n",
      "[22, 21, 23, 47, 45, 28, 23, 50, 26, 28, 30, 22, 21, 23, 47, 45, 28, 23, 50, 26, 28, 30]\n"
     ]
    }
   ],
   "source": [
    "for age in ages:\n",
    "    print(age)\n",
    "    ages_3.append(age)\n",
    "    print(ages_3)"
   ]
  },
  {
   "cell_type": "code",
   "execution_count": 28,
   "id": "094f642d-9062-4895-b990-fc4f4f5441de",
   "metadata": {},
   "outputs": [
    {
     "data": {
      "text/plain": [
       "[47, 45, 50]"
      ]
     },
     "execution_count": 28,
     "metadata": {},
     "output_type": "execute_result"
    }
   ],
   "source": [
    "age_2"
   ]
  },
  {
   "cell_type": "code",
   "execution_count": null,
   "id": "28294e48-5c27-47e9-aaa8-c9286d3a303d",
   "metadata": {},
   "outputs": [],
   "source": []
  },
  {
   "cell_type": "code",
   "execution_count": null,
   "id": "cb52da6d-1bcb-44ae-9d07-a22178a5d62c",
   "metadata": {},
   "outputs": [],
   "source": []
  },
  {
   "cell_type": "markdown",
   "id": "6b8904ab-c9a5-4807-851f-5813bbfa8c68",
   "metadata": {},
   "source": [
    "## Exercices !"
   ]
  },
  {
   "cell_type": "code",
   "execution_count": 34,
   "id": "78f8b1d7-63c6-4508-b66e-037d72e4568d",
   "metadata": {},
   "outputs": [],
   "source": [
    "profession = ['enseignante', 'médecin', 'avocat', 'commerçant', 'infirmière', 'agriculteur']\n",
    "enfant = ['Enfant Alana de 10 jours', 'Catherine de 2 mois', '', 'hippolite âgé de 10 jours', 'Lucie, 4 ans', 'Emily 7 mois']\n",
    "genre = ['f', 'm', 'w', 'm', 'f', 'm']"
   ]
  },
  {
   "cell_type": "markdown",
   "id": "0cbb8c79-1101-44f4-a7e8-125add240a44",
   "metadata": {},
   "source": [
    "#### 1/ Extraire le deuxième élément de la liste profession"
   ]
  },
  {
   "cell_type": "code",
   "execution_count": null,
   "id": "39630eec-1003-4b85-a464-2c85b768b180",
   "metadata": {},
   "outputs": [],
   "source": []
  },
  {
   "cell_type": "markdown",
   "id": "149f5e09-c603-4361-aa45-3adab687e709",
   "metadata": {},
   "source": [
    "\n",
    "#### 2/ Ajouter une profession de votre choix à la liste profession, puis l'afficher"
   ]
  },
  {
   "cell_type": "code",
   "execution_count": null,
   "id": "7126fd3a-2a98-4026-9c4d-b70716c57bee",
   "metadata": {},
   "outputs": [],
   "source": []
  },
  {
   "cell_type": "markdown",
   "id": "644f935a-b776-4896-9b05-9785f9e5e8a3",
   "metadata": {},
   "source": [
    "#### 3/ Faites une boucle for  qui itére la liste profession et affiche chaque profession"
   ]
  },
  {
   "cell_type": "code",
   "execution_count": null,
   "id": "62eb3c53-fbc8-42d7-bd4d-3f8b71aad8d2",
   "metadata": {},
   "outputs": [],
   "source": []
  },
  {
   "cell_type": "markdown",
   "id": "f1468c82-4aa6-4fc1-95e4-145f2dcfeacb",
   "metadata": {},
   "source": [
    "## Itérer sur des Dictionnaires"
   ]
  },
  {
   "cell_type": "code",
   "execution_count": 35,
   "id": "01955fdb-bf58-4f7d-9726-13d7ea838c63",
   "metadata": {},
   "outputs": [],
   "source": [
    "personnes = {\"personne1\":\n",
    "                  {'prenom': 'Emma',\n",
    "                   'nom': 'Bovary',\n",
    "                   'age': 27,\n",
    "                   'maladie': 'dépressive',\n",
    "                   'profession': 'idéaliste',\n",
    "                   'genre': 'f',\n",
    "                   'enfants': 'Berthe'},\n",
    "            \"personne2\":\n",
    "                  {'prenom': 'Arsène',\n",
    "                   'nom': 'Lupin',\n",
    "                   'age': 31,\n",
    "                   'maladie': 'kleptoman',\n",
    "                   'profession': 'gentleman-cambrioleur',\n",
    "                   'genre': 'm',\n",
    "                   'enfants': None}\n",
    "                }"
   ]
  },
  {
   "cell_type": "code",
   "execution_count": 36,
   "id": "1ac98585-6f6c-4399-b6bb-27da8bf0d06a",
   "metadata": {},
   "outputs": [
    {
     "data": {
      "text/plain": [
       "dict_values([{'prenom': 'Emma', 'nom': 'Bovary', 'age': 27, 'maladie': 'dépressive', 'profession': 'idéaliste', 'genre': 'f', 'enfants': 'Berthe'}, {'prenom': 'Arsène', 'nom': 'Lupin', 'age': 31, 'maladie': 'kleptoman', 'profession': 'gentleman-cambrioleur', 'genre': 'm', 'enfants': None}])"
      ]
     },
     "execution_count": 36,
     "metadata": {},
     "output_type": "execute_result"
    }
   ],
   "source": [
    "personnes.values()"
   ]
  },
  {
   "cell_type": "code",
   "execution_count": 39,
   "id": "3af9f0f4-d7b6-45a7-9a75-6a6bdc4e7a96",
   "metadata": {},
   "outputs": [
    {
     "data": {
      "text/plain": [
       "dict_keys(['personne1', 'personne2'])"
      ]
     },
     "execution_count": 39,
     "metadata": {},
     "output_type": "execute_result"
    }
   ],
   "source": [
    "personnes.keys()"
   ]
  },
  {
   "cell_type": "code",
   "execution_count": 41,
   "id": "32ee2001-fa47-4a3a-a4d0-f9aca6eee5b9",
   "metadata": {},
   "outputs": [
    {
     "name": "stdout",
     "output_type": "stream",
     "text": [
      "personne1\n",
      "personne2\n"
     ]
    }
   ],
   "source": [
    "for personne in list(personnes.keys()):\n",
    "    print(personne)"
   ]
  },
  {
   "cell_type": "code",
   "execution_count": 42,
   "id": "3b6e12d0-8a8d-4db0-b273-fdfd1830a68f",
   "metadata": {},
   "outputs": [
    {
     "name": "stdout",
     "output_type": "stream",
     "text": [
      "{'prenom': 'Emma', 'nom': 'Bovary', 'age': 27, 'maladie': 'dépressive', 'profession': 'idéaliste', 'genre': 'f', 'enfants': 'Berthe'}\n",
      "{'prenom': 'Arsène', 'nom': 'Lupin', 'age': 31, 'maladie': 'kleptoman', 'profession': 'gentleman-cambrioleur', 'genre': 'm', 'enfants': None}\n"
     ]
    }
   ],
   "source": [
    "for personne in personnes.values():\n",
    "    print(personne)"
   ]
  },
  {
   "cell_type": "code",
   "execution_count": null,
   "id": "ffa4b41d-cb3d-403f-9ac8-7d7fc4a95483",
   "metadata": {},
   "outputs": [],
   "source": []
  },
  {
   "cell_type": "code",
   "execution_count": null,
   "id": "2f357b12-5e61-4e47-b556-559ff18a03b7",
   "metadata": {},
   "outputs": [],
   "source": [
    "personnes['personne1']['prenom']"
   ]
  },
  {
   "cell_type": "code",
   "execution_count": 43,
   "id": "60994897-8388-45e0-800b-c78b4abddf55",
   "metadata": {},
   "outputs": [
    {
     "name": "stdout",
     "output_type": "stream",
     "text": [
      "{'prenom': 'Emma', 'nom': 'Bovary', 'age': 27, 'maladie': 'dépressive', 'profession': 'idéaliste', 'genre': 'f', 'enfants': 'Berthe'}\n"
     ]
    }
   ],
   "source": [
    "for clé, valeur in personnes.items():\n",
    "    if clé == \"personne1\":\n",
    "        print(valeur)"
   ]
  },
  {
   "cell_type": "code",
   "execution_count": null,
   "id": "26b07964-b06a-4406-95bb-fbe32ab57f22",
   "metadata": {},
   "outputs": [],
   "source": []
  },
  {
   "cell_type": "code",
   "execution_count": null,
   "id": "220fa5e1-9195-4093-ae04-83ac9aeeb5f2",
   "metadata": {},
   "outputs": [],
   "source": []
  },
  {
   "cell_type": "code",
   "execution_count": null,
   "id": "bb520934-934d-4ab1-b07c-6f1ae79fba2a",
   "metadata": {},
   "outputs": [],
   "source": [
    "# print nom et age si + 30 ans"
   ]
  },
  {
   "cell_type": "code",
   "execution_count": 46,
   "id": "58259578-a26a-4563-8d1f-f0eacf9f13e8",
   "metadata": {},
   "outputs": [
    {
     "name": "stdout",
     "output_type": "stream",
     "text": [
      "Arsène\n"
     ]
    }
   ],
   "source": [
    "for clé, valeur in personnes.items():\n",
    "    if valeur['age']>=30:\n",
    "        print(valeur['prenom'])"
   ]
  },
  {
   "cell_type": "code",
   "execution_count": null,
   "id": "ff6288b1-9692-429a-adec-abfcaa624ac7",
   "metadata": {},
   "outputs": [],
   "source": []
  }
 ],
 "metadata": {
  "kernelspec": {
   "display_name": "Python 3 (ipykernel)",
   "language": "python",
   "name": "python3"
  },
  "language_info": {
   "codemirror_mode": {
    "name": "ipython",
    "version": 3
   },
   "file_extension": ".py",
   "mimetype": "text/x-python",
   "name": "python",
   "nbconvert_exporter": "python",
   "pygments_lexer": "ipython3",
   "version": "3.12.3"
  }
 },
 "nbformat": 4,
 "nbformat_minor": 5
}
