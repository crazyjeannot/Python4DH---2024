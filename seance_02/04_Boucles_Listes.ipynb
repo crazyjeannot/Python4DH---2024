{
 "cells": [
  {
   "cell_type": "markdown",
   "id": "24b0f416-daed-44b4-a0a4-8e385b33dbe1",
   "metadata": {},
   "source": [
    "# Boucles & Listes"
   ]
  },
  {
   "cell_type": "markdown",
   "id": "53f71635-4696-4a86-a8fd-82e45a4ae64a",
   "metadata": {},
   "source": [
    "## La boucle For\n",
    "\n",
    "L'une des meilleures façons de travailler avec une liste est d'utiliser des boucles `for`. Il s'agit d'une méthode permettant de parcourir chaque élément de la liste ou de \"l'itérer\"."
   ]
  },
  {
   "cell_type": "code",
   "execution_count": 1,
   "id": "01e84292-5d42-4957-b1ad-b7304d02895f",
   "metadata": {},
   "outputs": [],
   "source": [
    "noms = [\"Maria\", \"John\", \"Elena\", \"Satoshi\", \"Sophie\", \"Mohammed\", \"Olga\", \"Pablo\", \"Ling\", \"Alexandra\"]"
   ]
  },
  {
   "cell_type": "code",
   "execution_count": 9,
   "id": "e88991b3-cd39-45cd-9385-d10c30034910",
   "metadata": {},
   "outputs": [
    {
     "name": "stdout",
     "output_type": "stream",
     "text": [
      "Maria\n",
      "John\n",
      "Elena\n",
      "Satoshi\n",
      "Sophie\n",
      "Mohammed\n",
      "Olga\n",
      "Pablo\n",
      "Ling\n",
      "Alexandra\n"
     ]
    }
   ],
   "source": [
    "for nom in noms:\n",
    "    print(nom)"
   ]
  },
  {
   "cell_type": "markdown",
   "id": "d76b1389-fb5f-479e-92ea-d974778af8ff",
   "metadata": {},
   "source": [
    "Une boucle `for` basique se compose de deux lignes :\n",
    "\n",
    "- Sur la première ligne, vous tapez le mot anglais `for`, un nouveau nom de variable pour chaque élément de la liste, le mot anglais `in`, le nom de la liste et un deux-points (`:`).\n",
    "\n",
    "- Sur la deuxième ligne, vous indentez et écrivez une instruction ou une \"déclaration\" à exécuter pour chaque élément de la liste."
   ]
  },
  {
   "cell_type": "code",
   "execution_count": 10,
   "id": "88e690e9-50aa-48f4-8e48-40c4add3d3ae",
   "metadata": {},
   "outputs": [
    {
     "name": "stdout",
     "output_type": "stream",
     "text": [
      "Le nom de la personne est Maria\n",
      "Le nom de la personne est John\n",
      "Le nom de la personne est Elena\n",
      "Le nom de la personne est Satoshi\n",
      "Le nom de la personne est Sophie\n",
      "Le nom de la personne est Mohammed\n",
      "Le nom de la personne est Olga\n",
      "Le nom de la personne est Pablo\n",
      "Le nom de la personne est Ling\n",
      "Le nom de la personne est Alexandra\n"
     ]
    }
   ],
   "source": [
    "for nom in noms:\n",
    "    print(f\"Le nom de la personne est {nom}\")"
   ]
  },
  {
   "cell_type": "code",
   "execution_count": 11,
   "id": "ecc85189-2d8e-4e12-8158-3ba6fce89d4f",
   "metadata": {},
   "outputs": [
    {
     "name": "stdout",
     "output_type": "stream",
     "text": [
      "Le nom de la personne est Maria\n",
      "Le nom de la personne est John\n",
      "Le nom de la personne est Elena\n",
      "Le nom de la personne est Satoshi\n",
      "Le nom de la personne est Sophie\n",
      "Le nom de la personne est Mohammed\n",
      "Le nom de la personne est Olga\n",
      "Le nom de la personne est Pablo\n",
      "Le nom de la personne est Ling\n",
      "Le nom de la personne est Alexandra\n"
     ]
    }
   ],
   "source": [
    "for x in noms:\n",
    "    print(f\"Le nom de la personne est {x}\")"
   ]
  },
  {
   "cell_type": "code",
   "execution_count": 14,
   "id": "daea2414-3d04-4d1b-9e30-75478d104a6f",
   "metadata": {},
   "outputs": [],
   "source": [
    "ages = [22, 21, 23, 47, 45, 28, 23, 50, 26, 28, 30]"
   ]
  },
  {
   "cell_type": "code",
   "execution_count": 16,
   "id": "a89479b1-ff28-4093-b243-73a8c3100802",
   "metadata": {},
   "outputs": [
    {
     "name": "stdout",
     "output_type": "stream",
     "text": [
      "La personne a moins de 30 ans\n",
      "La personne a moins de 30 ans\n",
      "La personne a moins de 30 ans\n",
      "La personne a plus de 30 ans\n",
      "La personne a plus de 30 ans\n",
      "La personne a moins de 30 ans\n",
      "La personne a moins de 30 ans\n",
      "La personne a plus de 30 ans\n",
      "La personne a moins de 30 ans\n",
      "La personne a moins de 30 ans\n",
      "La personne a plus de 30 ans\n"
     ]
    }
   ],
   "source": [
    "for age in ages:\n",
    "    if age < 30:\n",
    "        print(\"La personne a moins de 30 ans\")\n",
    "    else:\n",
    "        print(\"La personne a plus de 30 ans\")"
   ]
  },
  {
   "cell_type": "code",
   "execution_count": 17,
   "id": "fa32e87a-2039-4bde-8e82-d1a701696abb",
   "metadata": {},
   "outputs": [],
   "source": [
    "# mettre condition dans variable seuil"
   ]
  },
  {
   "cell_type": "code",
   "execution_count": 29,
   "id": "4cf33ef2-71c7-4cec-a554-2dba12685739",
   "metadata": {},
   "outputs": [
    {
     "name": "stdout",
     "output_type": "stream",
     "text": [
      "La personne a plus de 45 ans\n",
      "La personne a plus de 45 ans\n",
      "La personne a plus de 45 ans\n",
      "La personne a moins de 45 ans\n",
      "La personne a plus de 45 ans\n",
      "La personne a plus de 45 ans\n",
      "La personne a plus de 45 ans\n",
      "La personne a moins de 45 ans\n",
      "La personne a plus de 45 ans\n",
      "La personne a plus de 45 ans\n",
      "La personne a plus de 45 ans\n"
     ]
    }
   ],
   "source": [
    "seuil = 45\n",
    "for age in ages:\n",
    "    if age > seuil:\n",
    "        print(\"La personne a moins de \"+ str(seuil) +\" ans\")\n",
    "    else:\n",
    "        print(f\"La personne a plus de {seuil} ans\")\n"
   ]
  },
  {
   "cell_type": "code",
   "execution_count": null,
   "id": "948925e7-ec1f-4534-8cee-fc5a33c6f959",
   "metadata": {},
   "outputs": [],
   "source": []
  },
  {
   "cell_type": "code",
   "execution_count": 33,
   "id": "8bbc685f-3fde-4594-a52f-b3355e507a45",
   "metadata": {},
   "outputs": [
    {
     "data": {
      "text/plain": [
       "[22, 21, 23, 47, 45, 28, 23, 50, 26, 28, 30]"
      ]
     },
     "execution_count": 33,
     "metadata": {},
     "output_type": "execute_result"
    }
   ],
   "source": [
    "ages"
   ]
  },
  {
   "cell_type": "code",
   "execution_count": 36,
   "id": "e6459f93-e6bb-4c98-b701-8b27f04f1415",
   "metadata": {},
   "outputs": [
    {
     "name": "stdout",
     "output_type": "stream",
     "text": [
      "22\n",
      "[22]\n",
      "21\n",
      "[22, 21]\n",
      "23\n",
      "[22, 21, 23]\n",
      "47\n",
      "[22, 21, 23, 47]\n",
      "45\n",
      "[22, 21, 23, 47, 45]\n",
      "28\n",
      "[22, 21, 23, 47, 45, 28]\n",
      "23\n",
      "[22, 21, 23, 47, 45, 28, 23]\n",
      "50\n",
      "[22, 21, 23, 47, 45, 28, 23, 50]\n",
      "26\n",
      "[22, 21, 23, 47, 45, 28, 23, 50, 26]\n",
      "28\n",
      "[22, 21, 23, 47, 45, 28, 23, 50, 26, 28]\n",
      "30\n",
      "[22, 21, 23, 47, 45, 28, 23, 50, 26, 28, 30]\n"
     ]
    }
   ],
   "source": [
    "age_2 = []\n",
    "for age in ages:\n",
    "    print(age)\n",
    "    age_2.append(age)\n",
    "    print(age_2)"
   ]
  },
  {
   "cell_type": "code",
   "execution_count": 37,
   "id": "4eb7d68a-9ace-4c10-b999-4463985b470b",
   "metadata": {},
   "outputs": [
    {
     "data": {
      "text/plain": [
       "[22, 21, 23, 47, 45, 28, 23, 50, 26, 28, 30]"
      ]
     },
     "execution_count": 37,
     "metadata": {},
     "output_type": "execute_result"
    }
   ],
   "source": [
    "ages"
   ]
  },
  {
   "cell_type": "markdown",
   "id": "6b8904ab-c9a5-4807-851f-5813bbfa8c68",
   "metadata": {},
   "source": [
    "## Exercices !"
   ]
  },
  {
   "cell_type": "code",
   "execution_count": 38,
   "id": "78f8b1d7-63c6-4508-b66e-037d72e4568d",
   "metadata": {},
   "outputs": [],
   "source": [
    "profession = ['enseignante', 'médecin', 'avocat', 'commerçant', 'infirmière', 'agriculteur']\n",
    "enfant = ['Enfant Alana de 10 jours', 'Catherine de 2 mois', '', 'hippolite âgé de 10 jours', 'Lucie, 4 ans', 'Emily 7 mois']\n",
    "genre = ['f', 'm', 'w', 'm', 'f', 'm']\n"
   ]
  },
  {
   "cell_type": "markdown",
   "id": "0cbb8c79-1101-44f4-a7e8-125add240a44",
   "metadata": {},
   "source": [
    "#### 1/ Extraire le deuxième élément de la liste profession"
   ]
  },
  {
   "cell_type": "code",
   "execution_count": 39,
   "id": "cfc1a987-3c35-4ae9-8a79-393a6be80338",
   "metadata": {},
   "outputs": [
    {
     "data": {
      "text/plain": [
       "'médecin'"
      ]
     },
     "execution_count": 39,
     "metadata": {},
     "output_type": "execute_result"
    }
   ],
   "source": [
    "profession[1]"
   ]
  },
  {
   "cell_type": "markdown",
   "id": "149f5e09-c603-4361-aa45-3adab687e709",
   "metadata": {},
   "source": [
    "\n",
    "#### 2/ Ajouter une profession de votre choix à la liste profession, puis l'afficher"
   ]
  },
  {
   "cell_type": "code",
   "execution_count": 42,
   "id": "f57a6706-b341-4c05-a41a-d62369f5f2e9",
   "metadata": {},
   "outputs": [],
   "source": [
    "profession.extend(['boulanger', 'boucher'])"
   ]
  },
  {
   "cell_type": "code",
   "execution_count": 43,
   "id": "c20a0755-e8af-4583-9496-2061761cc1b9",
   "metadata": {},
   "outputs": [
    {
     "data": {
      "text/plain": [
       "['enseignante',\n",
       " 'médecin',\n",
       " 'avocat',\n",
       " 'commerçant',\n",
       " 'infirmière',\n",
       " 'agriculteur',\n",
       " 'boulanger',\n",
       " 'boulanger',\n",
       " 'boucher']"
      ]
     },
     "execution_count": 43,
     "metadata": {},
     "output_type": "execute_result"
    }
   ],
   "source": [
    "profession"
   ]
  },
  {
   "cell_type": "markdown",
   "id": "644f935a-b776-4896-9b05-9785f9e5e8a3",
   "metadata": {},
   "source": [
    "#### 3/ Faites une boucle for  qui itére la liste profession et affiche chaque profession"
   ]
  },
  {
   "cell_type": "code",
   "execution_count": 44,
   "id": "99ace902-2620-4697-98fc-6e527d44aa51",
   "metadata": {},
   "outputs": [
    {
     "name": "stdout",
     "output_type": "stream",
     "text": [
      "enseignante\n",
      "médecin\n",
      "avocat\n",
      "commerçant\n",
      "infirmière\n",
      "agriculteur\n",
      "boulanger\n",
      "boulanger\n",
      "boucher\n"
     ]
    }
   ],
   "source": [
    "for prof in profession:\n",
    "    print(prof)"
   ]
  },
  {
   "cell_type": "code",
   "execution_count": null,
   "id": "62eb3c53-fbc8-42d7-bd4d-3f8b71aad8d2",
   "metadata": {},
   "outputs": [],
   "source": []
  },
  {
   "cell_type": "markdown",
   "id": "f1468c82-4aa6-4fc1-95e4-145f2dcfeacb",
   "metadata": {},
   "source": [
    "## Itérer sur des Dictionnaires"
   ]
  },
  {
   "cell_type": "code",
   "execution_count": 45,
   "id": "01955fdb-bf58-4f7d-9726-13d7ea838c63",
   "metadata": {},
   "outputs": [],
   "source": [
    "personnes = {\"personne1\":\n",
    "                  {'prenom': 'Emma',\n",
    "                   'nom': 'Bovary',\n",
    "                   'age': 27,\n",
    "                   'maladie': 'dépressive',\n",
    "                   'profession': 'femme au foyer',\n",
    "                   'genre': 'f',\n",
    "                   'enfants': 'Berthe'},\n",
    "            \"personne2\":\n",
    "                  {'prenom': 'Arsène',\n",
    "                   'nom': 'Lupin',\n",
    "                   'age': 31,\n",
    "                   'maladie': 'kleptoman',\n",
    "                   'profession': 'gentleman-cambrioleur',\n",
    "                   'genre': 'm',\n",
    "                   'enfants': None}\n",
    "                }"
   ]
  },
  {
   "cell_type": "code",
   "execution_count": 49,
   "id": "1ac98585-6f6c-4399-b6bb-27da8bf0d06a",
   "metadata": {},
   "outputs": [
    {
     "data": {
      "text/plain": [
       "dict_values([{'prenom': 'Emma', 'nom': 'Bovary', 'age': 27, 'maladie': 'dépressive', 'profession': 'femme au foyer', 'genre': 'f', 'enfants': 'Berthe'}, {'prenom': 'Arsène', 'nom': 'Lupin', 'age': 31, 'maladie': 'kleptoman', 'profession': 'gentleman-cambrioleur', 'genre': 'm', 'enfants': None}])"
      ]
     },
     "execution_count": 49,
     "metadata": {},
     "output_type": "execute_result"
    }
   ],
   "source": [
    "personnes.values()"
   ]
  },
  {
   "cell_type": "code",
   "execution_count": 48,
   "id": "32ee2001-fa47-4a3a-a4d0-f9aca6eee5b9",
   "metadata": {},
   "outputs": [
    {
     "name": "stdout",
     "output_type": "stream",
     "text": [
      "personne1\n",
      "personne2\n"
     ]
    }
   ],
   "source": [
    "for personne in personnes.keys():\n",
    "    print(personne)"
   ]
  },
  {
   "cell_type": "code",
   "execution_count": 50,
   "id": "3b6e12d0-8a8d-4db0-b273-fdfd1830a68f",
   "metadata": {},
   "outputs": [
    {
     "name": "stdout",
     "output_type": "stream",
     "text": [
      "{'prenom': 'Emma', 'nom': 'Bovary', 'age': 27, 'maladie': 'dépressive', 'profession': 'femme au foyer', 'genre': 'f', 'enfants': 'Berthe'}\n",
      "{'prenom': 'Arsène', 'nom': 'Lupin', 'age': 31, 'maladie': 'kleptoman', 'profession': 'gentleman-cambrioleur', 'genre': 'm', 'enfants': None}\n"
     ]
    }
   ],
   "source": [
    "for personne in personnes.values():\n",
    "    print(personne)"
   ]
  },
  {
   "cell_type": "code",
   "execution_count": null,
   "id": "60994897-8388-45e0-800b-c78b4abddf55",
   "metadata": {},
   "outputs": [],
   "source": []
  },
  {
   "cell_type": "code",
   "execution_count": null,
   "id": "bb520934-934d-4ab1-b07c-6f1ae79fba2a",
   "metadata": {},
   "outputs": [],
   "source": []
  },
  {
   "cell_type": "code",
   "execution_count": 52,
   "id": "e3fec18b-c318-4586-910f-89d290168cfb",
   "metadata": {},
   "outputs": [
    {
     "name": "stdout",
     "output_type": "stream",
     "text": [
      "Lupin a plus de 20 ans. Elle a 31 ans.\n"
     ]
    }
   ],
   "source": [
    "for personne in personnes.values():\n",
    "    if personne['age'] > 30:\n",
    "        nom = personne['nom']\n",
    "        age = personne['age']\n",
    "        print(f'{nom} a plus de 20 ans. Elle a {age} ans.')"
   ]
  },
  {
   "cell_type": "code",
   "execution_count": 61,
   "id": "e3b10005-8166-4dc9-9da8-69523aab3fb3",
   "metadata": {},
   "outputs": [
    {
     "name": "stdout",
     "output_type": "stream",
     "text": [
      "{'prenom': 'Emma', 'nom': 'Bovary', 'age': 27, 'maladie': 'dépressive', 'profession': 'femme au foyer', 'genre': 'f', 'enfants': 'Berthe'}\n"
     ]
    }
   ],
   "source": [
    "for clé, valeur in personnes.items():\n",
    "    if clé == \"personne1\":\n",
    "        print(valeur)"
   ]
  },
  {
   "cell_type": "code",
   "execution_count": 62,
   "id": "8888df80-a9fa-49fe-99b4-a63185bf86e5",
   "metadata": {},
   "outputs": [
    {
     "data": {
      "text/plain": [
       "dict_items([('personne1', {'prenom': 'Emma', 'nom': 'Bovary', 'age': 27, 'maladie': 'dépressive', 'profession': 'femme au foyer', 'genre': 'f', 'enfants': 'Berthe'}), ('personne2', {'prenom': 'Arsène', 'nom': 'Lupin', 'age': 31, 'maladie': 'kleptoman', 'profession': 'gentleman-cambrioleur', 'genre': 'm', 'enfants': None})])"
      ]
     },
     "execution_count": 62,
     "metadata": {},
     "output_type": "execute_result"
    }
   ],
   "source": [
    "personnes.items()"
   ]
  },
  {
   "cell_type": "code",
   "execution_count": 64,
   "id": "8d19b832-ca18-480f-9f96-d617eed70194",
   "metadata": {},
   "outputs": [
    {
     "data": {
      "text/plain": [
       "'Emma'"
      ]
     },
     "execution_count": 64,
     "metadata": {},
     "output_type": "execute_result"
    }
   ],
   "source": [
    "personnes['personne1']['prenom']"
   ]
  },
  {
   "cell_type": "code",
   "execution_count": 66,
   "id": "6e1c3a2f-50c3-4c8f-91a7-540d460401bd",
   "metadata": {},
   "outputs": [
    {
     "data": {
      "text/plain": [
       "'bonjour'"
      ]
     },
     "execution_count": 66,
     "metadata": {},
     "output_type": "execute_result"
    }
   ],
   "source": [
    "éytdeh"
   ]
  },
  {
   "cell_type": "code",
   "execution_count": null,
   "id": "e6364914-4b65-4e05-baa5-ce36113678fe",
   "metadata": {},
   "outputs": [],
   "source": []
  }
 ],
 "metadata": {
  "kernelspec": {
   "display_name": "Python 3 (ipykernel)",
   "language": "python",
   "name": "python3"
  },
  "language_info": {
   "codemirror_mode": {
    "name": "ipython",
    "version": 3
   },
   "file_extension": ".py",
   "mimetype": "text/x-python",
   "name": "python",
   "nbconvert_exporter": "python",
   "pygments_lexer": "ipython3",
   "version": "3.10.12"
  }
 },
 "nbformat": 4,
 "nbformat_minor": 5
}
